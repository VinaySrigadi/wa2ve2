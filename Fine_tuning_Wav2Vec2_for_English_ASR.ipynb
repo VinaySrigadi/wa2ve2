{
  "nbformat": 4,
  "nbformat_minor": 0,
  "metadata": {
    "colab": {
      "name": "Fine-tuning Wav2Vec2 for English ASR",
      "provenance": [],
      "toc_visible": true,
      "machine_shape": "hm",
      "include_colab_link": true
    },
    "kernelspec": {
      "name": "python3",
      "display_name": "Python 3"
    },
    "accelerator": "GPU",
    "widgets": {
      "application/vnd.jupyter.widget-state+json": {
        "a7725ad7a1774178bba1b39b48bee36b": {
          "model_module": "@jupyter-widgets/controls",
          "model_name": "HBoxModel",
          "model_module_version": "1.5.0",
          "state": {
            "_dom_classes": [],
            "_model_module": "@jupyter-widgets/controls",
            "_model_module_version": "1.5.0",
            "_model_name": "HBoxModel",
            "_view_count": null,
            "_view_module": "@jupyter-widgets/controls",
            "_view_module_version": "1.5.0",
            "_view_name": "HBoxView",
            "box_style": "",
            "children": [
              "IPY_MODEL_acc6c975316f4fc9af3f449ccaf71646",
              "IPY_MODEL_2b48e3c58b284b32ae51a3c3afb13d85",
              "IPY_MODEL_7748d6bd4e224b3f836a06b321e72de0"
            ],
            "layout": "IPY_MODEL_b29aab47d701449181b8d8c715b09657"
          }
        },
        "acc6c975316f4fc9af3f449ccaf71646": {
          "model_module": "@jupyter-widgets/controls",
          "model_name": "HTMLModel",
          "model_module_version": "1.5.0",
          "state": {
            "_dom_classes": [],
            "_model_module": "@jupyter-widgets/controls",
            "_model_module_version": "1.5.0",
            "_model_name": "HTMLModel",
            "_view_count": null,
            "_view_module": "@jupyter-widgets/controls",
            "_view_module_version": "1.5.0",
            "_view_name": "HTMLView",
            "description": "",
            "description_tooltip": null,
            "layout": "IPY_MODEL_5cb2c62e3d6f426f8c17eec2fe6e23ae",
            "placeholder": "​",
            "style": "IPY_MODEL_f44a8453ba314ddbb153e1278eb59eec",
            "value": "Upload file pytorch_model.bin: 100%"
          }
        },
        "2b48e3c58b284b32ae51a3c3afb13d85": {
          "model_module": "@jupyter-widgets/controls",
          "model_name": "FloatProgressModel",
          "model_module_version": "1.5.0",
          "state": {
            "_dom_classes": [],
            "_model_module": "@jupyter-widgets/controls",
            "_model_module_version": "1.5.0",
            "_model_name": "FloatProgressModel",
            "_view_count": null,
            "_view_module": "@jupyter-widgets/controls",
            "_view_module_version": "1.5.0",
            "_view_name": "ProgressView",
            "bar_style": "success",
            "description": "",
            "description_tooltip": null,
            "layout": "IPY_MODEL_6ba56300bd3240629256a72060f36fde",
            "max": 377671575,
            "min": 0,
            "orientation": "horizontal",
            "style": "IPY_MODEL_d8f4c2ce266a4a9284572af28ad9ad1c",
            "value": 377671575
          }
        },
        "7748d6bd4e224b3f836a06b321e72de0": {
          "model_module": "@jupyter-widgets/controls",
          "model_name": "HTMLModel",
          "model_module_version": "1.5.0",
          "state": {
            "_dom_classes": [],
            "_model_module": "@jupyter-widgets/controls",
            "_model_module_version": "1.5.0",
            "_model_name": "HTMLModel",
            "_view_count": null,
            "_view_module": "@jupyter-widgets/controls",
            "_view_module_version": "1.5.0",
            "_view_name": "HTMLView",
            "description": "",
            "description_tooltip": null,
            "layout": "IPY_MODEL_4cdbe067372b4c32bc782f966aea7f42",
            "placeholder": "​",
            "style": "IPY_MODEL_afe17562ac7948edab0233eb3804d9cb",
            "value": " 360M/360M [05:26&lt;00:00, 735kB/s]"
          }
        },
        "b29aab47d701449181b8d8c715b09657": {
          "model_module": "@jupyter-widgets/base",
          "model_name": "LayoutModel",
          "model_module_version": "1.2.0",
          "state": {
            "_model_module": "@jupyter-widgets/base",
            "_model_module_version": "1.2.0",
            "_model_name": "LayoutModel",
            "_view_count": null,
            "_view_module": "@jupyter-widgets/base",
            "_view_module_version": "1.2.0",
            "_view_name": "LayoutView",
            "align_content": null,
            "align_items": null,
            "align_self": null,
            "border": null,
            "bottom": null,
            "display": null,
            "flex": null,
            "flex_flow": null,
            "grid_area": null,
            "grid_auto_columns": null,
            "grid_auto_flow": null,
            "grid_auto_rows": null,
            "grid_column": null,
            "grid_gap": null,
            "grid_row": null,
            "grid_template_areas": null,
            "grid_template_columns": null,
            "grid_template_rows": null,
            "height": null,
            "justify_content": null,
            "justify_items": null,
            "left": null,
            "margin": null,
            "max_height": null,
            "max_width": null,
            "min_height": null,
            "min_width": null,
            "object_fit": null,
            "object_position": null,
            "order": null,
            "overflow": null,
            "overflow_x": null,
            "overflow_y": null,
            "padding": null,
            "right": null,
            "top": null,
            "visibility": null,
            "width": null
          }
        },
        "5cb2c62e3d6f426f8c17eec2fe6e23ae": {
          "model_module": "@jupyter-widgets/base",
          "model_name": "LayoutModel",
          "model_module_version": "1.2.0",
          "state": {
            "_model_module": "@jupyter-widgets/base",
            "_model_module_version": "1.2.0",
            "_model_name": "LayoutModel",
            "_view_count": null,
            "_view_module": "@jupyter-widgets/base",
            "_view_module_version": "1.2.0",
            "_view_name": "LayoutView",
            "align_content": null,
            "align_items": null,
            "align_self": null,
            "border": null,
            "bottom": null,
            "display": null,
            "flex": null,
            "flex_flow": null,
            "grid_area": null,
            "grid_auto_columns": null,
            "grid_auto_flow": null,
            "grid_auto_rows": null,
            "grid_column": null,
            "grid_gap": null,
            "grid_row": null,
            "grid_template_areas": null,
            "grid_template_columns": null,
            "grid_template_rows": null,
            "height": null,
            "justify_content": null,
            "justify_items": null,
            "left": null,
            "margin": null,
            "max_height": null,
            "max_width": null,
            "min_height": null,
            "min_width": null,
            "object_fit": null,
            "object_position": null,
            "order": null,
            "overflow": null,
            "overflow_x": null,
            "overflow_y": null,
            "padding": null,
            "right": null,
            "top": null,
            "visibility": null,
            "width": null
          }
        },
        "f44a8453ba314ddbb153e1278eb59eec": {
          "model_module": "@jupyter-widgets/controls",
          "model_name": "DescriptionStyleModel",
          "model_module_version": "1.5.0",
          "state": {
            "_model_module": "@jupyter-widgets/controls",
            "_model_module_version": "1.5.0",
            "_model_name": "DescriptionStyleModel",
            "_view_count": null,
            "_view_module": "@jupyter-widgets/base",
            "_view_module_version": "1.2.0",
            "_view_name": "StyleView",
            "description_width": ""
          }
        },
        "6ba56300bd3240629256a72060f36fde": {
          "model_module": "@jupyter-widgets/base",
          "model_name": "LayoutModel",
          "model_module_version": "1.2.0",
          "state": {
            "_model_module": "@jupyter-widgets/base",
            "_model_module_version": "1.2.0",
            "_model_name": "LayoutModel",
            "_view_count": null,
            "_view_module": "@jupyter-widgets/base",
            "_view_module_version": "1.2.0",
            "_view_name": "LayoutView",
            "align_content": null,
            "align_items": null,
            "align_self": null,
            "border": null,
            "bottom": null,
            "display": null,
            "flex": null,
            "flex_flow": null,
            "grid_area": null,
            "grid_auto_columns": null,
            "grid_auto_flow": null,
            "grid_auto_rows": null,
            "grid_column": null,
            "grid_gap": null,
            "grid_row": null,
            "grid_template_areas": null,
            "grid_template_columns": null,
            "grid_template_rows": null,
            "height": null,
            "justify_content": null,
            "justify_items": null,
            "left": null,
            "margin": null,
            "max_height": null,
            "max_width": null,
            "min_height": null,
            "min_width": null,
            "object_fit": null,
            "object_position": null,
            "order": null,
            "overflow": null,
            "overflow_x": null,
            "overflow_y": null,
            "padding": null,
            "right": null,
            "top": null,
            "visibility": null,
            "width": null
          }
        },
        "d8f4c2ce266a4a9284572af28ad9ad1c": {
          "model_module": "@jupyter-widgets/controls",
          "model_name": "ProgressStyleModel",
          "model_module_version": "1.5.0",
          "state": {
            "_model_module": "@jupyter-widgets/controls",
            "_model_module_version": "1.5.0",
            "_model_name": "ProgressStyleModel",
            "_view_count": null,
            "_view_module": "@jupyter-widgets/base",
            "_view_module_version": "1.2.0",
            "_view_name": "StyleView",
            "bar_color": null,
            "description_width": ""
          }
        },
        "4cdbe067372b4c32bc782f966aea7f42": {
          "model_module": "@jupyter-widgets/base",
          "model_name": "LayoutModel",
          "model_module_version": "1.2.0",
          "state": {
            "_model_module": "@jupyter-widgets/base",
            "_model_module_version": "1.2.0",
            "_model_name": "LayoutModel",
            "_view_count": null,
            "_view_module": "@jupyter-widgets/base",
            "_view_module_version": "1.2.0",
            "_view_name": "LayoutView",
            "align_content": null,
            "align_items": null,
            "align_self": null,
            "border": null,
            "bottom": null,
            "display": null,
            "flex": null,
            "flex_flow": null,
            "grid_area": null,
            "grid_auto_columns": null,
            "grid_auto_flow": null,
            "grid_auto_rows": null,
            "grid_column": null,
            "grid_gap": null,
            "grid_row": null,
            "grid_template_areas": null,
            "grid_template_columns": null,
            "grid_template_rows": null,
            "height": null,
            "justify_content": null,
            "justify_items": null,
            "left": null,
            "margin": null,
            "max_height": null,
            "max_width": null,
            "min_height": null,
            "min_width": null,
            "object_fit": null,
            "object_position": null,
            "order": null,
            "overflow": null,
            "overflow_x": null,
            "overflow_y": null,
            "padding": null,
            "right": null,
            "top": null,
            "visibility": null,
            "width": null
          }
        },
        "afe17562ac7948edab0233eb3804d9cb": {
          "model_module": "@jupyter-widgets/controls",
          "model_name": "DescriptionStyleModel",
          "model_module_version": "1.5.0",
          "state": {
            "_model_module": "@jupyter-widgets/controls",
            "_model_module_version": "1.5.0",
            "_model_name": "DescriptionStyleModel",
            "_view_count": null,
            "_view_module": "@jupyter-widgets/base",
            "_view_module_version": "1.2.0",
            "_view_name": "StyleView",
            "description_width": ""
          }
        },
        "00a02ff8b284413f853da9d7c41afedd": {
          "model_module": "@jupyter-widgets/controls",
          "model_name": "HBoxModel",
          "model_module_version": "1.5.0",
          "state": {
            "_dom_classes": [],
            "_model_module": "@jupyter-widgets/controls",
            "_model_module_version": "1.5.0",
            "_model_name": "HBoxModel",
            "_view_count": null,
            "_view_module": "@jupyter-widgets/controls",
            "_view_module_version": "1.5.0",
            "_view_name": "HBoxView",
            "box_style": "",
            "children": [
              "IPY_MODEL_73b586087e9447e688c97318bf6eba11",
              "IPY_MODEL_6ba8f8fde3fc4050a304df11cc1d2c7c",
              "IPY_MODEL_0ceb294ca03a4bf2ae5586ffbbb6f0fc"
            ],
            "layout": "IPY_MODEL_ffa2bd3495f54f1c81f15ebf50fd4fee"
          }
        },
        "73b586087e9447e688c97318bf6eba11": {
          "model_module": "@jupyter-widgets/controls",
          "model_name": "HTMLModel",
          "model_module_version": "1.5.0",
          "state": {
            "_dom_classes": [],
            "_model_module": "@jupyter-widgets/controls",
            "_model_module_version": "1.5.0",
            "_model_name": "HTMLModel",
            "_view_count": null,
            "_view_module": "@jupyter-widgets/controls",
            "_view_module_version": "1.5.0",
            "_view_name": "HTMLView",
            "description": "",
            "description_tooltip": null,
            "layout": "IPY_MODEL_e53ec4e8ee3d44bb8b3bdcf323335c8a",
            "placeholder": "​",
            "style": "IPY_MODEL_ceef78fab0024c578976ad6c589c0d7f",
            "value": "Upload file runs/May10_11-02-51_d58de38fbf77/1652180636.6085317/events.out.tfevents.1652180636.d58de38fbf77.96.3: 100%"
          }
        },
        "6ba8f8fde3fc4050a304df11cc1d2c7c": {
          "model_module": "@jupyter-widgets/controls",
          "model_name": "FloatProgressModel",
          "model_module_version": "1.5.0",
          "state": {
            "_dom_classes": [],
            "_model_module": "@jupyter-widgets/controls",
            "_model_module_version": "1.5.0",
            "_model_name": "FloatProgressModel",
            "_view_count": null,
            "_view_module": "@jupyter-widgets/controls",
            "_view_module_version": "1.5.0",
            "_view_name": "ProgressView",
            "bar_style": "success",
            "description": "",
            "description_tooltip": null,
            "layout": "IPY_MODEL_35a9027e670146f3a25db0d06035fd1b",
            "max": 4825,
            "min": 0,
            "orientation": "horizontal",
            "style": "IPY_MODEL_0cd65792216b4decaf24961bb33802d0",
            "value": 4825
          }
        },
        "0ceb294ca03a4bf2ae5586ffbbb6f0fc": {
          "model_module": "@jupyter-widgets/controls",
          "model_name": "HTMLModel",
          "model_module_version": "1.5.0",
          "state": {
            "_dom_classes": [],
            "_model_module": "@jupyter-widgets/controls",
            "_model_module_version": "1.5.0",
            "_model_name": "HTMLModel",
            "_view_count": null,
            "_view_module": "@jupyter-widgets/controls",
            "_view_module_version": "1.5.0",
            "_view_name": "HTMLView",
            "description": "",
            "description_tooltip": null,
            "layout": "IPY_MODEL_968f456d45ab4f25aeaf57b0c0ddc190",
            "placeholder": "​",
            "style": "IPY_MODEL_92ae2ab85efc40fa89da650ccbe85e21",
            "value": " 4.71k/4.71k [05:26&lt;00:00, 13.9kB/s]"
          }
        },
        "ffa2bd3495f54f1c81f15ebf50fd4fee": {
          "model_module": "@jupyter-widgets/base",
          "model_name": "LayoutModel",
          "model_module_version": "1.2.0",
          "state": {
            "_model_module": "@jupyter-widgets/base",
            "_model_module_version": "1.2.0",
            "_model_name": "LayoutModel",
            "_view_count": null,
            "_view_module": "@jupyter-widgets/base",
            "_view_module_version": "1.2.0",
            "_view_name": "LayoutView",
            "align_content": null,
            "align_items": null,
            "align_self": null,
            "border": null,
            "bottom": null,
            "display": null,
            "flex": null,
            "flex_flow": null,
            "grid_area": null,
            "grid_auto_columns": null,
            "grid_auto_flow": null,
            "grid_auto_rows": null,
            "grid_column": null,
            "grid_gap": null,
            "grid_row": null,
            "grid_template_areas": null,
            "grid_template_columns": null,
            "grid_template_rows": null,
            "height": null,
            "justify_content": null,
            "justify_items": null,
            "left": null,
            "margin": null,
            "max_height": null,
            "max_width": null,
            "min_height": null,
            "min_width": null,
            "object_fit": null,
            "object_position": null,
            "order": null,
            "overflow": null,
            "overflow_x": null,
            "overflow_y": null,
            "padding": null,
            "right": null,
            "top": null,
            "visibility": null,
            "width": null
          }
        },
        "e53ec4e8ee3d44bb8b3bdcf323335c8a": {
          "model_module": "@jupyter-widgets/base",
          "model_name": "LayoutModel",
          "model_module_version": "1.2.0",
          "state": {
            "_model_module": "@jupyter-widgets/base",
            "_model_module_version": "1.2.0",
            "_model_name": "LayoutModel",
            "_view_count": null,
            "_view_module": "@jupyter-widgets/base",
            "_view_module_version": "1.2.0",
            "_view_name": "LayoutView",
            "align_content": null,
            "align_items": null,
            "align_self": null,
            "border": null,
            "bottom": null,
            "display": null,
            "flex": null,
            "flex_flow": null,
            "grid_area": null,
            "grid_auto_columns": null,
            "grid_auto_flow": null,
            "grid_auto_rows": null,
            "grid_column": null,
            "grid_gap": null,
            "grid_row": null,
            "grid_template_areas": null,
            "grid_template_columns": null,
            "grid_template_rows": null,
            "height": null,
            "justify_content": null,
            "justify_items": null,
            "left": null,
            "margin": null,
            "max_height": null,
            "max_width": null,
            "min_height": null,
            "min_width": null,
            "object_fit": null,
            "object_position": null,
            "order": null,
            "overflow": null,
            "overflow_x": null,
            "overflow_y": null,
            "padding": null,
            "right": null,
            "top": null,
            "visibility": null,
            "width": null
          }
        },
        "ceef78fab0024c578976ad6c589c0d7f": {
          "model_module": "@jupyter-widgets/controls",
          "model_name": "DescriptionStyleModel",
          "model_module_version": "1.5.0",
          "state": {
            "_model_module": "@jupyter-widgets/controls",
            "_model_module_version": "1.5.0",
            "_model_name": "DescriptionStyleModel",
            "_view_count": null,
            "_view_module": "@jupyter-widgets/base",
            "_view_module_version": "1.2.0",
            "_view_name": "StyleView",
            "description_width": ""
          }
        },
        "35a9027e670146f3a25db0d06035fd1b": {
          "model_module": "@jupyter-widgets/base",
          "model_name": "LayoutModel",
          "model_module_version": "1.2.0",
          "state": {
            "_model_module": "@jupyter-widgets/base",
            "_model_module_version": "1.2.0",
            "_model_name": "LayoutModel",
            "_view_count": null,
            "_view_module": "@jupyter-widgets/base",
            "_view_module_version": "1.2.0",
            "_view_name": "LayoutView",
            "align_content": null,
            "align_items": null,
            "align_self": null,
            "border": null,
            "bottom": null,
            "display": null,
            "flex": null,
            "flex_flow": null,
            "grid_area": null,
            "grid_auto_columns": null,
            "grid_auto_flow": null,
            "grid_auto_rows": null,
            "grid_column": null,
            "grid_gap": null,
            "grid_row": null,
            "grid_template_areas": null,
            "grid_template_columns": null,
            "grid_template_rows": null,
            "height": null,
            "justify_content": null,
            "justify_items": null,
            "left": null,
            "margin": null,
            "max_height": null,
            "max_width": null,
            "min_height": null,
            "min_width": null,
            "object_fit": null,
            "object_position": null,
            "order": null,
            "overflow": null,
            "overflow_x": null,
            "overflow_y": null,
            "padding": null,
            "right": null,
            "top": null,
            "visibility": null,
            "width": null
          }
        },
        "0cd65792216b4decaf24961bb33802d0": {
          "model_module": "@jupyter-widgets/controls",
          "model_name": "ProgressStyleModel",
          "model_module_version": "1.5.0",
          "state": {
            "_model_module": "@jupyter-widgets/controls",
            "_model_module_version": "1.5.0",
            "_model_name": "ProgressStyleModel",
            "_view_count": null,
            "_view_module": "@jupyter-widgets/base",
            "_view_module_version": "1.2.0",
            "_view_name": "StyleView",
            "bar_color": null,
            "description_width": ""
          }
        },
        "968f456d45ab4f25aeaf57b0c0ddc190": {
          "model_module": "@jupyter-widgets/base",
          "model_name": "LayoutModel",
          "model_module_version": "1.2.0",
          "state": {
            "_model_module": "@jupyter-widgets/base",
            "_model_module_version": "1.2.0",
            "_model_name": "LayoutModel",
            "_view_count": null,
            "_view_module": "@jupyter-widgets/base",
            "_view_module_version": "1.2.0",
            "_view_name": "LayoutView",
            "align_content": null,
            "align_items": null,
            "align_self": null,
            "border": null,
            "bottom": null,
            "display": null,
            "flex": null,
            "flex_flow": null,
            "grid_area": null,
            "grid_auto_columns": null,
            "grid_auto_flow": null,
            "grid_auto_rows": null,
            "grid_column": null,
            "grid_gap": null,
            "grid_row": null,
            "grid_template_areas": null,
            "grid_template_columns": null,
            "grid_template_rows": null,
            "height": null,
            "justify_content": null,
            "justify_items": null,
            "left": null,
            "margin": null,
            "max_height": null,
            "max_width": null,
            "min_height": null,
            "min_width": null,
            "object_fit": null,
            "object_position": null,
            "order": null,
            "overflow": null,
            "overflow_x": null,
            "overflow_y": null,
            "padding": null,
            "right": null,
            "top": null,
            "visibility": null,
            "width": null
          }
        },
        "92ae2ab85efc40fa89da650ccbe85e21": {
          "model_module": "@jupyter-widgets/controls",
          "model_name": "DescriptionStyleModel",
          "model_module_version": "1.5.0",
          "state": {
            "_model_module": "@jupyter-widgets/controls",
            "_model_module_version": "1.5.0",
            "_model_name": "DescriptionStyleModel",
            "_view_count": null,
            "_view_module": "@jupyter-widgets/base",
            "_view_module_version": "1.2.0",
            "_view_name": "StyleView",
            "description_width": ""
          }
        },
        "e1a34af59be04546808279b6e673c498": {
          "model_module": "@jupyter-widgets/controls",
          "model_name": "HBoxModel",
          "model_module_version": "1.5.0",
          "state": {
            "_dom_classes": [],
            "_model_module": "@jupyter-widgets/controls",
            "_model_module_version": "1.5.0",
            "_model_name": "HBoxModel",
            "_view_count": null,
            "_view_module": "@jupyter-widgets/controls",
            "_view_module_version": "1.5.0",
            "_view_name": "HBoxView",
            "box_style": "",
            "children": [
              "IPY_MODEL_91a9bd637428473192d5ec47ba137268",
              "IPY_MODEL_f11e33bc060746758ad638204b71955c",
              "IPY_MODEL_ef69985b8f7c4662912a11a377e99b59"
            ],
            "layout": "IPY_MODEL_9721f00cdfc942e8ab8a4faf8080ef2d"
          }
        },
        "91a9bd637428473192d5ec47ba137268": {
          "model_module": "@jupyter-widgets/controls",
          "model_name": "HTMLModel",
          "model_module_version": "1.5.0",
          "state": {
            "_dom_classes": [],
            "_model_module": "@jupyter-widgets/controls",
            "_model_module_version": "1.5.0",
            "_model_name": "HTMLModel",
            "_view_count": null,
            "_view_module": "@jupyter-widgets/controls",
            "_view_module_version": "1.5.0",
            "_view_name": "HTMLView",
            "description": "",
            "description_tooltip": null,
            "layout": "IPY_MODEL_196c66080f944a61a537a0ddd9905248",
            "placeholder": "​",
            "style": "IPY_MODEL_e7d54319900548208c3852623ebc3dcf",
            "value": "Upload file training_args.bin: 100%"
          }
        },
        "f11e33bc060746758ad638204b71955c": {
          "model_module": "@jupyter-widgets/controls",
          "model_name": "FloatProgressModel",
          "model_module_version": "1.5.0",
          "state": {
            "_dom_classes": [],
            "_model_module": "@jupyter-widgets/controls",
            "_model_module_version": "1.5.0",
            "_model_name": "FloatProgressModel",
            "_view_count": null,
            "_view_module": "@jupyter-widgets/controls",
            "_view_module_version": "1.5.0",
            "_view_name": "ProgressView",
            "bar_style": "success",
            "description": "",
            "description_tooltip": null,
            "layout": "IPY_MODEL_adbd04cd03624b66a8c725f9a89647b6",
            "max": 3055,
            "min": 0,
            "orientation": "horizontal",
            "style": "IPY_MODEL_200b5fada23d45ff947953003d052605",
            "value": 3055
          }
        },
        "ef69985b8f7c4662912a11a377e99b59": {
          "model_module": "@jupyter-widgets/controls",
          "model_name": "HTMLModel",
          "model_module_version": "1.5.0",
          "state": {
            "_dom_classes": [],
            "_model_module": "@jupyter-widgets/controls",
            "_model_module_version": "1.5.0",
            "_model_name": "HTMLModel",
            "_view_count": null,
            "_view_module": "@jupyter-widgets/controls",
            "_view_module_version": "1.5.0",
            "_view_name": "HTMLView",
            "description": "",
            "description_tooltip": null,
            "layout": "IPY_MODEL_8c89f99cd7b9408eafbfbf8e0c56d39c",
            "placeholder": "​",
            "style": "IPY_MODEL_a40561b6f013481ba77fa137ab43b1c2",
            "value": " 2.98k/2.98k [05:26&lt;?, ?B/s]"
          }
        },
        "9721f00cdfc942e8ab8a4faf8080ef2d": {
          "model_module": "@jupyter-widgets/base",
          "model_name": "LayoutModel",
          "model_module_version": "1.2.0",
          "state": {
            "_model_module": "@jupyter-widgets/base",
            "_model_module_version": "1.2.0",
            "_model_name": "LayoutModel",
            "_view_count": null,
            "_view_module": "@jupyter-widgets/base",
            "_view_module_version": "1.2.0",
            "_view_name": "LayoutView",
            "align_content": null,
            "align_items": null,
            "align_self": null,
            "border": null,
            "bottom": null,
            "display": null,
            "flex": null,
            "flex_flow": null,
            "grid_area": null,
            "grid_auto_columns": null,
            "grid_auto_flow": null,
            "grid_auto_rows": null,
            "grid_column": null,
            "grid_gap": null,
            "grid_row": null,
            "grid_template_areas": null,
            "grid_template_columns": null,
            "grid_template_rows": null,
            "height": null,
            "justify_content": null,
            "justify_items": null,
            "left": null,
            "margin": null,
            "max_height": null,
            "max_width": null,
            "min_height": null,
            "min_width": null,
            "object_fit": null,
            "object_position": null,
            "order": null,
            "overflow": null,
            "overflow_x": null,
            "overflow_y": null,
            "padding": null,
            "right": null,
            "top": null,
            "visibility": null,
            "width": null
          }
        },
        "196c66080f944a61a537a0ddd9905248": {
          "model_module": "@jupyter-widgets/base",
          "model_name": "LayoutModel",
          "model_module_version": "1.2.0",
          "state": {
            "_model_module": "@jupyter-widgets/base",
            "_model_module_version": "1.2.0",
            "_model_name": "LayoutModel",
            "_view_count": null,
            "_view_module": "@jupyter-widgets/base",
            "_view_module_version": "1.2.0",
            "_view_name": "LayoutView",
            "align_content": null,
            "align_items": null,
            "align_self": null,
            "border": null,
            "bottom": null,
            "display": null,
            "flex": null,
            "flex_flow": null,
            "grid_area": null,
            "grid_auto_columns": null,
            "grid_auto_flow": null,
            "grid_auto_rows": null,
            "grid_column": null,
            "grid_gap": null,
            "grid_row": null,
            "grid_template_areas": null,
            "grid_template_columns": null,
            "grid_template_rows": null,
            "height": null,
            "justify_content": null,
            "justify_items": null,
            "left": null,
            "margin": null,
            "max_height": null,
            "max_width": null,
            "min_height": null,
            "min_width": null,
            "object_fit": null,
            "object_position": null,
            "order": null,
            "overflow": null,
            "overflow_x": null,
            "overflow_y": null,
            "padding": null,
            "right": null,
            "top": null,
            "visibility": null,
            "width": null
          }
        },
        "e7d54319900548208c3852623ebc3dcf": {
          "model_module": "@jupyter-widgets/controls",
          "model_name": "DescriptionStyleModel",
          "model_module_version": "1.5.0",
          "state": {
            "_model_module": "@jupyter-widgets/controls",
            "_model_module_version": "1.5.0",
            "_model_name": "DescriptionStyleModel",
            "_view_count": null,
            "_view_module": "@jupyter-widgets/base",
            "_view_module_version": "1.2.0",
            "_view_name": "StyleView",
            "description_width": ""
          }
        },
        "adbd04cd03624b66a8c725f9a89647b6": {
          "model_module": "@jupyter-widgets/base",
          "model_name": "LayoutModel",
          "model_module_version": "1.2.0",
          "state": {
            "_model_module": "@jupyter-widgets/base",
            "_model_module_version": "1.2.0",
            "_model_name": "LayoutModel",
            "_view_count": null,
            "_view_module": "@jupyter-widgets/base",
            "_view_module_version": "1.2.0",
            "_view_name": "LayoutView",
            "align_content": null,
            "align_items": null,
            "align_self": null,
            "border": null,
            "bottom": null,
            "display": null,
            "flex": null,
            "flex_flow": null,
            "grid_area": null,
            "grid_auto_columns": null,
            "grid_auto_flow": null,
            "grid_auto_rows": null,
            "grid_column": null,
            "grid_gap": null,
            "grid_row": null,
            "grid_template_areas": null,
            "grid_template_columns": null,
            "grid_template_rows": null,
            "height": null,
            "justify_content": null,
            "justify_items": null,
            "left": null,
            "margin": null,
            "max_height": null,
            "max_width": null,
            "min_height": null,
            "min_width": null,
            "object_fit": null,
            "object_position": null,
            "order": null,
            "overflow": null,
            "overflow_x": null,
            "overflow_y": null,
            "padding": null,
            "right": null,
            "top": null,
            "visibility": null,
            "width": null
          }
        },
        "200b5fada23d45ff947953003d052605": {
          "model_module": "@jupyter-widgets/controls",
          "model_name": "ProgressStyleModel",
          "model_module_version": "1.5.0",
          "state": {
            "_model_module": "@jupyter-widgets/controls",
            "_model_module_version": "1.5.0",
            "_model_name": "ProgressStyleModel",
            "_view_count": null,
            "_view_module": "@jupyter-widgets/base",
            "_view_module_version": "1.2.0",
            "_view_name": "StyleView",
            "bar_color": null,
            "description_width": ""
          }
        },
        "8c89f99cd7b9408eafbfbf8e0c56d39c": {
          "model_module": "@jupyter-widgets/base",
          "model_name": "LayoutModel",
          "model_module_version": "1.2.0",
          "state": {
            "_model_module": "@jupyter-widgets/base",
            "_model_module_version": "1.2.0",
            "_model_name": "LayoutModel",
            "_view_count": null,
            "_view_module": "@jupyter-widgets/base",
            "_view_module_version": "1.2.0",
            "_view_name": "LayoutView",
            "align_content": null,
            "align_items": null,
            "align_self": null,
            "border": null,
            "bottom": null,
            "display": null,
            "flex": null,
            "flex_flow": null,
            "grid_area": null,
            "grid_auto_columns": null,
            "grid_auto_flow": null,
            "grid_auto_rows": null,
            "grid_column": null,
            "grid_gap": null,
            "grid_row": null,
            "grid_template_areas": null,
            "grid_template_columns": null,
            "grid_template_rows": null,
            "height": null,
            "justify_content": null,
            "justify_items": null,
            "left": null,
            "margin": null,
            "max_height": null,
            "max_width": null,
            "min_height": null,
            "min_width": null,
            "object_fit": null,
            "object_position": null,
            "order": null,
            "overflow": null,
            "overflow_x": null,
            "overflow_y": null,
            "padding": null,
            "right": null,
            "top": null,
            "visibility": null,
            "width": null
          }
        },
        "a40561b6f013481ba77fa137ab43b1c2": {
          "model_module": "@jupyter-widgets/controls",
          "model_name": "DescriptionStyleModel",
          "model_module_version": "1.5.0",
          "state": {
            "_model_module": "@jupyter-widgets/controls",
            "_model_module_version": "1.5.0",
            "_model_name": "DescriptionStyleModel",
            "_view_count": null,
            "_view_module": "@jupyter-widgets/base",
            "_view_module_version": "1.2.0",
            "_view_name": "StyleView",
            "description_width": ""
          }
        },
        "63ee5e2413434249bd47a8d662ec0da6": {
          "model_module": "@jupyter-widgets/controls",
          "model_name": "HBoxModel",
          "model_module_version": "1.5.0",
          "state": {
            "_dom_classes": [],
            "_model_module": "@jupyter-widgets/controls",
            "_model_module_version": "1.5.0",
            "_model_name": "HBoxModel",
            "_view_count": null,
            "_view_module": "@jupyter-widgets/controls",
            "_view_module_version": "1.5.0",
            "_view_name": "HBoxView",
            "box_style": "",
            "children": [
              "IPY_MODEL_d10215d60b9f471ab681a948ad143159",
              "IPY_MODEL_bcb33e49c5ab412eb5b8cd823cf06706",
              "IPY_MODEL_f23b78d30ff040f481b5584a83083b39"
            ],
            "layout": "IPY_MODEL_fe39df4b5e9d41f6a0233bafb4522dd4"
          }
        },
        "d10215d60b9f471ab681a948ad143159": {
          "model_module": "@jupyter-widgets/controls",
          "model_name": "HTMLModel",
          "model_module_version": "1.5.0",
          "state": {
            "_dom_classes": [],
            "_model_module": "@jupyter-widgets/controls",
            "_model_module_version": "1.5.0",
            "_model_name": "HTMLModel",
            "_view_count": null,
            "_view_module": "@jupyter-widgets/controls",
            "_view_module_version": "1.5.0",
            "_view_name": "HTMLView",
            "description": "",
            "description_tooltip": null,
            "layout": "IPY_MODEL_6cac8e9fcefd4353a76244f89ff459e1",
            "placeholder": "​",
            "style": "IPY_MODEL_4f70c2c356074adf9aa7c1fb6b20f8e3",
            "value": "Upload file runs/May10_11-02-51_d58de38fbf77/events.out.tfevents.1652180636.d58de38fbf77.96.2: 100%"
          }
        },
        "bcb33e49c5ab412eb5b8cd823cf06706": {
          "model_module": "@jupyter-widgets/controls",
          "model_name": "FloatProgressModel",
          "model_module_version": "1.5.0",
          "state": {
            "_dom_classes": [],
            "_model_module": "@jupyter-widgets/controls",
            "_model_module_version": "1.5.0",
            "_model_name": "FloatProgressModel",
            "_view_count": null,
            "_view_module": "@jupyter-widgets/controls",
            "_view_module_version": "1.5.0",
            "_view_name": "ProgressView",
            "bar_style": "success",
            "description": "",
            "description_tooltip": null,
            "layout": "IPY_MODEL_4cc884973b734098a135619736b5f599",
            "max": 19164,
            "min": 0,
            "orientation": "horizontal",
            "style": "IPY_MODEL_fd72ea27c82843ceb5fdb74886fc5b44",
            "value": 19164
          }
        },
        "f23b78d30ff040f481b5584a83083b39": {
          "model_module": "@jupyter-widgets/controls",
          "model_name": "HTMLModel",
          "model_module_version": "1.5.0",
          "state": {
            "_dom_classes": [],
            "_model_module": "@jupyter-widgets/controls",
            "_model_module_version": "1.5.0",
            "_model_name": "HTMLModel",
            "_view_count": null,
            "_view_module": "@jupyter-widgets/controls",
            "_view_module_version": "1.5.0",
            "_view_name": "HTMLView",
            "description": "",
            "description_tooltip": null,
            "layout": "IPY_MODEL_28b1ff0d507e40fb84e4083537207de4",
            "placeholder": "​",
            "style": "IPY_MODEL_bf2896c4b25147f0a303c748fa2b0cd9",
            "value": " 18.7k/18.7k [05:26&lt;00:00, 48.2B/s]"
          }
        },
        "fe39df4b5e9d41f6a0233bafb4522dd4": {
          "model_module": "@jupyter-widgets/base",
          "model_name": "LayoutModel",
          "model_module_version": "1.2.0",
          "state": {
            "_model_module": "@jupyter-widgets/base",
            "_model_module_version": "1.2.0",
            "_model_name": "LayoutModel",
            "_view_count": null,
            "_view_module": "@jupyter-widgets/base",
            "_view_module_version": "1.2.0",
            "_view_name": "LayoutView",
            "align_content": null,
            "align_items": null,
            "align_self": null,
            "border": null,
            "bottom": null,
            "display": null,
            "flex": null,
            "flex_flow": null,
            "grid_area": null,
            "grid_auto_columns": null,
            "grid_auto_flow": null,
            "grid_auto_rows": null,
            "grid_column": null,
            "grid_gap": null,
            "grid_row": null,
            "grid_template_areas": null,
            "grid_template_columns": null,
            "grid_template_rows": null,
            "height": null,
            "justify_content": null,
            "justify_items": null,
            "left": null,
            "margin": null,
            "max_height": null,
            "max_width": null,
            "min_height": null,
            "min_width": null,
            "object_fit": null,
            "object_position": null,
            "order": null,
            "overflow": null,
            "overflow_x": null,
            "overflow_y": null,
            "padding": null,
            "right": null,
            "top": null,
            "visibility": null,
            "width": null
          }
        },
        "6cac8e9fcefd4353a76244f89ff459e1": {
          "model_module": "@jupyter-widgets/base",
          "model_name": "LayoutModel",
          "model_module_version": "1.2.0",
          "state": {
            "_model_module": "@jupyter-widgets/base",
            "_model_module_version": "1.2.0",
            "_model_name": "LayoutModel",
            "_view_count": null,
            "_view_module": "@jupyter-widgets/base",
            "_view_module_version": "1.2.0",
            "_view_name": "LayoutView",
            "align_content": null,
            "align_items": null,
            "align_self": null,
            "border": null,
            "bottom": null,
            "display": null,
            "flex": null,
            "flex_flow": null,
            "grid_area": null,
            "grid_auto_columns": null,
            "grid_auto_flow": null,
            "grid_auto_rows": null,
            "grid_column": null,
            "grid_gap": null,
            "grid_row": null,
            "grid_template_areas": null,
            "grid_template_columns": null,
            "grid_template_rows": null,
            "height": null,
            "justify_content": null,
            "justify_items": null,
            "left": null,
            "margin": null,
            "max_height": null,
            "max_width": null,
            "min_height": null,
            "min_width": null,
            "object_fit": null,
            "object_position": null,
            "order": null,
            "overflow": null,
            "overflow_x": null,
            "overflow_y": null,
            "padding": null,
            "right": null,
            "top": null,
            "visibility": null,
            "width": null
          }
        },
        "4f70c2c356074adf9aa7c1fb6b20f8e3": {
          "model_module": "@jupyter-widgets/controls",
          "model_name": "DescriptionStyleModel",
          "model_module_version": "1.5.0",
          "state": {
            "_model_module": "@jupyter-widgets/controls",
            "_model_module_version": "1.5.0",
            "_model_name": "DescriptionStyleModel",
            "_view_count": null,
            "_view_module": "@jupyter-widgets/base",
            "_view_module_version": "1.2.0",
            "_view_name": "StyleView",
            "description_width": ""
          }
        },
        "4cc884973b734098a135619736b5f599": {
          "model_module": "@jupyter-widgets/base",
          "model_name": "LayoutModel",
          "model_module_version": "1.2.0",
          "state": {
            "_model_module": "@jupyter-widgets/base",
            "_model_module_version": "1.2.0",
            "_model_name": "LayoutModel",
            "_view_count": null,
            "_view_module": "@jupyter-widgets/base",
            "_view_module_version": "1.2.0",
            "_view_name": "LayoutView",
            "align_content": null,
            "align_items": null,
            "align_self": null,
            "border": null,
            "bottom": null,
            "display": null,
            "flex": null,
            "flex_flow": null,
            "grid_area": null,
            "grid_auto_columns": null,
            "grid_auto_flow": null,
            "grid_auto_rows": null,
            "grid_column": null,
            "grid_gap": null,
            "grid_row": null,
            "grid_template_areas": null,
            "grid_template_columns": null,
            "grid_template_rows": null,
            "height": null,
            "justify_content": null,
            "justify_items": null,
            "left": null,
            "margin": null,
            "max_height": null,
            "max_width": null,
            "min_height": null,
            "min_width": null,
            "object_fit": null,
            "object_position": null,
            "order": null,
            "overflow": null,
            "overflow_x": null,
            "overflow_y": null,
            "padding": null,
            "right": null,
            "top": null,
            "visibility": null,
            "width": null
          }
        },
        "fd72ea27c82843ceb5fdb74886fc5b44": {
          "model_module": "@jupyter-widgets/controls",
          "model_name": "ProgressStyleModel",
          "model_module_version": "1.5.0",
          "state": {
            "_model_module": "@jupyter-widgets/controls",
            "_model_module_version": "1.5.0",
            "_model_name": "ProgressStyleModel",
            "_view_count": null,
            "_view_module": "@jupyter-widgets/base",
            "_view_module_version": "1.2.0",
            "_view_name": "StyleView",
            "bar_color": null,
            "description_width": ""
          }
        },
        "28b1ff0d507e40fb84e4083537207de4": {
          "model_module": "@jupyter-widgets/base",
          "model_name": "LayoutModel",
          "model_module_version": "1.2.0",
          "state": {
            "_model_module": "@jupyter-widgets/base",
            "_model_module_version": "1.2.0",
            "_model_name": "LayoutModel",
            "_view_count": null,
            "_view_module": "@jupyter-widgets/base",
            "_view_module_version": "1.2.0",
            "_view_name": "LayoutView",
            "align_content": null,
            "align_items": null,
            "align_self": null,
            "border": null,
            "bottom": null,
            "display": null,
            "flex": null,
            "flex_flow": null,
            "grid_area": null,
            "grid_auto_columns": null,
            "grid_auto_flow": null,
            "grid_auto_rows": null,
            "grid_column": null,
            "grid_gap": null,
            "grid_row": null,
            "grid_template_areas": null,
            "grid_template_columns": null,
            "grid_template_rows": null,
            "height": null,
            "justify_content": null,
            "justify_items": null,
            "left": null,
            "margin": null,
            "max_height": null,
            "max_width": null,
            "min_height": null,
            "min_width": null,
            "object_fit": null,
            "object_position": null,
            "order": null,
            "overflow": null,
            "overflow_x": null,
            "overflow_y": null,
            "padding": null,
            "right": null,
            "top": null,
            "visibility": null,
            "width": null
          }
        },
        "bf2896c4b25147f0a303c748fa2b0cd9": {
          "model_module": "@jupyter-widgets/controls",
          "model_name": "DescriptionStyleModel",
          "model_module_version": "1.5.0",
          "state": {
            "_model_module": "@jupyter-widgets/controls",
            "_model_module_version": "1.5.0",
            "_model_name": "DescriptionStyleModel",
            "_view_count": null,
            "_view_module": "@jupyter-widgets/base",
            "_view_module_version": "1.2.0",
            "_view_name": "StyleView",
            "description_width": ""
          }
        },
        "524b5795780746f5966c06b878cc0fbc": {
          "model_module": "@jupyter-widgets/controls",
          "model_name": "HBoxModel",
          "model_module_version": "1.5.0",
          "state": {
            "_dom_classes": [],
            "_model_module": "@jupyter-widgets/controls",
            "_model_module_version": "1.5.0",
            "_model_name": "HBoxModel",
            "_view_count": null,
            "_view_module": "@jupyter-widgets/controls",
            "_view_module_version": "1.5.0",
            "_view_name": "HBoxView",
            "box_style": "",
            "children": [
              "IPY_MODEL_8eb41fee8e1c452a9d69a07a266d871a",
              "IPY_MODEL_f22febfc3bbe48058be84b2a20e906f5",
              "IPY_MODEL_ab51fefefa1b464a9a780b80c6f0c020"
            ],
            "layout": "IPY_MODEL_88fd1cb973f8485b97caa19b7801c3d3"
          }
        },
        "8eb41fee8e1c452a9d69a07a266d871a": {
          "model_module": "@jupyter-widgets/controls",
          "model_name": "HTMLModel",
          "model_module_version": "1.5.0",
          "state": {
            "_dom_classes": [],
            "_model_module": "@jupyter-widgets/controls",
            "_model_module_version": "1.5.0",
            "_model_name": "HTMLModel",
            "_view_count": null,
            "_view_module": "@jupyter-widgets/controls",
            "_view_module_version": "1.5.0",
            "_view_name": "HTMLView",
            "description": "",
            "description_tooltip": null,
            "layout": "IPY_MODEL_3234edc4a75e4658acd19feef174e88f",
            "placeholder": "​",
            "style": "IPY_MODEL_6bfe6219ad934146a4d680e38ed19879",
            "value": "Downloading: 100%"
          }
        },
        "f22febfc3bbe48058be84b2a20e906f5": {
          "model_module": "@jupyter-widgets/controls",
          "model_name": "FloatProgressModel",
          "model_module_version": "1.5.0",
          "state": {
            "_dom_classes": [],
            "_model_module": "@jupyter-widgets/controls",
            "_model_module_version": "1.5.0",
            "_model_name": "FloatProgressModel",
            "_view_count": null,
            "_view_module": "@jupyter-widgets/controls",
            "_view_module_version": "1.5.0",
            "_view_name": "ProgressView",
            "bar_style": "success",
            "description": "",
            "description_tooltip": null,
            "layout": "IPY_MODEL_63e9fc689ea54fbfa7226cc9918977cb",
            "max": 215,
            "min": 0,
            "orientation": "horizontal",
            "style": "IPY_MODEL_dc034b4bf9e34963ab79f391c55d44ac",
            "value": 215
          }
        },
        "ab51fefefa1b464a9a780b80c6f0c020": {
          "model_module": "@jupyter-widgets/controls",
          "model_name": "HTMLModel",
          "model_module_version": "1.5.0",
          "state": {
            "_dom_classes": [],
            "_model_module": "@jupyter-widgets/controls",
            "_model_module_version": "1.5.0",
            "_model_name": "HTMLModel",
            "_view_count": null,
            "_view_module": "@jupyter-widgets/controls",
            "_view_module_version": "1.5.0",
            "_view_name": "HTMLView",
            "description": "",
            "description_tooltip": null,
            "layout": "IPY_MODEL_6b3288ffeef34c2a925d2554c7c4f521",
            "placeholder": "​",
            "style": "IPY_MODEL_116e45bbe2d640d18d6a47309692dc20",
            "value": " 215/215 [00:00&lt;00:00, 8.22kB/s]"
          }
        },
        "88fd1cb973f8485b97caa19b7801c3d3": {
          "model_module": "@jupyter-widgets/base",
          "model_name": "LayoutModel",
          "model_module_version": "1.2.0",
          "state": {
            "_model_module": "@jupyter-widgets/base",
            "_model_module_version": "1.2.0",
            "_model_name": "LayoutModel",
            "_view_count": null,
            "_view_module": "@jupyter-widgets/base",
            "_view_module_version": "1.2.0",
            "_view_name": "LayoutView",
            "align_content": null,
            "align_items": null,
            "align_self": null,
            "border": null,
            "bottom": null,
            "display": null,
            "flex": null,
            "flex_flow": null,
            "grid_area": null,
            "grid_auto_columns": null,
            "grid_auto_flow": null,
            "grid_auto_rows": null,
            "grid_column": null,
            "grid_gap": null,
            "grid_row": null,
            "grid_template_areas": null,
            "grid_template_columns": null,
            "grid_template_rows": null,
            "height": null,
            "justify_content": null,
            "justify_items": null,
            "left": null,
            "margin": null,
            "max_height": null,
            "max_width": null,
            "min_height": null,
            "min_width": null,
            "object_fit": null,
            "object_position": null,
            "order": null,
            "overflow": null,
            "overflow_x": null,
            "overflow_y": null,
            "padding": null,
            "right": null,
            "top": null,
            "visibility": null,
            "width": null
          }
        },
        "3234edc4a75e4658acd19feef174e88f": {
          "model_module": "@jupyter-widgets/base",
          "model_name": "LayoutModel",
          "model_module_version": "1.2.0",
          "state": {
            "_model_module": "@jupyter-widgets/base",
            "_model_module_version": "1.2.0",
            "_model_name": "LayoutModel",
            "_view_count": null,
            "_view_module": "@jupyter-widgets/base",
            "_view_module_version": "1.2.0",
            "_view_name": "LayoutView",
            "align_content": null,
            "align_items": null,
            "align_self": null,
            "border": null,
            "bottom": null,
            "display": null,
            "flex": null,
            "flex_flow": null,
            "grid_area": null,
            "grid_auto_columns": null,
            "grid_auto_flow": null,
            "grid_auto_rows": null,
            "grid_column": null,
            "grid_gap": null,
            "grid_row": null,
            "grid_template_areas": null,
            "grid_template_columns": null,
            "grid_template_rows": null,
            "height": null,
            "justify_content": null,
            "justify_items": null,
            "left": null,
            "margin": null,
            "max_height": null,
            "max_width": null,
            "min_height": null,
            "min_width": null,
            "object_fit": null,
            "object_position": null,
            "order": null,
            "overflow": null,
            "overflow_x": null,
            "overflow_y": null,
            "padding": null,
            "right": null,
            "top": null,
            "visibility": null,
            "width": null
          }
        },
        "6bfe6219ad934146a4d680e38ed19879": {
          "model_module": "@jupyter-widgets/controls",
          "model_name": "DescriptionStyleModel",
          "model_module_version": "1.5.0",
          "state": {
            "_model_module": "@jupyter-widgets/controls",
            "_model_module_version": "1.5.0",
            "_model_name": "DescriptionStyleModel",
            "_view_count": null,
            "_view_module": "@jupyter-widgets/base",
            "_view_module_version": "1.2.0",
            "_view_name": "StyleView",
            "description_width": ""
          }
        },
        "63e9fc689ea54fbfa7226cc9918977cb": {
          "model_module": "@jupyter-widgets/base",
          "model_name": "LayoutModel",
          "model_module_version": "1.2.0",
          "state": {
            "_model_module": "@jupyter-widgets/base",
            "_model_module_version": "1.2.0",
            "_model_name": "LayoutModel",
            "_view_count": null,
            "_view_module": "@jupyter-widgets/base",
            "_view_module_version": "1.2.0",
            "_view_name": "LayoutView",
            "align_content": null,
            "align_items": null,
            "align_self": null,
            "border": null,
            "bottom": null,
            "display": null,
            "flex": null,
            "flex_flow": null,
            "grid_area": null,
            "grid_auto_columns": null,
            "grid_auto_flow": null,
            "grid_auto_rows": null,
            "grid_column": null,
            "grid_gap": null,
            "grid_row": null,
            "grid_template_areas": null,
            "grid_template_columns": null,
            "grid_template_rows": null,
            "height": null,
            "justify_content": null,
            "justify_items": null,
            "left": null,
            "margin": null,
            "max_height": null,
            "max_width": null,
            "min_height": null,
            "min_width": null,
            "object_fit": null,
            "object_position": null,
            "order": null,
            "overflow": null,
            "overflow_x": null,
            "overflow_y": null,
            "padding": null,
            "right": null,
            "top": null,
            "visibility": null,
            "width": null
          }
        },
        "dc034b4bf9e34963ab79f391c55d44ac": {
          "model_module": "@jupyter-widgets/controls",
          "model_name": "ProgressStyleModel",
          "model_module_version": "1.5.0",
          "state": {
            "_model_module": "@jupyter-widgets/controls",
            "_model_module_version": "1.5.0",
            "_model_name": "ProgressStyleModel",
            "_view_count": null,
            "_view_module": "@jupyter-widgets/base",
            "_view_module_version": "1.2.0",
            "_view_name": "StyleView",
            "bar_color": null,
            "description_width": ""
          }
        },
        "6b3288ffeef34c2a925d2554c7c4f521": {
          "model_module": "@jupyter-widgets/base",
          "model_name": "LayoutModel",
          "model_module_version": "1.2.0",
          "state": {
            "_model_module": "@jupyter-widgets/base",
            "_model_module_version": "1.2.0",
            "_model_name": "LayoutModel",
            "_view_count": null,
            "_view_module": "@jupyter-widgets/base",
            "_view_module_version": "1.2.0",
            "_view_name": "LayoutView",
            "align_content": null,
            "align_items": null,
            "align_self": null,
            "border": null,
            "bottom": null,
            "display": null,
            "flex": null,
            "flex_flow": null,
            "grid_area": null,
            "grid_auto_columns": null,
            "grid_auto_flow": null,
            "grid_auto_rows": null,
            "grid_column": null,
            "grid_gap": null,
            "grid_row": null,
            "grid_template_areas": null,
            "grid_template_columns": null,
            "grid_template_rows": null,
            "height": null,
            "justify_content": null,
            "justify_items": null,
            "left": null,
            "margin": null,
            "max_height": null,
            "max_width": null,
            "min_height": null,
            "min_width": null,
            "object_fit": null,
            "object_position": null,
            "order": null,
            "overflow": null,
            "overflow_x": null,
            "overflow_y": null,
            "padding": null,
            "right": null,
            "top": null,
            "visibility": null,
            "width": null
          }
        },
        "116e45bbe2d640d18d6a47309692dc20": {
          "model_module": "@jupyter-widgets/controls",
          "model_name": "DescriptionStyleModel",
          "model_module_version": "1.5.0",
          "state": {
            "_model_module": "@jupyter-widgets/controls",
            "_model_module_version": "1.5.0",
            "_model_name": "DescriptionStyleModel",
            "_view_count": null,
            "_view_module": "@jupyter-widgets/base",
            "_view_module_version": "1.2.0",
            "_view_name": "StyleView",
            "description_width": ""
          }
        },
        "66d5a397b26e4d66a97bc3b3159e96bd": {
          "model_module": "@jupyter-widgets/controls",
          "model_name": "HBoxModel",
          "model_module_version": "1.5.0",
          "state": {
            "_dom_classes": [],
            "_model_module": "@jupyter-widgets/controls",
            "_model_module_version": "1.5.0",
            "_model_name": "HBoxModel",
            "_view_count": null,
            "_view_module": "@jupyter-widgets/controls",
            "_view_module_version": "1.5.0",
            "_view_name": "HBoxView",
            "box_style": "",
            "children": [
              "IPY_MODEL_041870fd5bac43b394956252364a16c4",
              "IPY_MODEL_26f6574d99724fb29159071dda6039b5",
              "IPY_MODEL_55d0bfd5c746402f89e6b86a7ca37b3a"
            ],
            "layout": "IPY_MODEL_b69bad861f014c20b4cb470c73b1fe37"
          }
        },
        "041870fd5bac43b394956252364a16c4": {
          "model_module": "@jupyter-widgets/controls",
          "model_name": "HTMLModel",
          "model_module_version": "1.5.0",
          "state": {
            "_dom_classes": [],
            "_model_module": "@jupyter-widgets/controls",
            "_model_module_version": "1.5.0",
            "_model_name": "HTMLModel",
            "_view_count": null,
            "_view_module": "@jupyter-widgets/controls",
            "_view_module_version": "1.5.0",
            "_view_name": "HTMLView",
            "description": "",
            "description_tooltip": null,
            "layout": "IPY_MODEL_940e030ce7ae40d68136ddf1a1a67736",
            "placeholder": "​",
            "style": "IPY_MODEL_c80bdd3bae794c08b81c950a33ff9ba0",
            "value": "Downloading: 100%"
          }
        },
        "26f6574d99724fb29159071dda6039b5": {
          "model_module": "@jupyter-widgets/controls",
          "model_name": "FloatProgressModel",
          "model_module_version": "1.5.0",
          "state": {
            "_dom_classes": [],
            "_model_module": "@jupyter-widgets/controls",
            "_model_module_version": "1.5.0",
            "_model_name": "FloatProgressModel",
            "_view_count": null,
            "_view_module": "@jupyter-widgets/controls",
            "_view_module_version": "1.5.0",
            "_view_name": "ProgressView",
            "bar_style": "success",
            "description": "",
            "description_tooltip": null,
            "layout": "IPY_MODEL_7b0c8bc5bb66433384aeb47bf99001ae",
            "max": 217,
            "min": 0,
            "orientation": "horizontal",
            "style": "IPY_MODEL_6b03d462bd0f4fbeab0df76bbb881621",
            "value": 217
          }
        },
        "55d0bfd5c746402f89e6b86a7ca37b3a": {
          "model_module": "@jupyter-widgets/controls",
          "model_name": "HTMLModel",
          "model_module_version": "1.5.0",
          "state": {
            "_dom_classes": [],
            "_model_module": "@jupyter-widgets/controls",
            "_model_module_version": "1.5.0",
            "_model_name": "HTMLModel",
            "_view_count": null,
            "_view_module": "@jupyter-widgets/controls",
            "_view_module_version": "1.5.0",
            "_view_name": "HTMLView",
            "description": "",
            "description_tooltip": null,
            "layout": "IPY_MODEL_be78bdab8638431e80c087a0fe9a7a8f",
            "placeholder": "​",
            "style": "IPY_MODEL_d44a1f0b3216469fb1ac597951f9471a",
            "value": " 217/217 [00:00&lt;00:00, 8.74kB/s]"
          }
        },
        "b69bad861f014c20b4cb470c73b1fe37": {
          "model_module": "@jupyter-widgets/base",
          "model_name": "LayoutModel",
          "model_module_version": "1.2.0",
          "state": {
            "_model_module": "@jupyter-widgets/base",
            "_model_module_version": "1.2.0",
            "_model_name": "LayoutModel",
            "_view_count": null,
            "_view_module": "@jupyter-widgets/base",
            "_view_module_version": "1.2.0",
            "_view_name": "LayoutView",
            "align_content": null,
            "align_items": null,
            "align_self": null,
            "border": null,
            "bottom": null,
            "display": null,
            "flex": null,
            "flex_flow": null,
            "grid_area": null,
            "grid_auto_columns": null,
            "grid_auto_flow": null,
            "grid_auto_rows": null,
            "grid_column": null,
            "grid_gap": null,
            "grid_row": null,
            "grid_template_areas": null,
            "grid_template_columns": null,
            "grid_template_rows": null,
            "height": null,
            "justify_content": null,
            "justify_items": null,
            "left": null,
            "margin": null,
            "max_height": null,
            "max_width": null,
            "min_height": null,
            "min_width": null,
            "object_fit": null,
            "object_position": null,
            "order": null,
            "overflow": null,
            "overflow_x": null,
            "overflow_y": null,
            "padding": null,
            "right": null,
            "top": null,
            "visibility": null,
            "width": null
          }
        },
        "940e030ce7ae40d68136ddf1a1a67736": {
          "model_module": "@jupyter-widgets/base",
          "model_name": "LayoutModel",
          "model_module_version": "1.2.0",
          "state": {
            "_model_module": "@jupyter-widgets/base",
            "_model_module_version": "1.2.0",
            "_model_name": "LayoutModel",
            "_view_count": null,
            "_view_module": "@jupyter-widgets/base",
            "_view_module_version": "1.2.0",
            "_view_name": "LayoutView",
            "align_content": null,
            "align_items": null,
            "align_self": null,
            "border": null,
            "bottom": null,
            "display": null,
            "flex": null,
            "flex_flow": null,
            "grid_area": null,
            "grid_auto_columns": null,
            "grid_auto_flow": null,
            "grid_auto_rows": null,
            "grid_column": null,
            "grid_gap": null,
            "grid_row": null,
            "grid_template_areas": null,
            "grid_template_columns": null,
            "grid_template_rows": null,
            "height": null,
            "justify_content": null,
            "justify_items": null,
            "left": null,
            "margin": null,
            "max_height": null,
            "max_width": null,
            "min_height": null,
            "min_width": null,
            "object_fit": null,
            "object_position": null,
            "order": null,
            "overflow": null,
            "overflow_x": null,
            "overflow_y": null,
            "padding": null,
            "right": null,
            "top": null,
            "visibility": null,
            "width": null
          }
        },
        "c80bdd3bae794c08b81c950a33ff9ba0": {
          "model_module": "@jupyter-widgets/controls",
          "model_name": "DescriptionStyleModel",
          "model_module_version": "1.5.0",
          "state": {
            "_model_module": "@jupyter-widgets/controls",
            "_model_module_version": "1.5.0",
            "_model_name": "DescriptionStyleModel",
            "_view_count": null,
            "_view_module": "@jupyter-widgets/base",
            "_view_module_version": "1.2.0",
            "_view_name": "StyleView",
            "description_width": ""
          }
        },
        "7b0c8bc5bb66433384aeb47bf99001ae": {
          "model_module": "@jupyter-widgets/base",
          "model_name": "LayoutModel",
          "model_module_version": "1.2.0",
          "state": {
            "_model_module": "@jupyter-widgets/base",
            "_model_module_version": "1.2.0",
            "_model_name": "LayoutModel",
            "_view_count": null,
            "_view_module": "@jupyter-widgets/base",
            "_view_module_version": "1.2.0",
            "_view_name": "LayoutView",
            "align_content": null,
            "align_items": null,
            "align_self": null,
            "border": null,
            "bottom": null,
            "display": null,
            "flex": null,
            "flex_flow": null,
            "grid_area": null,
            "grid_auto_columns": null,
            "grid_auto_flow": null,
            "grid_auto_rows": null,
            "grid_column": null,
            "grid_gap": null,
            "grid_row": null,
            "grid_template_areas": null,
            "grid_template_columns": null,
            "grid_template_rows": null,
            "height": null,
            "justify_content": null,
            "justify_items": null,
            "left": null,
            "margin": null,
            "max_height": null,
            "max_width": null,
            "min_height": null,
            "min_width": null,
            "object_fit": null,
            "object_position": null,
            "order": null,
            "overflow": null,
            "overflow_x": null,
            "overflow_y": null,
            "padding": null,
            "right": null,
            "top": null,
            "visibility": null,
            "width": null
          }
        },
        "6b03d462bd0f4fbeab0df76bbb881621": {
          "model_module": "@jupyter-widgets/controls",
          "model_name": "ProgressStyleModel",
          "model_module_version": "1.5.0",
          "state": {
            "_model_module": "@jupyter-widgets/controls",
            "_model_module_version": "1.5.0",
            "_model_name": "ProgressStyleModel",
            "_view_count": null,
            "_view_module": "@jupyter-widgets/base",
            "_view_module_version": "1.2.0",
            "_view_name": "StyleView",
            "bar_color": null,
            "description_width": ""
          }
        },
        "be78bdab8638431e80c087a0fe9a7a8f": {
          "model_module": "@jupyter-widgets/base",
          "model_name": "LayoutModel",
          "model_module_version": "1.2.0",
          "state": {
            "_model_module": "@jupyter-widgets/base",
            "_model_module_version": "1.2.0",
            "_model_name": "LayoutModel",
            "_view_count": null,
            "_view_module": "@jupyter-widgets/base",
            "_view_module_version": "1.2.0",
            "_view_name": "LayoutView",
            "align_content": null,
            "align_items": null,
            "align_self": null,
            "border": null,
            "bottom": null,
            "display": null,
            "flex": null,
            "flex_flow": null,
            "grid_area": null,
            "grid_auto_columns": null,
            "grid_auto_flow": null,
            "grid_auto_rows": null,
            "grid_column": null,
            "grid_gap": null,
            "grid_row": null,
            "grid_template_areas": null,
            "grid_template_columns": null,
            "grid_template_rows": null,
            "height": null,
            "justify_content": null,
            "justify_items": null,
            "left": null,
            "margin": null,
            "max_height": null,
            "max_width": null,
            "min_height": null,
            "min_width": null,
            "object_fit": null,
            "object_position": null,
            "order": null,
            "overflow": null,
            "overflow_x": null,
            "overflow_y": null,
            "padding": null,
            "right": null,
            "top": null,
            "visibility": null,
            "width": null
          }
        },
        "d44a1f0b3216469fb1ac597951f9471a": {
          "model_module": "@jupyter-widgets/controls",
          "model_name": "DescriptionStyleModel",
          "model_module_version": "1.5.0",
          "state": {
            "_model_module": "@jupyter-widgets/controls",
            "_model_module_version": "1.5.0",
            "_model_name": "DescriptionStyleModel",
            "_view_count": null,
            "_view_module": "@jupyter-widgets/base",
            "_view_module_version": "1.2.0",
            "_view_name": "StyleView",
            "description_width": ""
          }
        },
        "a0e897961bb049438847879cf082adf3": {
          "model_module": "@jupyter-widgets/controls",
          "model_name": "HBoxModel",
          "model_module_version": "1.5.0",
          "state": {
            "_dom_classes": [],
            "_model_module": "@jupyter-widgets/controls",
            "_model_module_version": "1.5.0",
            "_model_name": "HBoxModel",
            "_view_count": null,
            "_view_module": "@jupyter-widgets/controls",
            "_view_module_version": "1.5.0",
            "_view_name": "HBoxView",
            "box_style": "",
            "children": [
              "IPY_MODEL_820ac3ce474346728b80a609d47848ee",
              "IPY_MODEL_045273b88fa04afba97bf7ba6027f164",
              "IPY_MODEL_4847949da7b64782895b4fca8b432ec8"
            ],
            "layout": "IPY_MODEL_427b99cf8b964a59bbbf0b4d04504906"
          }
        },
        "820ac3ce474346728b80a609d47848ee": {
          "model_module": "@jupyter-widgets/controls",
          "model_name": "HTMLModel",
          "model_module_version": "1.5.0",
          "state": {
            "_dom_classes": [],
            "_model_module": "@jupyter-widgets/controls",
            "_model_module_version": "1.5.0",
            "_model_name": "HTMLModel",
            "_view_count": null,
            "_view_module": "@jupyter-widgets/controls",
            "_view_module_version": "1.5.0",
            "_view_name": "HTMLView",
            "description": "",
            "description_tooltip": null,
            "layout": "IPY_MODEL_f652ea3e007c42669e445a7247bb0430",
            "placeholder": "​",
            "style": "IPY_MODEL_527bf8b3612b4da89479424c5b66681e",
            "value": "Downloading: 100%"
          }
        },
        "045273b88fa04afba97bf7ba6027f164": {
          "model_module": "@jupyter-widgets/controls",
          "model_name": "FloatProgressModel",
          "model_module_version": "1.5.0",
          "state": {
            "_dom_classes": [],
            "_model_module": "@jupyter-widgets/controls",
            "_model_module_version": "1.5.0",
            "_model_name": "FloatProgressModel",
            "_view_count": null,
            "_view_module": "@jupyter-widgets/controls",
            "_view_module_version": "1.5.0",
            "_view_name": "ProgressView",
            "bar_style": "success",
            "description": "",
            "description_tooltip": null,
            "layout": "IPY_MODEL_708ff309676040119bccd6f21d1684f6",
            "max": 268,
            "min": 0,
            "orientation": "horizontal",
            "style": "IPY_MODEL_6a8694b9181f4828ba3ef4ff828fd1c3",
            "value": 268
          }
        },
        "4847949da7b64782895b4fca8b432ec8": {
          "model_module": "@jupyter-widgets/controls",
          "model_name": "HTMLModel",
          "model_module_version": "1.5.0",
          "state": {
            "_dom_classes": [],
            "_model_module": "@jupyter-widgets/controls",
            "_model_module_version": "1.5.0",
            "_model_name": "HTMLModel",
            "_view_count": null,
            "_view_module": "@jupyter-widgets/controls",
            "_view_module_version": "1.5.0",
            "_view_name": "HTMLView",
            "description": "",
            "description_tooltip": null,
            "layout": "IPY_MODEL_90dbfe5bab604315b329a6a8fcf131b1",
            "placeholder": "​",
            "style": "IPY_MODEL_b1a51bfb07774b7bac783d1c4d5a680c",
            "value": " 268/268 [00:00&lt;00:00, 11.2kB/s]"
          }
        },
        "427b99cf8b964a59bbbf0b4d04504906": {
          "model_module": "@jupyter-widgets/base",
          "model_name": "LayoutModel",
          "model_module_version": "1.2.0",
          "state": {
            "_model_module": "@jupyter-widgets/base",
            "_model_module_version": "1.2.0",
            "_model_name": "LayoutModel",
            "_view_count": null,
            "_view_module": "@jupyter-widgets/base",
            "_view_module_version": "1.2.0",
            "_view_name": "LayoutView",
            "align_content": null,
            "align_items": null,
            "align_self": null,
            "border": null,
            "bottom": null,
            "display": null,
            "flex": null,
            "flex_flow": null,
            "grid_area": null,
            "grid_auto_columns": null,
            "grid_auto_flow": null,
            "grid_auto_rows": null,
            "grid_column": null,
            "grid_gap": null,
            "grid_row": null,
            "grid_template_areas": null,
            "grid_template_columns": null,
            "grid_template_rows": null,
            "height": null,
            "justify_content": null,
            "justify_items": null,
            "left": null,
            "margin": null,
            "max_height": null,
            "max_width": null,
            "min_height": null,
            "min_width": null,
            "object_fit": null,
            "object_position": null,
            "order": null,
            "overflow": null,
            "overflow_x": null,
            "overflow_y": null,
            "padding": null,
            "right": null,
            "top": null,
            "visibility": null,
            "width": null
          }
        },
        "f652ea3e007c42669e445a7247bb0430": {
          "model_module": "@jupyter-widgets/base",
          "model_name": "LayoutModel",
          "model_module_version": "1.2.0",
          "state": {
            "_model_module": "@jupyter-widgets/base",
            "_model_module_version": "1.2.0",
            "_model_name": "LayoutModel",
            "_view_count": null,
            "_view_module": "@jupyter-widgets/base",
            "_view_module_version": "1.2.0",
            "_view_name": "LayoutView",
            "align_content": null,
            "align_items": null,
            "align_self": null,
            "border": null,
            "bottom": null,
            "display": null,
            "flex": null,
            "flex_flow": null,
            "grid_area": null,
            "grid_auto_columns": null,
            "grid_auto_flow": null,
            "grid_auto_rows": null,
            "grid_column": null,
            "grid_gap": null,
            "grid_row": null,
            "grid_template_areas": null,
            "grid_template_columns": null,
            "grid_template_rows": null,
            "height": null,
            "justify_content": null,
            "justify_items": null,
            "left": null,
            "margin": null,
            "max_height": null,
            "max_width": null,
            "min_height": null,
            "min_width": null,
            "object_fit": null,
            "object_position": null,
            "order": null,
            "overflow": null,
            "overflow_x": null,
            "overflow_y": null,
            "padding": null,
            "right": null,
            "top": null,
            "visibility": null,
            "width": null
          }
        },
        "527bf8b3612b4da89479424c5b66681e": {
          "model_module": "@jupyter-widgets/controls",
          "model_name": "DescriptionStyleModel",
          "model_module_version": "1.5.0",
          "state": {
            "_model_module": "@jupyter-widgets/controls",
            "_model_module_version": "1.5.0",
            "_model_name": "DescriptionStyleModel",
            "_view_count": null,
            "_view_module": "@jupyter-widgets/base",
            "_view_module_version": "1.2.0",
            "_view_name": "StyleView",
            "description_width": ""
          }
        },
        "708ff309676040119bccd6f21d1684f6": {
          "model_module": "@jupyter-widgets/base",
          "model_name": "LayoutModel",
          "model_module_version": "1.2.0",
          "state": {
            "_model_module": "@jupyter-widgets/base",
            "_model_module_version": "1.2.0",
            "_model_name": "LayoutModel",
            "_view_count": null,
            "_view_module": "@jupyter-widgets/base",
            "_view_module_version": "1.2.0",
            "_view_name": "LayoutView",
            "align_content": null,
            "align_items": null,
            "align_self": null,
            "border": null,
            "bottom": null,
            "display": null,
            "flex": null,
            "flex_flow": null,
            "grid_area": null,
            "grid_auto_columns": null,
            "grid_auto_flow": null,
            "grid_auto_rows": null,
            "grid_column": null,
            "grid_gap": null,
            "grid_row": null,
            "grid_template_areas": null,
            "grid_template_columns": null,
            "grid_template_rows": null,
            "height": null,
            "justify_content": null,
            "justify_items": null,
            "left": null,
            "margin": null,
            "max_height": null,
            "max_width": null,
            "min_height": null,
            "min_width": null,
            "object_fit": null,
            "object_position": null,
            "order": null,
            "overflow": null,
            "overflow_x": null,
            "overflow_y": null,
            "padding": null,
            "right": null,
            "top": null,
            "visibility": null,
            "width": null
          }
        },
        "6a8694b9181f4828ba3ef4ff828fd1c3": {
          "model_module": "@jupyter-widgets/controls",
          "model_name": "ProgressStyleModel",
          "model_module_version": "1.5.0",
          "state": {
            "_model_module": "@jupyter-widgets/controls",
            "_model_module_version": "1.5.0",
            "_model_name": "ProgressStyleModel",
            "_view_count": null,
            "_view_module": "@jupyter-widgets/base",
            "_view_module_version": "1.2.0",
            "_view_name": "StyleView",
            "bar_color": null,
            "description_width": ""
          }
        },
        "90dbfe5bab604315b329a6a8fcf131b1": {
          "model_module": "@jupyter-widgets/base",
          "model_name": "LayoutModel",
          "model_module_version": "1.2.0",
          "state": {
            "_model_module": "@jupyter-widgets/base",
            "_model_module_version": "1.2.0",
            "_model_name": "LayoutModel",
            "_view_count": null,
            "_view_module": "@jupyter-widgets/base",
            "_view_module_version": "1.2.0",
            "_view_name": "LayoutView",
            "align_content": null,
            "align_items": null,
            "align_self": null,
            "border": null,
            "bottom": null,
            "display": null,
            "flex": null,
            "flex_flow": null,
            "grid_area": null,
            "grid_auto_columns": null,
            "grid_auto_flow": null,
            "grid_auto_rows": null,
            "grid_column": null,
            "grid_gap": null,
            "grid_row": null,
            "grid_template_areas": null,
            "grid_template_columns": null,
            "grid_template_rows": null,
            "height": null,
            "justify_content": null,
            "justify_items": null,
            "left": null,
            "margin": null,
            "max_height": null,
            "max_width": null,
            "min_height": null,
            "min_width": null,
            "object_fit": null,
            "object_position": null,
            "order": null,
            "overflow": null,
            "overflow_x": null,
            "overflow_y": null,
            "padding": null,
            "right": null,
            "top": null,
            "visibility": null,
            "width": null
          }
        },
        "b1a51bfb07774b7bac783d1c4d5a680c": {
          "model_module": "@jupyter-widgets/controls",
          "model_name": "DescriptionStyleModel",
          "model_module_version": "1.5.0",
          "state": {
            "_model_module": "@jupyter-widgets/controls",
            "_model_module_version": "1.5.0",
            "_model_name": "DescriptionStyleModel",
            "_view_count": null,
            "_view_module": "@jupyter-widgets/base",
            "_view_module_version": "1.2.0",
            "_view_name": "StyleView",
            "description_width": ""
          }
        },
        "6ca0c9b3d250425b9597de9baa6bd77b": {
          "model_module": "@jupyter-widgets/controls",
          "model_name": "HBoxModel",
          "model_module_version": "1.5.0",
          "state": {
            "_dom_classes": [],
            "_model_module": "@jupyter-widgets/controls",
            "_model_module_version": "1.5.0",
            "_model_name": "HBoxModel",
            "_view_count": null,
            "_view_module": "@jupyter-widgets/controls",
            "_view_module_version": "1.5.0",
            "_view_name": "HBoxView",
            "box_style": "",
            "children": [
              "IPY_MODEL_b7d46c7f5da646eba0ed9e38fed6b4ee",
              "IPY_MODEL_7291673613bb43848bec1abee7447078",
              "IPY_MODEL_5c49d625a7f742f1a64820bc6f749f3a"
            ],
            "layout": "IPY_MODEL_a6a5bcb980df41d1b3e7b581701eae16"
          }
        },
        "b7d46c7f5da646eba0ed9e38fed6b4ee": {
          "model_module": "@jupyter-widgets/controls",
          "model_name": "HTMLModel",
          "model_module_version": "1.5.0",
          "state": {
            "_dom_classes": [],
            "_model_module": "@jupyter-widgets/controls",
            "_model_module_version": "1.5.0",
            "_model_name": "HTMLModel",
            "_view_count": null,
            "_view_module": "@jupyter-widgets/controls",
            "_view_module_version": "1.5.0",
            "_view_name": "HTMLView",
            "description": "",
            "description_tooltip": null,
            "layout": "IPY_MODEL_6412d390b2ce416fae910d689c3f6e70",
            "placeholder": "​",
            "style": "IPY_MODEL_255c276a050446ed9df81f8eeb7c1178",
            "value": "Downloading: 100%"
          }
        },
        "7291673613bb43848bec1abee7447078": {
          "model_module": "@jupyter-widgets/controls",
          "model_name": "FloatProgressModel",
          "model_module_version": "1.5.0",
          "state": {
            "_dom_classes": [],
            "_model_module": "@jupyter-widgets/controls",
            "_model_module_version": "1.5.0",
            "_model_name": "FloatProgressModel",
            "_view_count": null,
            "_view_module": "@jupyter-widgets/controls",
            "_view_module_version": "1.5.0",
            "_view_name": "ProgressView",
            "bar_style": "success",
            "description": "",
            "description_tooltip": null,
            "layout": "IPY_MODEL_ddd975596c234b0eacc40ef18ef40778",
            "max": 85,
            "min": 0,
            "orientation": "horizontal",
            "style": "IPY_MODEL_a5fd824b8eb64bb7b8d83354961927e6",
            "value": 85
          }
        },
        "5c49d625a7f742f1a64820bc6f749f3a": {
          "model_module": "@jupyter-widgets/controls",
          "model_name": "HTMLModel",
          "model_module_version": "1.5.0",
          "state": {
            "_dom_classes": [],
            "_model_module": "@jupyter-widgets/controls",
            "_model_module_version": "1.5.0",
            "_model_name": "HTMLModel",
            "_view_count": null,
            "_view_module": "@jupyter-widgets/controls",
            "_view_module_version": "1.5.0",
            "_view_name": "HTMLView",
            "description": "",
            "description_tooltip": null,
            "layout": "IPY_MODEL_17e3d063396848548af91c55c8f8e282",
            "placeholder": "​",
            "style": "IPY_MODEL_a3b48bc669674ff2a0bcce75a50e81eb",
            "value": " 85.0/85.0 [00:00&lt;00:00, 3.59kB/s]"
          }
        },
        "a6a5bcb980df41d1b3e7b581701eae16": {
          "model_module": "@jupyter-widgets/base",
          "model_name": "LayoutModel",
          "model_module_version": "1.2.0",
          "state": {
            "_model_module": "@jupyter-widgets/base",
            "_model_module_version": "1.2.0",
            "_model_name": "LayoutModel",
            "_view_count": null,
            "_view_module": "@jupyter-widgets/base",
            "_view_module_version": "1.2.0",
            "_view_name": "LayoutView",
            "align_content": null,
            "align_items": null,
            "align_self": null,
            "border": null,
            "bottom": null,
            "display": null,
            "flex": null,
            "flex_flow": null,
            "grid_area": null,
            "grid_auto_columns": null,
            "grid_auto_flow": null,
            "grid_auto_rows": null,
            "grid_column": null,
            "grid_gap": null,
            "grid_row": null,
            "grid_template_areas": null,
            "grid_template_columns": null,
            "grid_template_rows": null,
            "height": null,
            "justify_content": null,
            "justify_items": null,
            "left": null,
            "margin": null,
            "max_height": null,
            "max_width": null,
            "min_height": null,
            "min_width": null,
            "object_fit": null,
            "object_position": null,
            "order": null,
            "overflow": null,
            "overflow_x": null,
            "overflow_y": null,
            "padding": null,
            "right": null,
            "top": null,
            "visibility": null,
            "width": null
          }
        },
        "6412d390b2ce416fae910d689c3f6e70": {
          "model_module": "@jupyter-widgets/base",
          "model_name": "LayoutModel",
          "model_module_version": "1.2.0",
          "state": {
            "_model_module": "@jupyter-widgets/base",
            "_model_module_version": "1.2.0",
            "_model_name": "LayoutModel",
            "_view_count": null,
            "_view_module": "@jupyter-widgets/base",
            "_view_module_version": "1.2.0",
            "_view_name": "LayoutView",
            "align_content": null,
            "align_items": null,
            "align_self": null,
            "border": null,
            "bottom": null,
            "display": null,
            "flex": null,
            "flex_flow": null,
            "grid_area": null,
            "grid_auto_columns": null,
            "grid_auto_flow": null,
            "grid_auto_rows": null,
            "grid_column": null,
            "grid_gap": null,
            "grid_row": null,
            "grid_template_areas": null,
            "grid_template_columns": null,
            "grid_template_rows": null,
            "height": null,
            "justify_content": null,
            "justify_items": null,
            "left": null,
            "margin": null,
            "max_height": null,
            "max_width": null,
            "min_height": null,
            "min_width": null,
            "object_fit": null,
            "object_position": null,
            "order": null,
            "overflow": null,
            "overflow_x": null,
            "overflow_y": null,
            "padding": null,
            "right": null,
            "top": null,
            "visibility": null,
            "width": null
          }
        },
        "255c276a050446ed9df81f8eeb7c1178": {
          "model_module": "@jupyter-widgets/controls",
          "model_name": "DescriptionStyleModel",
          "model_module_version": "1.5.0",
          "state": {
            "_model_module": "@jupyter-widgets/controls",
            "_model_module_version": "1.5.0",
            "_model_name": "DescriptionStyleModel",
            "_view_count": null,
            "_view_module": "@jupyter-widgets/base",
            "_view_module_version": "1.2.0",
            "_view_name": "StyleView",
            "description_width": ""
          }
        },
        "ddd975596c234b0eacc40ef18ef40778": {
          "model_module": "@jupyter-widgets/base",
          "model_name": "LayoutModel",
          "model_module_version": "1.2.0",
          "state": {
            "_model_module": "@jupyter-widgets/base",
            "_model_module_version": "1.2.0",
            "_model_name": "LayoutModel",
            "_view_count": null,
            "_view_module": "@jupyter-widgets/base",
            "_view_module_version": "1.2.0",
            "_view_name": "LayoutView",
            "align_content": null,
            "align_items": null,
            "align_self": null,
            "border": null,
            "bottom": null,
            "display": null,
            "flex": null,
            "flex_flow": null,
            "grid_area": null,
            "grid_auto_columns": null,
            "grid_auto_flow": null,
            "grid_auto_rows": null,
            "grid_column": null,
            "grid_gap": null,
            "grid_row": null,
            "grid_template_areas": null,
            "grid_template_columns": null,
            "grid_template_rows": null,
            "height": null,
            "justify_content": null,
            "justify_items": null,
            "left": null,
            "margin": null,
            "max_height": null,
            "max_width": null,
            "min_height": null,
            "min_width": null,
            "object_fit": null,
            "object_position": null,
            "order": null,
            "overflow": null,
            "overflow_x": null,
            "overflow_y": null,
            "padding": null,
            "right": null,
            "top": null,
            "visibility": null,
            "width": null
          }
        },
        "a5fd824b8eb64bb7b8d83354961927e6": {
          "model_module": "@jupyter-widgets/controls",
          "model_name": "ProgressStyleModel",
          "model_module_version": "1.5.0",
          "state": {
            "_model_module": "@jupyter-widgets/controls",
            "_model_module_version": "1.5.0",
            "_model_name": "ProgressStyleModel",
            "_view_count": null,
            "_view_module": "@jupyter-widgets/base",
            "_view_module_version": "1.2.0",
            "_view_name": "StyleView",
            "bar_color": null,
            "description_width": ""
          }
        },
        "17e3d063396848548af91c55c8f8e282": {
          "model_module": "@jupyter-widgets/base",
          "model_name": "LayoutModel",
          "model_module_version": "1.2.0",
          "state": {
            "_model_module": "@jupyter-widgets/base",
            "_model_module_version": "1.2.0",
            "_model_name": "LayoutModel",
            "_view_count": null,
            "_view_module": "@jupyter-widgets/base",
            "_view_module_version": "1.2.0",
            "_view_name": "LayoutView",
            "align_content": null,
            "align_items": null,
            "align_self": null,
            "border": null,
            "bottom": null,
            "display": null,
            "flex": null,
            "flex_flow": null,
            "grid_area": null,
            "grid_auto_columns": null,
            "grid_auto_flow": null,
            "grid_auto_rows": null,
            "grid_column": null,
            "grid_gap": null,
            "grid_row": null,
            "grid_template_areas": null,
            "grid_template_columns": null,
            "grid_template_rows": null,
            "height": null,
            "justify_content": null,
            "justify_items": null,
            "left": null,
            "margin": null,
            "max_height": null,
            "max_width": null,
            "min_height": null,
            "min_width": null,
            "object_fit": null,
            "object_position": null,
            "order": null,
            "overflow": null,
            "overflow_x": null,
            "overflow_y": null,
            "padding": null,
            "right": null,
            "top": null,
            "visibility": null,
            "width": null
          }
        },
        "a3b48bc669674ff2a0bcce75a50e81eb": {
          "model_module": "@jupyter-widgets/controls",
          "model_name": "DescriptionStyleModel",
          "model_module_version": "1.5.0",
          "state": {
            "_model_module": "@jupyter-widgets/controls",
            "_model_module_version": "1.5.0",
            "_model_name": "DescriptionStyleModel",
            "_view_count": null,
            "_view_module": "@jupyter-widgets/base",
            "_view_module_version": "1.2.0",
            "_view_name": "StyleView",
            "description_width": ""
          }
        },
        "8fbdb230253a4152be95bf6229049f09": {
          "model_module": "@jupyter-widgets/controls",
          "model_name": "HBoxModel",
          "model_module_version": "1.5.0",
          "state": {
            "_dom_classes": [],
            "_model_module": "@jupyter-widgets/controls",
            "_model_module_version": "1.5.0",
            "_model_name": "HBoxModel",
            "_view_count": null,
            "_view_module": "@jupyter-widgets/controls",
            "_view_module_version": "1.5.0",
            "_view_name": "HBoxView",
            "box_style": "",
            "children": [
              "IPY_MODEL_857f0c099d8549e98991a93c791db4c1",
              "IPY_MODEL_16561789e2b9417a80ddcb6ef9d8676a",
              "IPY_MODEL_050c9d6bfd1e4b6ebe67401183a8d397"
            ],
            "layout": "IPY_MODEL_5874591082f944ff9b32202a1edbfd60"
          }
        },
        "857f0c099d8549e98991a93c791db4c1": {
          "model_module": "@jupyter-widgets/controls",
          "model_name": "HTMLModel",
          "model_module_version": "1.5.0",
          "state": {
            "_dom_classes": [],
            "_model_module": "@jupyter-widgets/controls",
            "_model_module_version": "1.5.0",
            "_model_name": "HTMLModel",
            "_view_count": null,
            "_view_module": "@jupyter-widgets/controls",
            "_view_module_version": "1.5.0",
            "_view_name": "HTMLView",
            "description": "",
            "description_tooltip": null,
            "layout": "IPY_MODEL_8c968b160d3d4fbb998840734f9f07e4",
            "placeholder": "​",
            "style": "IPY_MODEL_d2fd7c9e56b1419f9d23a10c260a7c7d",
            "value": ""
          }
        },
        "16561789e2b9417a80ddcb6ef9d8676a": {
          "model_module": "@jupyter-widgets/controls",
          "model_name": "FloatProgressModel",
          "model_module_version": "1.5.0",
          "state": {
            "_dom_classes": [],
            "_model_module": "@jupyter-widgets/controls",
            "_model_module_version": "1.5.0",
            "_model_name": "FloatProgressModel",
            "_view_count": null,
            "_view_module": "@jupyter-widgets/controls",
            "_view_module_version": "1.5.0",
            "_view_name": "ProgressView",
            "bar_style": "success",
            "description": "",
            "description_tooltip": null,
            "layout": "IPY_MODEL_4a03fb6d945f4102bc4f7192195d810d",
            "max": 1,
            "min": 0,
            "orientation": "horizontal",
            "style": "IPY_MODEL_8ab2466b187047fbbe4d8b72455b1108",
            "value": 1
          }
        },
        "050c9d6bfd1e4b6ebe67401183a8d397": {
          "model_module": "@jupyter-widgets/controls",
          "model_name": "HTMLModel",
          "model_module_version": "1.5.0",
          "state": {
            "_dom_classes": [],
            "_model_module": "@jupyter-widgets/controls",
            "_model_module_version": "1.5.0",
            "_model_name": "HTMLModel",
            "_view_count": null,
            "_view_module": "@jupyter-widgets/controls",
            "_view_module_version": "1.5.0",
            "_view_name": "HTMLView",
            "description": "",
            "description_tooltip": null,
            "layout": "IPY_MODEL_89472d79793e4db9afa6845fb016c8ad",
            "placeholder": "​",
            "style": "IPY_MODEL_f5e79b8c3a634eae8a555f18b9dc9bd6",
            "value": " 1680/? [00:55&lt;00:00, 30.41ex/s]"
          }
        },
        "5874591082f944ff9b32202a1edbfd60": {
          "model_module": "@jupyter-widgets/base",
          "model_name": "LayoutModel",
          "model_module_version": "1.2.0",
          "state": {
            "_model_module": "@jupyter-widgets/base",
            "_model_module_version": "1.2.0",
            "_model_name": "LayoutModel",
            "_view_count": null,
            "_view_module": "@jupyter-widgets/base",
            "_view_module_version": "1.2.0",
            "_view_name": "LayoutView",
            "align_content": null,
            "align_items": null,
            "align_self": null,
            "border": null,
            "bottom": null,
            "display": null,
            "flex": null,
            "flex_flow": null,
            "grid_area": null,
            "grid_auto_columns": null,
            "grid_auto_flow": null,
            "grid_auto_rows": null,
            "grid_column": null,
            "grid_gap": null,
            "grid_row": null,
            "grid_template_areas": null,
            "grid_template_columns": null,
            "grid_template_rows": null,
            "height": null,
            "justify_content": null,
            "justify_items": null,
            "left": null,
            "margin": null,
            "max_height": null,
            "max_width": null,
            "min_height": null,
            "min_width": null,
            "object_fit": null,
            "object_position": null,
            "order": null,
            "overflow": null,
            "overflow_x": null,
            "overflow_y": null,
            "padding": null,
            "right": null,
            "top": null,
            "visibility": null,
            "width": null
          }
        },
        "8c968b160d3d4fbb998840734f9f07e4": {
          "model_module": "@jupyter-widgets/base",
          "model_name": "LayoutModel",
          "model_module_version": "1.2.0",
          "state": {
            "_model_module": "@jupyter-widgets/base",
            "_model_module_version": "1.2.0",
            "_model_name": "LayoutModel",
            "_view_count": null,
            "_view_module": "@jupyter-widgets/base",
            "_view_module_version": "1.2.0",
            "_view_name": "LayoutView",
            "align_content": null,
            "align_items": null,
            "align_self": null,
            "border": null,
            "bottom": null,
            "display": null,
            "flex": null,
            "flex_flow": null,
            "grid_area": null,
            "grid_auto_columns": null,
            "grid_auto_flow": null,
            "grid_auto_rows": null,
            "grid_column": null,
            "grid_gap": null,
            "grid_row": null,
            "grid_template_areas": null,
            "grid_template_columns": null,
            "grid_template_rows": null,
            "height": null,
            "justify_content": null,
            "justify_items": null,
            "left": null,
            "margin": null,
            "max_height": null,
            "max_width": null,
            "min_height": null,
            "min_width": null,
            "object_fit": null,
            "object_position": null,
            "order": null,
            "overflow": null,
            "overflow_x": null,
            "overflow_y": null,
            "padding": null,
            "right": null,
            "top": null,
            "visibility": null,
            "width": null
          }
        },
        "d2fd7c9e56b1419f9d23a10c260a7c7d": {
          "model_module": "@jupyter-widgets/controls",
          "model_name": "DescriptionStyleModel",
          "model_module_version": "1.5.0",
          "state": {
            "_model_module": "@jupyter-widgets/controls",
            "_model_module_version": "1.5.0",
            "_model_name": "DescriptionStyleModel",
            "_view_count": null,
            "_view_module": "@jupyter-widgets/base",
            "_view_module_version": "1.2.0",
            "_view_name": "StyleView",
            "description_width": ""
          }
        },
        "4a03fb6d945f4102bc4f7192195d810d": {
          "model_module": "@jupyter-widgets/base",
          "model_name": "LayoutModel",
          "model_module_version": "1.2.0",
          "state": {
            "_model_module": "@jupyter-widgets/base",
            "_model_module_version": "1.2.0",
            "_model_name": "LayoutModel",
            "_view_count": null,
            "_view_module": "@jupyter-widgets/base",
            "_view_module_version": "1.2.0",
            "_view_name": "LayoutView",
            "align_content": null,
            "align_items": null,
            "align_self": null,
            "border": null,
            "bottom": null,
            "display": null,
            "flex": null,
            "flex_flow": null,
            "grid_area": null,
            "grid_auto_columns": null,
            "grid_auto_flow": null,
            "grid_auto_rows": null,
            "grid_column": null,
            "grid_gap": null,
            "grid_row": null,
            "grid_template_areas": null,
            "grid_template_columns": null,
            "grid_template_rows": null,
            "height": null,
            "justify_content": null,
            "justify_items": null,
            "left": null,
            "margin": null,
            "max_height": null,
            "max_width": null,
            "min_height": null,
            "min_width": null,
            "object_fit": null,
            "object_position": null,
            "order": null,
            "overflow": null,
            "overflow_x": null,
            "overflow_y": null,
            "padding": null,
            "right": null,
            "top": null,
            "visibility": null,
            "width": "20px"
          }
        },
        "8ab2466b187047fbbe4d8b72455b1108": {
          "model_module": "@jupyter-widgets/controls",
          "model_name": "ProgressStyleModel",
          "model_module_version": "1.5.0",
          "state": {
            "_model_module": "@jupyter-widgets/controls",
            "_model_module_version": "1.5.0",
            "_model_name": "ProgressStyleModel",
            "_view_count": null,
            "_view_module": "@jupyter-widgets/base",
            "_view_module_version": "1.2.0",
            "_view_name": "StyleView",
            "bar_color": null,
            "description_width": ""
          }
        },
        "89472d79793e4db9afa6845fb016c8ad": {
          "model_module": "@jupyter-widgets/base",
          "model_name": "LayoutModel",
          "model_module_version": "1.2.0",
          "state": {
            "_model_module": "@jupyter-widgets/base",
            "_model_module_version": "1.2.0",
            "_model_name": "LayoutModel",
            "_view_count": null,
            "_view_module": "@jupyter-widgets/base",
            "_view_module_version": "1.2.0",
            "_view_name": "LayoutView",
            "align_content": null,
            "align_items": null,
            "align_self": null,
            "border": null,
            "bottom": null,
            "display": null,
            "flex": null,
            "flex_flow": null,
            "grid_area": null,
            "grid_auto_columns": null,
            "grid_auto_flow": null,
            "grid_auto_rows": null,
            "grid_column": null,
            "grid_gap": null,
            "grid_row": null,
            "grid_template_areas": null,
            "grid_template_columns": null,
            "grid_template_rows": null,
            "height": null,
            "justify_content": null,
            "justify_items": null,
            "left": null,
            "margin": null,
            "max_height": null,
            "max_width": null,
            "min_height": null,
            "min_width": null,
            "object_fit": null,
            "object_position": null,
            "order": null,
            "overflow": null,
            "overflow_x": null,
            "overflow_y": null,
            "padding": null,
            "right": null,
            "top": null,
            "visibility": null,
            "width": null
          }
        },
        "f5e79b8c3a634eae8a555f18b9dc9bd6": {
          "model_module": "@jupyter-widgets/controls",
          "model_name": "DescriptionStyleModel",
          "model_module_version": "1.5.0",
          "state": {
            "_model_module": "@jupyter-widgets/controls",
            "_model_module_version": "1.5.0",
            "_model_name": "DescriptionStyleModel",
            "_view_count": null,
            "_view_module": "@jupyter-widgets/base",
            "_view_module_version": "1.2.0",
            "_view_name": "StyleView",
            "description_width": ""
          }
        },
        "3bbe8c9908f94a429630c76901176dcf": {
          "model_module": "@jupyter-widgets/controls",
          "model_name": "VBoxModel",
          "model_module_version": "1.5.0",
          "state": {
            "_dom_classes": [],
            "_model_module": "@jupyter-widgets/controls",
            "_model_module_version": "1.5.0",
            "_model_name": "VBoxModel",
            "_view_count": null,
            "_view_module": "@jupyter-widgets/controls",
            "_view_module_version": "1.5.0",
            "_view_name": "VBoxView",
            "box_style": "",
            "children": [],
            "layout": "IPY_MODEL_90ba42677de248dd8958a6c8c8cd4334"
          }
        },
        "8f7f738f92024c2096987f23cf2a0d7c": {
          "model_module": "@jupyter-widgets/controls",
          "model_name": "HTMLModel",
          "model_module_version": "1.5.0",
          "state": {
            "_dom_classes": [],
            "_model_module": "@jupyter-widgets/controls",
            "_model_module_version": "1.5.0",
            "_model_name": "HTMLModel",
            "_view_count": null,
            "_view_module": "@jupyter-widgets/controls",
            "_view_module_version": "1.5.0",
            "_view_name": "HTMLView",
            "description": "",
            "description_tooltip": null,
            "layout": "IPY_MODEL_683de6b33f1641c5bced5569664b9f7a",
            "placeholder": "​",
            "style": "IPY_MODEL_dc6d034d700b4231b2fbd0faede24387",
            "value": "<center> <img\nsrc=https://huggingface.co/front/assets/huggingface_logo-noborder.svg\nalt='Hugging Face'> <br> Copy a token from <a\nhref=\"https://huggingface.co/settings/tokens\" target=\"_blank\">your Hugging Face\ntokens page</a> and paste it below. <br> Immediately click login after copying\nyour token or it might be stored in plain text in this notebook file. </center>"
          }
        },
        "9d4ecea65add48ea976e24dd2ae609b7": {
          "model_module": "@jupyter-widgets/controls",
          "model_name": "PasswordModel",
          "model_module_version": "1.5.0",
          "state": {
            "_dom_classes": [],
            "_model_module": "@jupyter-widgets/controls",
            "_model_module_version": "1.5.0",
            "_model_name": "PasswordModel",
            "_view_count": null,
            "_view_module": "@jupyter-widgets/controls",
            "_view_module_version": "1.5.0",
            "_view_name": "PasswordView",
            "continuous_update": true,
            "description": "Token:",
            "description_tooltip": null,
            "disabled": false,
            "layout": "IPY_MODEL_752ae6cb1bfb4a138c6d5d8e156f746f",
            "placeholder": "​",
            "style": "IPY_MODEL_4c66f7cae4434c219022919dd2e26473",
            "value": ""
          }
        },
        "ac9efa392a514bb180ffa3485ece9a42": {
          "model_module": "@jupyter-widgets/controls",
          "model_name": "CheckboxModel",
          "model_module_version": "1.5.0",
          "state": {
            "_dom_classes": [],
            "_model_module": "@jupyter-widgets/controls",
            "_model_module_version": "1.5.0",
            "_model_name": "CheckboxModel",
            "_view_count": null,
            "_view_module": "@jupyter-widgets/controls",
            "_view_module_version": "1.5.0",
            "_view_name": "CheckboxView",
            "description": "Add token as git credential?",
            "description_tooltip": null,
            "disabled": false,
            "indent": true,
            "layout": "IPY_MODEL_bc15223a347942749417dbf8d8cd3e36",
            "style": "IPY_MODEL_016aad629a7d470a948fbeed9510183b",
            "value": true
          }
        },
        "16e6760f0d50409d868d223e3049e9bd": {
          "model_module": "@jupyter-widgets/controls",
          "model_name": "ButtonModel",
          "model_module_version": "1.5.0",
          "state": {
            "_dom_classes": [],
            "_model_module": "@jupyter-widgets/controls",
            "_model_module_version": "1.5.0",
            "_model_name": "ButtonModel",
            "_view_count": null,
            "_view_module": "@jupyter-widgets/controls",
            "_view_module_version": "1.5.0",
            "_view_name": "ButtonView",
            "button_style": "",
            "description": "Login",
            "disabled": false,
            "icon": "",
            "layout": "IPY_MODEL_62fa5a2e38be44509068c84d52abe587",
            "style": "IPY_MODEL_ed61374267114302a95c288f2d9c17e6",
            "tooltip": ""
          }
        },
        "6e708c4f5e194bea98afd23095c20e71": {
          "model_module": "@jupyter-widgets/controls",
          "model_name": "HTMLModel",
          "model_module_version": "1.5.0",
          "state": {
            "_dom_classes": [],
            "_model_module": "@jupyter-widgets/controls",
            "_model_module_version": "1.5.0",
            "_model_name": "HTMLModel",
            "_view_count": null,
            "_view_module": "@jupyter-widgets/controls",
            "_view_module_version": "1.5.0",
            "_view_name": "HTMLView",
            "description": "",
            "description_tooltip": null,
            "layout": "IPY_MODEL_314514a9a68d4f1da5ddace0a6db61a9",
            "placeholder": "​",
            "style": "IPY_MODEL_3c6d1aa816a64480a81f39577cf4bda0",
            "value": "\n<b>Pro Tip:</b> If you don't already have one, you can create a dedicated\n'notebooks' token with 'write' access, that you can then easily reuse for all\nnotebooks. </center>"
          }
        },
        "90ba42677de248dd8958a6c8c8cd4334": {
          "model_module": "@jupyter-widgets/base",
          "model_name": "LayoutModel",
          "model_module_version": "1.2.0",
          "state": {
            "_model_module": "@jupyter-widgets/base",
            "_model_module_version": "1.2.0",
            "_model_name": "LayoutModel",
            "_view_count": null,
            "_view_module": "@jupyter-widgets/base",
            "_view_module_version": "1.2.0",
            "_view_name": "LayoutView",
            "align_content": null,
            "align_items": "center",
            "align_self": null,
            "border": null,
            "bottom": null,
            "display": "flex",
            "flex": null,
            "flex_flow": "column",
            "grid_area": null,
            "grid_auto_columns": null,
            "grid_auto_flow": null,
            "grid_auto_rows": null,
            "grid_column": null,
            "grid_gap": null,
            "grid_row": null,
            "grid_template_areas": null,
            "grid_template_columns": null,
            "grid_template_rows": null,
            "height": null,
            "justify_content": null,
            "justify_items": null,
            "left": null,
            "margin": null,
            "max_height": null,
            "max_width": null,
            "min_height": null,
            "min_width": null,
            "object_fit": null,
            "object_position": null,
            "order": null,
            "overflow": null,
            "overflow_x": null,
            "overflow_y": null,
            "padding": null,
            "right": null,
            "top": null,
            "visibility": null,
            "width": "50%"
          }
        },
        "683de6b33f1641c5bced5569664b9f7a": {
          "model_module": "@jupyter-widgets/base",
          "model_name": "LayoutModel",
          "model_module_version": "1.2.0",
          "state": {
            "_model_module": "@jupyter-widgets/base",
            "_model_module_version": "1.2.0",
            "_model_name": "LayoutModel",
            "_view_count": null,
            "_view_module": "@jupyter-widgets/base",
            "_view_module_version": "1.2.0",
            "_view_name": "LayoutView",
            "align_content": null,
            "align_items": null,
            "align_self": null,
            "border": null,
            "bottom": null,
            "display": null,
            "flex": null,
            "flex_flow": null,
            "grid_area": null,
            "grid_auto_columns": null,
            "grid_auto_flow": null,
            "grid_auto_rows": null,
            "grid_column": null,
            "grid_gap": null,
            "grid_row": null,
            "grid_template_areas": null,
            "grid_template_columns": null,
            "grid_template_rows": null,
            "height": null,
            "justify_content": null,
            "justify_items": null,
            "left": null,
            "margin": null,
            "max_height": null,
            "max_width": null,
            "min_height": null,
            "min_width": null,
            "object_fit": null,
            "object_position": null,
            "order": null,
            "overflow": null,
            "overflow_x": null,
            "overflow_y": null,
            "padding": null,
            "right": null,
            "top": null,
            "visibility": null,
            "width": null
          }
        },
        "dc6d034d700b4231b2fbd0faede24387": {
          "model_module": "@jupyter-widgets/controls",
          "model_name": "DescriptionStyleModel",
          "model_module_version": "1.5.0",
          "state": {
            "_model_module": "@jupyter-widgets/controls",
            "_model_module_version": "1.5.0",
            "_model_name": "DescriptionStyleModel",
            "_view_count": null,
            "_view_module": "@jupyter-widgets/base",
            "_view_module_version": "1.2.0",
            "_view_name": "StyleView",
            "description_width": ""
          }
        },
        "752ae6cb1bfb4a138c6d5d8e156f746f": {
          "model_module": "@jupyter-widgets/base",
          "model_name": "LayoutModel",
          "model_module_version": "1.2.0",
          "state": {
            "_model_module": "@jupyter-widgets/base",
            "_model_module_version": "1.2.0",
            "_model_name": "LayoutModel",
            "_view_count": null,
            "_view_module": "@jupyter-widgets/base",
            "_view_module_version": "1.2.0",
            "_view_name": "LayoutView",
            "align_content": null,
            "align_items": null,
            "align_self": null,
            "border": null,
            "bottom": null,
            "display": null,
            "flex": null,
            "flex_flow": null,
            "grid_area": null,
            "grid_auto_columns": null,
            "grid_auto_flow": null,
            "grid_auto_rows": null,
            "grid_column": null,
            "grid_gap": null,
            "grid_row": null,
            "grid_template_areas": null,
            "grid_template_columns": null,
            "grid_template_rows": null,
            "height": null,
            "justify_content": null,
            "justify_items": null,
            "left": null,
            "margin": null,
            "max_height": null,
            "max_width": null,
            "min_height": null,
            "min_width": null,
            "object_fit": null,
            "object_position": null,
            "order": null,
            "overflow": null,
            "overflow_x": null,
            "overflow_y": null,
            "padding": null,
            "right": null,
            "top": null,
            "visibility": null,
            "width": null
          }
        },
        "4c66f7cae4434c219022919dd2e26473": {
          "model_module": "@jupyter-widgets/controls",
          "model_name": "DescriptionStyleModel",
          "model_module_version": "1.5.0",
          "state": {
            "_model_module": "@jupyter-widgets/controls",
            "_model_module_version": "1.5.0",
            "_model_name": "DescriptionStyleModel",
            "_view_count": null,
            "_view_module": "@jupyter-widgets/base",
            "_view_module_version": "1.2.0",
            "_view_name": "StyleView",
            "description_width": ""
          }
        },
        "bc15223a347942749417dbf8d8cd3e36": {
          "model_module": "@jupyter-widgets/base",
          "model_name": "LayoutModel",
          "model_module_version": "1.2.0",
          "state": {
            "_model_module": "@jupyter-widgets/base",
            "_model_module_version": "1.2.0",
            "_model_name": "LayoutModel",
            "_view_count": null,
            "_view_module": "@jupyter-widgets/base",
            "_view_module_version": "1.2.0",
            "_view_name": "LayoutView",
            "align_content": null,
            "align_items": null,
            "align_self": null,
            "border": null,
            "bottom": null,
            "display": null,
            "flex": null,
            "flex_flow": null,
            "grid_area": null,
            "grid_auto_columns": null,
            "grid_auto_flow": null,
            "grid_auto_rows": null,
            "grid_column": null,
            "grid_gap": null,
            "grid_row": null,
            "grid_template_areas": null,
            "grid_template_columns": null,
            "grid_template_rows": null,
            "height": null,
            "justify_content": null,
            "justify_items": null,
            "left": null,
            "margin": null,
            "max_height": null,
            "max_width": null,
            "min_height": null,
            "min_width": null,
            "object_fit": null,
            "object_position": null,
            "order": null,
            "overflow": null,
            "overflow_x": null,
            "overflow_y": null,
            "padding": null,
            "right": null,
            "top": null,
            "visibility": null,
            "width": null
          }
        },
        "016aad629a7d470a948fbeed9510183b": {
          "model_module": "@jupyter-widgets/controls",
          "model_name": "DescriptionStyleModel",
          "model_module_version": "1.5.0",
          "state": {
            "_model_module": "@jupyter-widgets/controls",
            "_model_module_version": "1.5.0",
            "_model_name": "DescriptionStyleModel",
            "_view_count": null,
            "_view_module": "@jupyter-widgets/base",
            "_view_module_version": "1.2.0",
            "_view_name": "StyleView",
            "description_width": ""
          }
        },
        "62fa5a2e38be44509068c84d52abe587": {
          "model_module": "@jupyter-widgets/base",
          "model_name": "LayoutModel",
          "model_module_version": "1.2.0",
          "state": {
            "_model_module": "@jupyter-widgets/base",
            "_model_module_version": "1.2.0",
            "_model_name": "LayoutModel",
            "_view_count": null,
            "_view_module": "@jupyter-widgets/base",
            "_view_module_version": "1.2.0",
            "_view_name": "LayoutView",
            "align_content": null,
            "align_items": null,
            "align_self": null,
            "border": null,
            "bottom": null,
            "display": null,
            "flex": null,
            "flex_flow": null,
            "grid_area": null,
            "grid_auto_columns": null,
            "grid_auto_flow": null,
            "grid_auto_rows": null,
            "grid_column": null,
            "grid_gap": null,
            "grid_row": null,
            "grid_template_areas": null,
            "grid_template_columns": null,
            "grid_template_rows": null,
            "height": null,
            "justify_content": null,
            "justify_items": null,
            "left": null,
            "margin": null,
            "max_height": null,
            "max_width": null,
            "min_height": null,
            "min_width": null,
            "object_fit": null,
            "object_position": null,
            "order": null,
            "overflow": null,
            "overflow_x": null,
            "overflow_y": null,
            "padding": null,
            "right": null,
            "top": null,
            "visibility": null,
            "width": null
          }
        },
        "ed61374267114302a95c288f2d9c17e6": {
          "model_module": "@jupyter-widgets/controls",
          "model_name": "ButtonStyleModel",
          "model_module_version": "1.5.0",
          "state": {
            "_model_module": "@jupyter-widgets/controls",
            "_model_module_version": "1.5.0",
            "_model_name": "ButtonStyleModel",
            "_view_count": null,
            "_view_module": "@jupyter-widgets/base",
            "_view_module_version": "1.2.0",
            "_view_name": "StyleView",
            "button_color": null,
            "font_weight": ""
          }
        },
        "314514a9a68d4f1da5ddace0a6db61a9": {
          "model_module": "@jupyter-widgets/base",
          "model_name": "LayoutModel",
          "model_module_version": "1.2.0",
          "state": {
            "_model_module": "@jupyter-widgets/base",
            "_model_module_version": "1.2.0",
            "_model_name": "LayoutModel",
            "_view_count": null,
            "_view_module": "@jupyter-widgets/base",
            "_view_module_version": "1.2.0",
            "_view_name": "LayoutView",
            "align_content": null,
            "align_items": null,
            "align_self": null,
            "border": null,
            "bottom": null,
            "display": null,
            "flex": null,
            "flex_flow": null,
            "grid_area": null,
            "grid_auto_columns": null,
            "grid_auto_flow": null,
            "grid_auto_rows": null,
            "grid_column": null,
            "grid_gap": null,
            "grid_row": null,
            "grid_template_areas": null,
            "grid_template_columns": null,
            "grid_template_rows": null,
            "height": null,
            "justify_content": null,
            "justify_items": null,
            "left": null,
            "margin": null,
            "max_height": null,
            "max_width": null,
            "min_height": null,
            "min_width": null,
            "object_fit": null,
            "object_position": null,
            "order": null,
            "overflow": null,
            "overflow_x": null,
            "overflow_y": null,
            "padding": null,
            "right": null,
            "top": null,
            "visibility": null,
            "width": null
          }
        },
        "3c6d1aa816a64480a81f39577cf4bda0": {
          "model_module": "@jupyter-widgets/controls",
          "model_name": "DescriptionStyleModel",
          "model_module_version": "1.5.0",
          "state": {
            "_model_module": "@jupyter-widgets/controls",
            "_model_module_version": "1.5.0",
            "_model_name": "DescriptionStyleModel",
            "_view_count": null,
            "_view_module": "@jupyter-widgets/base",
            "_view_module_version": "1.2.0",
            "_view_name": "StyleView",
            "description_width": ""
          }
        },
        "fc2a6845be4a4668811ad1b669433e8b": {
          "model_module": "@jupyter-widgets/controls",
          "model_name": "LabelModel",
          "model_module_version": "1.5.0",
          "state": {
            "_dom_classes": [],
            "_model_module": "@jupyter-widgets/controls",
            "_model_module_version": "1.5.0",
            "_model_name": "LabelModel",
            "_view_count": null,
            "_view_module": "@jupyter-widgets/controls",
            "_view_module_version": "1.5.0",
            "_view_name": "LabelView",
            "description": "",
            "description_tooltip": null,
            "layout": "IPY_MODEL_8015b00be3ce47ebab4d1ef9321eac55",
            "placeholder": "​",
            "style": "IPY_MODEL_5f652e16418045aaa8c66b0f322e2e9e",
            "value": "Connecting..."
          }
        },
        "8015b00be3ce47ebab4d1ef9321eac55": {
          "model_module": "@jupyter-widgets/base",
          "model_name": "LayoutModel",
          "model_module_version": "1.2.0",
          "state": {
            "_model_module": "@jupyter-widgets/base",
            "_model_module_version": "1.2.0",
            "_model_name": "LayoutModel",
            "_view_count": null,
            "_view_module": "@jupyter-widgets/base",
            "_view_module_version": "1.2.0",
            "_view_name": "LayoutView",
            "align_content": null,
            "align_items": null,
            "align_self": null,
            "border": null,
            "bottom": null,
            "display": null,
            "flex": null,
            "flex_flow": null,
            "grid_area": null,
            "grid_auto_columns": null,
            "grid_auto_flow": null,
            "grid_auto_rows": null,
            "grid_column": null,
            "grid_gap": null,
            "grid_row": null,
            "grid_template_areas": null,
            "grid_template_columns": null,
            "grid_template_rows": null,
            "height": null,
            "justify_content": null,
            "justify_items": null,
            "left": null,
            "margin": null,
            "max_height": null,
            "max_width": null,
            "min_height": null,
            "min_width": null,
            "object_fit": null,
            "object_position": null,
            "order": null,
            "overflow": null,
            "overflow_x": null,
            "overflow_y": null,
            "padding": null,
            "right": null,
            "top": null,
            "visibility": null,
            "width": null
          }
        },
        "5f652e16418045aaa8c66b0f322e2e9e": {
          "model_module": "@jupyter-widgets/controls",
          "model_name": "DescriptionStyleModel",
          "model_module_version": "1.5.0",
          "state": {
            "_model_module": "@jupyter-widgets/controls",
            "_model_module_version": "1.5.0",
            "_model_name": "DescriptionStyleModel",
            "_view_count": null,
            "_view_module": "@jupyter-widgets/base",
            "_view_module_version": "1.2.0",
            "_view_name": "StyleView",
            "description_width": ""
          }
        },
        "1c61921b152246098d3a7423036c6d98": {
          "model_module": "@jupyter-widgets/controls",
          "model_name": "HBoxModel",
          "model_module_version": "1.5.0",
          "state": {
            "_dom_classes": [],
            "_model_module": "@jupyter-widgets/controls",
            "_model_module_version": "1.5.0",
            "_model_name": "HBoxModel",
            "_view_count": null,
            "_view_module": "@jupyter-widgets/controls",
            "_view_module_version": "1.5.0",
            "_view_name": "HBoxView",
            "box_style": "",
            "children": [
              "IPY_MODEL_6b3f36dec92e4d57a2ba899ff4115bfd",
              "IPY_MODEL_99a1e282f79d4d868848b0100c34ea20",
              "IPY_MODEL_ab6f5832ef3e4c4aaa319c6de3829b6e"
            ],
            "layout": "IPY_MODEL_12cacf5c015148c9bee5e5cc407de77d"
          }
        },
        "6b3f36dec92e4d57a2ba899ff4115bfd": {
          "model_module": "@jupyter-widgets/controls",
          "model_name": "HTMLModel",
          "model_module_version": "1.5.0",
          "state": {
            "_dom_classes": [],
            "_model_module": "@jupyter-widgets/controls",
            "_model_module_version": "1.5.0",
            "_model_name": "HTMLModel",
            "_view_count": null,
            "_view_module": "@jupyter-widgets/controls",
            "_view_module_version": "1.5.0",
            "_view_name": "HTMLView",
            "description": "",
            "description_tooltip": null,
            "layout": "IPY_MODEL_b0cab9967e83401386189b75891855ff",
            "placeholder": "​",
            "style": "IPY_MODEL_c73341534e074d6a908d6b913d96b30b",
            "value": "Downloading: "
          }
        },
        "99a1e282f79d4d868848b0100c34ea20": {
          "model_module": "@jupyter-widgets/controls",
          "model_name": "FloatProgressModel",
          "model_module_version": "1.5.0",
          "state": {
            "_dom_classes": [],
            "_model_module": "@jupyter-widgets/controls",
            "_model_module_version": "1.5.0",
            "_model_name": "FloatProgressModel",
            "_view_count": null,
            "_view_module": "@jupyter-widgets/controls",
            "_view_module_version": "1.5.0",
            "_view_name": "ProgressView",
            "bar_style": "success",
            "description": "",
            "description_tooltip": null,
            "layout": "IPY_MODEL_88809a977a1b48c5ac316b5057382675",
            "max": 2403,
            "min": 0,
            "orientation": "horizontal",
            "style": "IPY_MODEL_a33fe13b27ab42f3ac539f9c4d3f2d60",
            "value": 2403
          }
        },
        "ab6f5832ef3e4c4aaa319c6de3829b6e": {
          "model_module": "@jupyter-widgets/controls",
          "model_name": "HTMLModel",
          "model_module_version": "1.5.0",
          "state": {
            "_dom_classes": [],
            "_model_module": "@jupyter-widgets/controls",
            "_model_module_version": "1.5.0",
            "_model_name": "HTMLModel",
            "_view_count": null,
            "_view_module": "@jupyter-widgets/controls",
            "_view_module_version": "1.5.0",
            "_view_name": "HTMLView",
            "description": "",
            "description_tooltip": null,
            "layout": "IPY_MODEL_0d216a2f7e7c40dca922e56007f70516",
            "placeholder": "​",
            "style": "IPY_MODEL_3d3b50c9549b45c5b7ca636db77328e9",
            "value": " 7.06k/? [00:00&lt;00:00, 530kB/s]"
          }
        },
        "12cacf5c015148c9bee5e5cc407de77d": {
          "model_module": "@jupyter-widgets/base",
          "model_name": "LayoutModel",
          "model_module_version": "1.2.0",
          "state": {
            "_model_module": "@jupyter-widgets/base",
            "_model_module_version": "1.2.0",
            "_model_name": "LayoutModel",
            "_view_count": null,
            "_view_module": "@jupyter-widgets/base",
            "_view_module_version": "1.2.0",
            "_view_name": "LayoutView",
            "align_content": null,
            "align_items": null,
            "align_self": null,
            "border": null,
            "bottom": null,
            "display": null,
            "flex": null,
            "flex_flow": null,
            "grid_area": null,
            "grid_auto_columns": null,
            "grid_auto_flow": null,
            "grid_auto_rows": null,
            "grid_column": null,
            "grid_gap": null,
            "grid_row": null,
            "grid_template_areas": null,
            "grid_template_columns": null,
            "grid_template_rows": null,
            "height": null,
            "justify_content": null,
            "justify_items": null,
            "left": null,
            "margin": null,
            "max_height": null,
            "max_width": null,
            "min_height": null,
            "min_width": null,
            "object_fit": null,
            "object_position": null,
            "order": null,
            "overflow": null,
            "overflow_x": null,
            "overflow_y": null,
            "padding": null,
            "right": null,
            "top": null,
            "visibility": null,
            "width": null
          }
        },
        "b0cab9967e83401386189b75891855ff": {
          "model_module": "@jupyter-widgets/base",
          "model_name": "LayoutModel",
          "model_module_version": "1.2.0",
          "state": {
            "_model_module": "@jupyter-widgets/base",
            "_model_module_version": "1.2.0",
            "_model_name": "LayoutModel",
            "_view_count": null,
            "_view_module": "@jupyter-widgets/base",
            "_view_module_version": "1.2.0",
            "_view_name": "LayoutView",
            "align_content": null,
            "align_items": null,
            "align_self": null,
            "border": null,
            "bottom": null,
            "display": null,
            "flex": null,
            "flex_flow": null,
            "grid_area": null,
            "grid_auto_columns": null,
            "grid_auto_flow": null,
            "grid_auto_rows": null,
            "grid_column": null,
            "grid_gap": null,
            "grid_row": null,
            "grid_template_areas": null,
            "grid_template_columns": null,
            "grid_template_rows": null,
            "height": null,
            "justify_content": null,
            "justify_items": null,
            "left": null,
            "margin": null,
            "max_height": null,
            "max_width": null,
            "min_height": null,
            "min_width": null,
            "object_fit": null,
            "object_position": null,
            "order": null,
            "overflow": null,
            "overflow_x": null,
            "overflow_y": null,
            "padding": null,
            "right": null,
            "top": null,
            "visibility": null,
            "width": null
          }
        },
        "c73341534e074d6a908d6b913d96b30b": {
          "model_module": "@jupyter-widgets/controls",
          "model_name": "DescriptionStyleModel",
          "model_module_version": "1.5.0",
          "state": {
            "_model_module": "@jupyter-widgets/controls",
            "_model_module_version": "1.5.0",
            "_model_name": "DescriptionStyleModel",
            "_view_count": null,
            "_view_module": "@jupyter-widgets/base",
            "_view_module_version": "1.2.0",
            "_view_name": "StyleView",
            "description_width": ""
          }
        },
        "88809a977a1b48c5ac316b5057382675": {
          "model_module": "@jupyter-widgets/base",
          "model_name": "LayoutModel",
          "model_module_version": "1.2.0",
          "state": {
            "_model_module": "@jupyter-widgets/base",
            "_model_module_version": "1.2.0",
            "_model_name": "LayoutModel",
            "_view_count": null,
            "_view_module": "@jupyter-widgets/base",
            "_view_module_version": "1.2.0",
            "_view_name": "LayoutView",
            "align_content": null,
            "align_items": null,
            "align_self": null,
            "border": null,
            "bottom": null,
            "display": null,
            "flex": null,
            "flex_flow": null,
            "grid_area": null,
            "grid_auto_columns": null,
            "grid_auto_flow": null,
            "grid_auto_rows": null,
            "grid_column": null,
            "grid_gap": null,
            "grid_row": null,
            "grid_template_areas": null,
            "grid_template_columns": null,
            "grid_template_rows": null,
            "height": null,
            "justify_content": null,
            "justify_items": null,
            "left": null,
            "margin": null,
            "max_height": null,
            "max_width": null,
            "min_height": null,
            "min_width": null,
            "object_fit": null,
            "object_position": null,
            "order": null,
            "overflow": null,
            "overflow_x": null,
            "overflow_y": null,
            "padding": null,
            "right": null,
            "top": null,
            "visibility": null,
            "width": null
          }
        },
        "a33fe13b27ab42f3ac539f9c4d3f2d60": {
          "model_module": "@jupyter-widgets/controls",
          "model_name": "ProgressStyleModel",
          "model_module_version": "1.5.0",
          "state": {
            "_model_module": "@jupyter-widgets/controls",
            "_model_module_version": "1.5.0",
            "_model_name": "ProgressStyleModel",
            "_view_count": null,
            "_view_module": "@jupyter-widgets/base",
            "_view_module_version": "1.2.0",
            "_view_name": "StyleView",
            "bar_color": null,
            "description_width": ""
          }
        },
        "0d216a2f7e7c40dca922e56007f70516": {
          "model_module": "@jupyter-widgets/base",
          "model_name": "LayoutModel",
          "model_module_version": "1.2.0",
          "state": {
            "_model_module": "@jupyter-widgets/base",
            "_model_module_version": "1.2.0",
            "_model_name": "LayoutModel",
            "_view_count": null,
            "_view_module": "@jupyter-widgets/base",
            "_view_module_version": "1.2.0",
            "_view_name": "LayoutView",
            "align_content": null,
            "align_items": null,
            "align_self": null,
            "border": null,
            "bottom": null,
            "display": null,
            "flex": null,
            "flex_flow": null,
            "grid_area": null,
            "grid_auto_columns": null,
            "grid_auto_flow": null,
            "grid_auto_rows": null,
            "grid_column": null,
            "grid_gap": null,
            "grid_row": null,
            "grid_template_areas": null,
            "grid_template_columns": null,
            "grid_template_rows": null,
            "height": null,
            "justify_content": null,
            "justify_items": null,
            "left": null,
            "margin": null,
            "max_height": null,
            "max_width": null,
            "min_height": null,
            "min_width": null,
            "object_fit": null,
            "object_position": null,
            "order": null,
            "overflow": null,
            "overflow_x": null,
            "overflow_y": null,
            "padding": null,
            "right": null,
            "top": null,
            "visibility": null,
            "width": null
          }
        },
        "3d3b50c9549b45c5b7ca636db77328e9": {
          "model_module": "@jupyter-widgets/controls",
          "model_name": "DescriptionStyleModel",
          "model_module_version": "1.5.0",
          "state": {
            "_model_module": "@jupyter-widgets/controls",
            "_model_module_version": "1.5.0",
            "_model_name": "DescriptionStyleModel",
            "_view_count": null,
            "_view_module": "@jupyter-widgets/base",
            "_view_module_version": "1.2.0",
            "_view_name": "StyleView",
            "description_width": ""
          }
        },
        "7f67a208d5dd44049dce926da9c24665": {
          "model_module": "@jupyter-widgets/controls",
          "model_name": "HBoxModel",
          "model_module_version": "1.5.0",
          "state": {
            "_dom_classes": [],
            "_model_module": "@jupyter-widgets/controls",
            "_model_module_version": "1.5.0",
            "_model_name": "HBoxModel",
            "_view_count": null,
            "_view_module": "@jupyter-widgets/controls",
            "_view_module_version": "1.5.0",
            "_view_name": "HBoxView",
            "box_style": "",
            "children": [
              "IPY_MODEL_5db73341162043fb9985d3e8ab60cab3",
              "IPY_MODEL_c15a106c54834ad188a8fc8b45dc2517",
              "IPY_MODEL_ee6ee270b61f446f965e6e635a8042ec"
            ],
            "layout": "IPY_MODEL_68aa955ed56b4f48b250ee1097a20b6b"
          }
        },
        "5db73341162043fb9985d3e8ab60cab3": {
          "model_module": "@jupyter-widgets/controls",
          "model_name": "HTMLModel",
          "model_module_version": "1.5.0",
          "state": {
            "_dom_classes": [],
            "_model_module": "@jupyter-widgets/controls",
            "_model_module_version": "1.5.0",
            "_model_name": "HTMLModel",
            "_view_count": null,
            "_view_module": "@jupyter-widgets/controls",
            "_view_module_version": "1.5.0",
            "_view_name": "HTMLView",
            "description": "",
            "description_tooltip": null,
            "layout": "IPY_MODEL_6ec3ddde6f224e288a3b258021737fa9",
            "placeholder": "​",
            "style": "IPY_MODEL_39af68922ab94b86942d023bc5acb4fd",
            "value": "Downloading: "
          }
        },
        "c15a106c54834ad188a8fc8b45dc2517": {
          "model_module": "@jupyter-widgets/controls",
          "model_name": "FloatProgressModel",
          "model_module_version": "1.5.0",
          "state": {
            "_dom_classes": [],
            "_model_module": "@jupyter-widgets/controls",
            "_model_module_version": "1.5.0",
            "_model_name": "FloatProgressModel",
            "_view_count": null,
            "_view_module": "@jupyter-widgets/controls",
            "_view_module_version": "1.5.0",
            "_view_name": "ProgressView",
            "bar_style": "success",
            "description": "",
            "description_tooltip": null,
            "layout": "IPY_MODEL_b6779d1938f2402ba2e9c936952f8ea5",
            "max": 1060,
            "min": 0,
            "orientation": "horizontal",
            "style": "IPY_MODEL_d77ffb95740744fb97b4b438dddc3380",
            "value": 1060
          }
        },
        "ee6ee270b61f446f965e6e635a8042ec": {
          "model_module": "@jupyter-widgets/controls",
          "model_name": "HTMLModel",
          "model_module_version": "1.5.0",
          "state": {
            "_dom_classes": [],
            "_model_module": "@jupyter-widgets/controls",
            "_model_module_version": "1.5.0",
            "_model_name": "HTMLModel",
            "_view_count": null,
            "_view_module": "@jupyter-widgets/controls",
            "_view_module_version": "1.5.0",
            "_view_name": "HTMLView",
            "description": "",
            "description_tooltip": null,
            "layout": "IPY_MODEL_6b8919034f8a4f37b375fc77031ffaa7",
            "placeholder": "​",
            "style": "IPY_MODEL_1bbe35cf59cd485ba45a1256d3bc1706",
            "value": " 2.64k/? [00:00&lt;00:00, 264kB/s]"
          }
        },
        "68aa955ed56b4f48b250ee1097a20b6b": {
          "model_module": "@jupyter-widgets/base",
          "model_name": "LayoutModel",
          "model_module_version": "1.2.0",
          "state": {
            "_model_module": "@jupyter-widgets/base",
            "_model_module_version": "1.2.0",
            "_model_name": "LayoutModel",
            "_view_count": null,
            "_view_module": "@jupyter-widgets/base",
            "_view_module_version": "1.2.0",
            "_view_name": "LayoutView",
            "align_content": null,
            "align_items": null,
            "align_self": null,
            "border": null,
            "bottom": null,
            "display": null,
            "flex": null,
            "flex_flow": null,
            "grid_area": null,
            "grid_auto_columns": null,
            "grid_auto_flow": null,
            "grid_auto_rows": null,
            "grid_column": null,
            "grid_gap": null,
            "grid_row": null,
            "grid_template_areas": null,
            "grid_template_columns": null,
            "grid_template_rows": null,
            "height": null,
            "justify_content": null,
            "justify_items": null,
            "left": null,
            "margin": null,
            "max_height": null,
            "max_width": null,
            "min_height": null,
            "min_width": null,
            "object_fit": null,
            "object_position": null,
            "order": null,
            "overflow": null,
            "overflow_x": null,
            "overflow_y": null,
            "padding": null,
            "right": null,
            "top": null,
            "visibility": null,
            "width": null
          }
        },
        "6ec3ddde6f224e288a3b258021737fa9": {
          "model_module": "@jupyter-widgets/base",
          "model_name": "LayoutModel",
          "model_module_version": "1.2.0",
          "state": {
            "_model_module": "@jupyter-widgets/base",
            "_model_module_version": "1.2.0",
            "_model_name": "LayoutModel",
            "_view_count": null,
            "_view_module": "@jupyter-widgets/base",
            "_view_module_version": "1.2.0",
            "_view_name": "LayoutView",
            "align_content": null,
            "align_items": null,
            "align_self": null,
            "border": null,
            "bottom": null,
            "display": null,
            "flex": null,
            "flex_flow": null,
            "grid_area": null,
            "grid_auto_columns": null,
            "grid_auto_flow": null,
            "grid_auto_rows": null,
            "grid_column": null,
            "grid_gap": null,
            "grid_row": null,
            "grid_template_areas": null,
            "grid_template_columns": null,
            "grid_template_rows": null,
            "height": null,
            "justify_content": null,
            "justify_items": null,
            "left": null,
            "margin": null,
            "max_height": null,
            "max_width": null,
            "min_height": null,
            "min_width": null,
            "object_fit": null,
            "object_position": null,
            "order": null,
            "overflow": null,
            "overflow_x": null,
            "overflow_y": null,
            "padding": null,
            "right": null,
            "top": null,
            "visibility": null,
            "width": null
          }
        },
        "39af68922ab94b86942d023bc5acb4fd": {
          "model_module": "@jupyter-widgets/controls",
          "model_name": "DescriptionStyleModel",
          "model_module_version": "1.5.0",
          "state": {
            "_model_module": "@jupyter-widgets/controls",
            "_model_module_version": "1.5.0",
            "_model_name": "DescriptionStyleModel",
            "_view_count": null,
            "_view_module": "@jupyter-widgets/base",
            "_view_module_version": "1.2.0",
            "_view_name": "StyleView",
            "description_width": ""
          }
        },
        "b6779d1938f2402ba2e9c936952f8ea5": {
          "model_module": "@jupyter-widgets/base",
          "model_name": "LayoutModel",
          "model_module_version": "1.2.0",
          "state": {
            "_model_module": "@jupyter-widgets/base",
            "_model_module_version": "1.2.0",
            "_model_name": "LayoutModel",
            "_view_count": null,
            "_view_module": "@jupyter-widgets/base",
            "_view_module_version": "1.2.0",
            "_view_name": "LayoutView",
            "align_content": null,
            "align_items": null,
            "align_self": null,
            "border": null,
            "bottom": null,
            "display": null,
            "flex": null,
            "flex_flow": null,
            "grid_area": null,
            "grid_auto_columns": null,
            "grid_auto_flow": null,
            "grid_auto_rows": null,
            "grid_column": null,
            "grid_gap": null,
            "grid_row": null,
            "grid_template_areas": null,
            "grid_template_columns": null,
            "grid_template_rows": null,
            "height": null,
            "justify_content": null,
            "justify_items": null,
            "left": null,
            "margin": null,
            "max_height": null,
            "max_width": null,
            "min_height": null,
            "min_width": null,
            "object_fit": null,
            "object_position": null,
            "order": null,
            "overflow": null,
            "overflow_x": null,
            "overflow_y": null,
            "padding": null,
            "right": null,
            "top": null,
            "visibility": null,
            "width": null
          }
        },
        "d77ffb95740744fb97b4b438dddc3380": {
          "model_module": "@jupyter-widgets/controls",
          "model_name": "ProgressStyleModel",
          "model_module_version": "1.5.0",
          "state": {
            "_model_module": "@jupyter-widgets/controls",
            "_model_module_version": "1.5.0",
            "_model_name": "ProgressStyleModel",
            "_view_count": null,
            "_view_module": "@jupyter-widgets/base",
            "_view_module_version": "1.2.0",
            "_view_name": "StyleView",
            "bar_color": null,
            "description_width": ""
          }
        },
        "6b8919034f8a4f37b375fc77031ffaa7": {
          "model_module": "@jupyter-widgets/base",
          "model_name": "LayoutModel",
          "model_module_version": "1.2.0",
          "state": {
            "_model_module": "@jupyter-widgets/base",
            "_model_module_version": "1.2.0",
            "_model_name": "LayoutModel",
            "_view_count": null,
            "_view_module": "@jupyter-widgets/base",
            "_view_module_version": "1.2.0",
            "_view_name": "LayoutView",
            "align_content": null,
            "align_items": null,
            "align_self": null,
            "border": null,
            "bottom": null,
            "display": null,
            "flex": null,
            "flex_flow": null,
            "grid_area": null,
            "grid_auto_columns": null,
            "grid_auto_flow": null,
            "grid_auto_rows": null,
            "grid_column": null,
            "grid_gap": null,
            "grid_row": null,
            "grid_template_areas": null,
            "grid_template_columns": null,
            "grid_template_rows": null,
            "height": null,
            "justify_content": null,
            "justify_items": null,
            "left": null,
            "margin": null,
            "max_height": null,
            "max_width": null,
            "min_height": null,
            "min_width": null,
            "object_fit": null,
            "object_position": null,
            "order": null,
            "overflow": null,
            "overflow_x": null,
            "overflow_y": null,
            "padding": null,
            "right": null,
            "top": null,
            "visibility": null,
            "width": null
          }
        },
        "1bbe35cf59cd485ba45a1256d3bc1706": {
          "model_module": "@jupyter-widgets/controls",
          "model_name": "DescriptionStyleModel",
          "model_module_version": "1.5.0",
          "state": {
            "_model_module": "@jupyter-widgets/controls",
            "_model_module_version": "1.5.0",
            "_model_name": "DescriptionStyleModel",
            "_view_count": null,
            "_view_module": "@jupyter-widgets/base",
            "_view_module_version": "1.2.0",
            "_view_name": "StyleView",
            "description_width": ""
          }
        },
        "d6d62b3290d6420f81bef05d1039e7bd": {
          "model_module": "@jupyter-widgets/controls",
          "model_name": "HBoxModel",
          "model_module_version": "1.5.0",
          "state": {
            "_dom_classes": [],
            "_model_module": "@jupyter-widgets/controls",
            "_model_module_version": "1.5.0",
            "_model_name": "HBoxModel",
            "_view_count": null,
            "_view_module": "@jupyter-widgets/controls",
            "_view_module_version": "1.5.0",
            "_view_name": "HBoxView",
            "box_style": "",
            "children": [
              "IPY_MODEL_a5345056a3164906aa0ee9b0999142dc",
              "IPY_MODEL_f4e86bf9d4e04263a036774529103e29",
              "IPY_MODEL_9dd76a85dca7404b850b78e4133ac49b"
            ],
            "layout": "IPY_MODEL_d6577c8676814ac084a06ac3a5cad2fa"
          }
        },
        "a5345056a3164906aa0ee9b0999142dc": {
          "model_module": "@jupyter-widgets/controls",
          "model_name": "HTMLModel",
          "model_module_version": "1.5.0",
          "state": {
            "_dom_classes": [],
            "_model_module": "@jupyter-widgets/controls",
            "_model_module_version": "1.5.0",
            "_model_name": "HTMLModel",
            "_view_count": null,
            "_view_module": "@jupyter-widgets/controls",
            "_view_module_version": "1.5.0",
            "_view_name": "HTMLView",
            "description": "",
            "description_tooltip": null,
            "layout": "IPY_MODEL_5d32c682893b4c2aa306545eecf82d05",
            "placeholder": "​",
            "style": "IPY_MODEL_0c27b3aa90d74184ba6fc1a09d54c067",
            "value": "Downloading: 100%"
          }
        },
        "f4e86bf9d4e04263a036774529103e29": {
          "model_module": "@jupyter-widgets/controls",
          "model_name": "FloatProgressModel",
          "model_module_version": "1.5.0",
          "state": {
            "_dom_classes": [],
            "_model_module": "@jupyter-widgets/controls",
            "_model_module_version": "1.5.0",
            "_model_name": "FloatProgressModel",
            "_view_count": null,
            "_view_module": "@jupyter-widgets/controls",
            "_view_module_version": "1.5.0",
            "_view_name": "ProgressView",
            "bar_style": "success",
            "description": "",
            "description_tooltip": null,
            "layout": "IPY_MODEL_1f75b5bf630d463095fb793b8cf42438",
            "max": 869007403,
            "min": 0,
            "orientation": "horizontal",
            "style": "IPY_MODEL_9193a704e5224207ab41c25f8cfb51c4",
            "value": 869007403
          }
        },
        "9dd76a85dca7404b850b78e4133ac49b": {
          "model_module": "@jupyter-widgets/controls",
          "model_name": "HTMLModel",
          "model_module_version": "1.5.0",
          "state": {
            "_dom_classes": [],
            "_model_module": "@jupyter-widgets/controls",
            "_model_module_version": "1.5.0",
            "_model_name": "HTMLModel",
            "_view_count": null,
            "_view_module": "@jupyter-widgets/controls",
            "_view_module_version": "1.5.0",
            "_view_name": "HTMLView",
            "description": "",
            "description_tooltip": null,
            "layout": "IPY_MODEL_2283ef59262a4c92b2399840266df801",
            "placeholder": "​",
            "style": "IPY_MODEL_b7a43639c22b45a28126ca0721a3fa34",
            "value": " 869M/869M [02:45&lt;00:00, 5.39MB/s]"
          }
        },
        "d6577c8676814ac084a06ac3a5cad2fa": {
          "model_module": "@jupyter-widgets/base",
          "model_name": "LayoutModel",
          "model_module_version": "1.2.0",
          "state": {
            "_model_module": "@jupyter-widgets/base",
            "_model_module_version": "1.2.0",
            "_model_name": "LayoutModel",
            "_view_count": null,
            "_view_module": "@jupyter-widgets/base",
            "_view_module_version": "1.2.0",
            "_view_name": "LayoutView",
            "align_content": null,
            "align_items": null,
            "align_self": null,
            "border": null,
            "bottom": null,
            "display": null,
            "flex": null,
            "flex_flow": null,
            "grid_area": null,
            "grid_auto_columns": null,
            "grid_auto_flow": null,
            "grid_auto_rows": null,
            "grid_column": null,
            "grid_gap": null,
            "grid_row": null,
            "grid_template_areas": null,
            "grid_template_columns": null,
            "grid_template_rows": null,
            "height": null,
            "justify_content": null,
            "justify_items": null,
            "left": null,
            "margin": null,
            "max_height": null,
            "max_width": null,
            "min_height": null,
            "min_width": null,
            "object_fit": null,
            "object_position": null,
            "order": null,
            "overflow": null,
            "overflow_x": null,
            "overflow_y": null,
            "padding": null,
            "right": null,
            "top": null,
            "visibility": null,
            "width": null
          }
        },
        "5d32c682893b4c2aa306545eecf82d05": {
          "model_module": "@jupyter-widgets/base",
          "model_name": "LayoutModel",
          "model_module_version": "1.2.0",
          "state": {
            "_model_module": "@jupyter-widgets/base",
            "_model_module_version": "1.2.0",
            "_model_name": "LayoutModel",
            "_view_count": null,
            "_view_module": "@jupyter-widgets/base",
            "_view_module_version": "1.2.0",
            "_view_name": "LayoutView",
            "align_content": null,
            "align_items": null,
            "align_self": null,
            "border": null,
            "bottom": null,
            "display": null,
            "flex": null,
            "flex_flow": null,
            "grid_area": null,
            "grid_auto_columns": null,
            "grid_auto_flow": null,
            "grid_auto_rows": null,
            "grid_column": null,
            "grid_gap": null,
            "grid_row": null,
            "grid_template_areas": null,
            "grid_template_columns": null,
            "grid_template_rows": null,
            "height": null,
            "justify_content": null,
            "justify_items": null,
            "left": null,
            "margin": null,
            "max_height": null,
            "max_width": null,
            "min_height": null,
            "min_width": null,
            "object_fit": null,
            "object_position": null,
            "order": null,
            "overflow": null,
            "overflow_x": null,
            "overflow_y": null,
            "padding": null,
            "right": null,
            "top": null,
            "visibility": null,
            "width": null
          }
        },
        "0c27b3aa90d74184ba6fc1a09d54c067": {
          "model_module": "@jupyter-widgets/controls",
          "model_name": "DescriptionStyleModel",
          "model_module_version": "1.5.0",
          "state": {
            "_model_module": "@jupyter-widgets/controls",
            "_model_module_version": "1.5.0",
            "_model_name": "DescriptionStyleModel",
            "_view_count": null,
            "_view_module": "@jupyter-widgets/base",
            "_view_module_version": "1.2.0",
            "_view_name": "StyleView",
            "description_width": ""
          }
        },
        "1f75b5bf630d463095fb793b8cf42438": {
          "model_module": "@jupyter-widgets/base",
          "model_name": "LayoutModel",
          "model_module_version": "1.2.0",
          "state": {
            "_model_module": "@jupyter-widgets/base",
            "_model_module_version": "1.2.0",
            "_model_name": "LayoutModel",
            "_view_count": null,
            "_view_module": "@jupyter-widgets/base",
            "_view_module_version": "1.2.0",
            "_view_name": "LayoutView",
            "align_content": null,
            "align_items": null,
            "align_self": null,
            "border": null,
            "bottom": null,
            "display": null,
            "flex": null,
            "flex_flow": null,
            "grid_area": null,
            "grid_auto_columns": null,
            "grid_auto_flow": null,
            "grid_auto_rows": null,
            "grid_column": null,
            "grid_gap": null,
            "grid_row": null,
            "grid_template_areas": null,
            "grid_template_columns": null,
            "grid_template_rows": null,
            "height": null,
            "justify_content": null,
            "justify_items": null,
            "left": null,
            "margin": null,
            "max_height": null,
            "max_width": null,
            "min_height": null,
            "min_width": null,
            "object_fit": null,
            "object_position": null,
            "order": null,
            "overflow": null,
            "overflow_x": null,
            "overflow_y": null,
            "padding": null,
            "right": null,
            "top": null,
            "visibility": null,
            "width": null
          }
        },
        "9193a704e5224207ab41c25f8cfb51c4": {
          "model_module": "@jupyter-widgets/controls",
          "model_name": "ProgressStyleModel",
          "model_module_version": "1.5.0",
          "state": {
            "_model_module": "@jupyter-widgets/controls",
            "_model_module_version": "1.5.0",
            "_model_name": "ProgressStyleModel",
            "_view_count": null,
            "_view_module": "@jupyter-widgets/base",
            "_view_module_version": "1.2.0",
            "_view_name": "StyleView",
            "bar_color": null,
            "description_width": ""
          }
        },
        "2283ef59262a4c92b2399840266df801": {
          "model_module": "@jupyter-widgets/base",
          "model_name": "LayoutModel",
          "model_module_version": "1.2.0",
          "state": {
            "_model_module": "@jupyter-widgets/base",
            "_model_module_version": "1.2.0",
            "_model_name": "LayoutModel",
            "_view_count": null,
            "_view_module": "@jupyter-widgets/base",
            "_view_module_version": "1.2.0",
            "_view_name": "LayoutView",
            "align_content": null,
            "align_items": null,
            "align_self": null,
            "border": null,
            "bottom": null,
            "display": null,
            "flex": null,
            "flex_flow": null,
            "grid_area": null,
            "grid_auto_columns": null,
            "grid_auto_flow": null,
            "grid_auto_rows": null,
            "grid_column": null,
            "grid_gap": null,
            "grid_row": null,
            "grid_template_areas": null,
            "grid_template_columns": null,
            "grid_template_rows": null,
            "height": null,
            "justify_content": null,
            "justify_items": null,
            "left": null,
            "margin": null,
            "max_height": null,
            "max_width": null,
            "min_height": null,
            "min_width": null,
            "object_fit": null,
            "object_position": null,
            "order": null,
            "overflow": null,
            "overflow_x": null,
            "overflow_y": null,
            "padding": null,
            "right": null,
            "top": null,
            "visibility": null,
            "width": null
          }
        },
        "b7a43639c22b45a28126ca0721a3fa34": {
          "model_module": "@jupyter-widgets/controls",
          "model_name": "DescriptionStyleModel",
          "model_module_version": "1.5.0",
          "state": {
            "_model_module": "@jupyter-widgets/controls",
            "_model_module_version": "1.5.0",
            "_model_name": "DescriptionStyleModel",
            "_view_count": null,
            "_view_module": "@jupyter-widgets/base",
            "_view_module_version": "1.2.0",
            "_view_name": "StyleView",
            "description_width": ""
          }
        },
        "62ccb610945e4cac8b6e37432bc9b92b": {
          "model_module": "@jupyter-widgets/controls",
          "model_name": "HBoxModel",
          "model_module_version": "1.5.0",
          "state": {
            "_dom_classes": [],
            "_model_module": "@jupyter-widgets/controls",
            "_model_module_version": "1.5.0",
            "_model_name": "HBoxModel",
            "_view_count": null,
            "_view_module": "@jupyter-widgets/controls",
            "_view_module_version": "1.5.0",
            "_view_name": "HBoxView",
            "box_style": "",
            "children": [
              "IPY_MODEL_e20b5368cc52433fbaed3544bfff2904",
              "IPY_MODEL_ac1e5d890fc94140bc6561425b83a53a",
              "IPY_MODEL_9e68e648f58b48f1b4f94c83d1745f60"
            ],
            "layout": "IPY_MODEL_264cddf5bd244257b1ab23a76a669d41"
          }
        },
        "e20b5368cc52433fbaed3544bfff2904": {
          "model_module": "@jupyter-widgets/controls",
          "model_name": "HTMLModel",
          "model_module_version": "1.5.0",
          "state": {
            "_dom_classes": [],
            "_model_module": "@jupyter-widgets/controls",
            "_model_module_version": "1.5.0",
            "_model_name": "HTMLModel",
            "_view_count": null,
            "_view_module": "@jupyter-widgets/controls",
            "_view_module_version": "1.5.0",
            "_view_name": "HTMLView",
            "description": "",
            "description_tooltip": null,
            "layout": "IPY_MODEL_6c360db184054af6979616b8bc2f935a",
            "placeholder": "​",
            "style": "IPY_MODEL_c7ccbfae645d4945b4f9f0665542c190",
            "value": ""
          }
        },
        "ac1e5d890fc94140bc6561425b83a53a": {
          "model_module": "@jupyter-widgets/controls",
          "model_name": "FloatProgressModel",
          "model_module_version": "1.5.0",
          "state": {
            "_dom_classes": [],
            "_model_module": "@jupyter-widgets/controls",
            "_model_module_version": "1.5.0",
            "_model_name": "FloatProgressModel",
            "_view_count": null,
            "_view_module": "@jupyter-widgets/controls",
            "_view_module_version": "1.5.0",
            "_view_name": "ProgressView",
            "bar_style": "info",
            "description": "",
            "description_tooltip": null,
            "layout": "IPY_MODEL_5c23013e49724c05add5515f8357d20c",
            "max": 1,
            "min": 0,
            "orientation": "horizontal",
            "style": "IPY_MODEL_a537df497bbe40669576fb73e2aeb6a8",
            "value": 1
          }
        },
        "9e68e648f58b48f1b4f94c83d1745f60": {
          "model_module": "@jupyter-widgets/controls",
          "model_name": "HTMLModel",
          "model_module_version": "1.5.0",
          "state": {
            "_dom_classes": [],
            "_model_module": "@jupyter-widgets/controls",
            "_model_module_version": "1.5.0",
            "_model_name": "HTMLModel",
            "_view_count": null,
            "_view_module": "@jupyter-widgets/controls",
            "_view_module_version": "1.5.0",
            "_view_name": "HTMLView",
            "description": "",
            "description_tooltip": null,
            "layout": "IPY_MODEL_7511cd8ee74b45cbabaa11d0597104ef",
            "placeholder": "​",
            "style": "IPY_MODEL_ca9710e1d644469da76fb037a32cba7a",
            "value": " 4550/0 [00:02&lt;00:00, 1834.99 examples/s]"
          }
        },
        "264cddf5bd244257b1ab23a76a669d41": {
          "model_module": "@jupyter-widgets/base",
          "model_name": "LayoutModel",
          "model_module_version": "1.2.0",
          "state": {
            "_model_module": "@jupyter-widgets/base",
            "_model_module_version": "1.2.0",
            "_model_name": "LayoutModel",
            "_view_count": null,
            "_view_module": "@jupyter-widgets/base",
            "_view_module_version": "1.2.0",
            "_view_name": "LayoutView",
            "align_content": null,
            "align_items": null,
            "align_self": null,
            "border": null,
            "bottom": null,
            "display": null,
            "flex": null,
            "flex_flow": null,
            "grid_area": null,
            "grid_auto_columns": null,
            "grid_auto_flow": null,
            "grid_auto_rows": null,
            "grid_column": null,
            "grid_gap": null,
            "grid_row": null,
            "grid_template_areas": null,
            "grid_template_columns": null,
            "grid_template_rows": null,
            "height": null,
            "justify_content": null,
            "justify_items": null,
            "left": null,
            "margin": null,
            "max_height": null,
            "max_width": null,
            "min_height": null,
            "min_width": null,
            "object_fit": null,
            "object_position": null,
            "order": null,
            "overflow": null,
            "overflow_x": null,
            "overflow_y": null,
            "padding": null,
            "right": null,
            "top": null,
            "visibility": "hidden",
            "width": null
          }
        },
        "6c360db184054af6979616b8bc2f935a": {
          "model_module": "@jupyter-widgets/base",
          "model_name": "LayoutModel",
          "model_module_version": "1.2.0",
          "state": {
            "_model_module": "@jupyter-widgets/base",
            "_model_module_version": "1.2.0",
            "_model_name": "LayoutModel",
            "_view_count": null,
            "_view_module": "@jupyter-widgets/base",
            "_view_module_version": "1.2.0",
            "_view_name": "LayoutView",
            "align_content": null,
            "align_items": null,
            "align_self": null,
            "border": null,
            "bottom": null,
            "display": null,
            "flex": null,
            "flex_flow": null,
            "grid_area": null,
            "grid_auto_columns": null,
            "grid_auto_flow": null,
            "grid_auto_rows": null,
            "grid_column": null,
            "grid_gap": null,
            "grid_row": null,
            "grid_template_areas": null,
            "grid_template_columns": null,
            "grid_template_rows": null,
            "height": null,
            "justify_content": null,
            "justify_items": null,
            "left": null,
            "margin": null,
            "max_height": null,
            "max_width": null,
            "min_height": null,
            "min_width": null,
            "object_fit": null,
            "object_position": null,
            "order": null,
            "overflow": null,
            "overflow_x": null,
            "overflow_y": null,
            "padding": null,
            "right": null,
            "top": null,
            "visibility": null,
            "width": null
          }
        },
        "c7ccbfae645d4945b4f9f0665542c190": {
          "model_module": "@jupyter-widgets/controls",
          "model_name": "DescriptionStyleModel",
          "model_module_version": "1.5.0",
          "state": {
            "_model_module": "@jupyter-widgets/controls",
            "_model_module_version": "1.5.0",
            "_model_name": "DescriptionStyleModel",
            "_view_count": null,
            "_view_module": "@jupyter-widgets/base",
            "_view_module_version": "1.2.0",
            "_view_name": "StyleView",
            "description_width": ""
          }
        },
        "5c23013e49724c05add5515f8357d20c": {
          "model_module": "@jupyter-widgets/base",
          "model_name": "LayoutModel",
          "model_module_version": "1.2.0",
          "state": {
            "_model_module": "@jupyter-widgets/base",
            "_model_module_version": "1.2.0",
            "_model_name": "LayoutModel",
            "_view_count": null,
            "_view_module": "@jupyter-widgets/base",
            "_view_module_version": "1.2.0",
            "_view_name": "LayoutView",
            "align_content": null,
            "align_items": null,
            "align_self": null,
            "border": null,
            "bottom": null,
            "display": null,
            "flex": null,
            "flex_flow": null,
            "grid_area": null,
            "grid_auto_columns": null,
            "grid_auto_flow": null,
            "grid_auto_rows": null,
            "grid_column": null,
            "grid_gap": null,
            "grid_row": null,
            "grid_template_areas": null,
            "grid_template_columns": null,
            "grid_template_rows": null,
            "height": null,
            "justify_content": null,
            "justify_items": null,
            "left": null,
            "margin": null,
            "max_height": null,
            "max_width": null,
            "min_height": null,
            "min_width": null,
            "object_fit": null,
            "object_position": null,
            "order": null,
            "overflow": null,
            "overflow_x": null,
            "overflow_y": null,
            "padding": null,
            "right": null,
            "top": null,
            "visibility": null,
            "width": "20px"
          }
        },
        "a537df497bbe40669576fb73e2aeb6a8": {
          "model_module": "@jupyter-widgets/controls",
          "model_name": "ProgressStyleModel",
          "model_module_version": "1.5.0",
          "state": {
            "_model_module": "@jupyter-widgets/controls",
            "_model_module_version": "1.5.0",
            "_model_name": "ProgressStyleModel",
            "_view_count": null,
            "_view_module": "@jupyter-widgets/base",
            "_view_module_version": "1.2.0",
            "_view_name": "StyleView",
            "bar_color": null,
            "description_width": ""
          }
        },
        "7511cd8ee74b45cbabaa11d0597104ef": {
          "model_module": "@jupyter-widgets/base",
          "model_name": "LayoutModel",
          "model_module_version": "1.2.0",
          "state": {
            "_model_module": "@jupyter-widgets/base",
            "_model_module_version": "1.2.0",
            "_model_name": "LayoutModel",
            "_view_count": null,
            "_view_module": "@jupyter-widgets/base",
            "_view_module_version": "1.2.0",
            "_view_name": "LayoutView",
            "align_content": null,
            "align_items": null,
            "align_self": null,
            "border": null,
            "bottom": null,
            "display": null,
            "flex": null,
            "flex_flow": null,
            "grid_area": null,
            "grid_auto_columns": null,
            "grid_auto_flow": null,
            "grid_auto_rows": null,
            "grid_column": null,
            "grid_gap": null,
            "grid_row": null,
            "grid_template_areas": null,
            "grid_template_columns": null,
            "grid_template_rows": null,
            "height": null,
            "justify_content": null,
            "justify_items": null,
            "left": null,
            "margin": null,
            "max_height": null,
            "max_width": null,
            "min_height": null,
            "min_width": null,
            "object_fit": null,
            "object_position": null,
            "order": null,
            "overflow": null,
            "overflow_x": null,
            "overflow_y": null,
            "padding": null,
            "right": null,
            "top": null,
            "visibility": null,
            "width": null
          }
        },
        "ca9710e1d644469da76fb037a32cba7a": {
          "model_module": "@jupyter-widgets/controls",
          "model_name": "DescriptionStyleModel",
          "model_module_version": "1.5.0",
          "state": {
            "_model_module": "@jupyter-widgets/controls",
            "_model_module_version": "1.5.0",
            "_model_name": "DescriptionStyleModel",
            "_view_count": null,
            "_view_module": "@jupyter-widgets/base",
            "_view_module_version": "1.2.0",
            "_view_name": "StyleView",
            "description_width": ""
          }
        },
        "f322726f036a4f1ba5f91b34f4fd4828": {
          "model_module": "@jupyter-widgets/controls",
          "model_name": "HBoxModel",
          "model_module_version": "1.5.0",
          "state": {
            "_dom_classes": [],
            "_model_module": "@jupyter-widgets/controls",
            "_model_module_version": "1.5.0",
            "_model_name": "HBoxModel",
            "_view_count": null,
            "_view_module": "@jupyter-widgets/controls",
            "_view_module_version": "1.5.0",
            "_view_name": "HBoxView",
            "box_style": "",
            "children": [
              "IPY_MODEL_d792a744b50949f9ae4af93f353b1c8a",
              "IPY_MODEL_3d35b664dd894658b92702c24d6e4bed",
              "IPY_MODEL_60fbca1065c14fb9a062e4b1de68b9d8"
            ],
            "layout": "IPY_MODEL_8f4e080d7b0c44d5b24892dff8686f9a"
          }
        },
        "d792a744b50949f9ae4af93f353b1c8a": {
          "model_module": "@jupyter-widgets/controls",
          "model_name": "HTMLModel",
          "model_module_version": "1.5.0",
          "state": {
            "_dom_classes": [],
            "_model_module": "@jupyter-widgets/controls",
            "_model_module_version": "1.5.0",
            "_model_name": "HTMLModel",
            "_view_count": null,
            "_view_module": "@jupyter-widgets/controls",
            "_view_module_version": "1.5.0",
            "_view_name": "HTMLView",
            "description": "",
            "description_tooltip": null,
            "layout": "IPY_MODEL_4c0235cd9206475bb1d5a2bab2f767ae",
            "placeholder": "​",
            "style": "IPY_MODEL_0f1632bb3c7a4e6cbfbf172290a91573",
            "value": ""
          }
        },
        "3d35b664dd894658b92702c24d6e4bed": {
          "model_module": "@jupyter-widgets/controls",
          "model_name": "FloatProgressModel",
          "model_module_version": "1.5.0",
          "state": {
            "_dom_classes": [],
            "_model_module": "@jupyter-widgets/controls",
            "_model_module_version": "1.5.0",
            "_model_name": "FloatProgressModel",
            "_view_count": null,
            "_view_module": "@jupyter-widgets/controls",
            "_view_module_version": "1.5.0",
            "_view_name": "ProgressView",
            "bar_style": "info",
            "description": "",
            "description_tooltip": null,
            "layout": "IPY_MODEL_48a0383f43a647fab1b063f77ed6d399",
            "max": 1,
            "min": 0,
            "orientation": "horizontal",
            "style": "IPY_MODEL_5c211e14bd194ff0b317ac00dccc5ca8",
            "value": 1
          }
        },
        "60fbca1065c14fb9a062e4b1de68b9d8": {
          "model_module": "@jupyter-widgets/controls",
          "model_name": "HTMLModel",
          "model_module_version": "1.5.0",
          "state": {
            "_dom_classes": [],
            "_model_module": "@jupyter-widgets/controls",
            "_model_module_version": "1.5.0",
            "_model_name": "HTMLModel",
            "_view_count": null,
            "_view_module": "@jupyter-widgets/controls",
            "_view_module_version": "1.5.0",
            "_view_name": "HTMLView",
            "description": "",
            "description_tooltip": null,
            "layout": "IPY_MODEL_5d0faf176c5f4ea7bb99dbc3d64f887f",
            "placeholder": "​",
            "style": "IPY_MODEL_67f7b24e27f846768383598714010a30",
            "value": " 1657/0 [00:01&lt;00:00, 1806.95 examples/s]"
          }
        },
        "8f4e080d7b0c44d5b24892dff8686f9a": {
          "model_module": "@jupyter-widgets/base",
          "model_name": "LayoutModel",
          "model_module_version": "1.2.0",
          "state": {
            "_model_module": "@jupyter-widgets/base",
            "_model_module_version": "1.2.0",
            "_model_name": "LayoutModel",
            "_view_count": null,
            "_view_module": "@jupyter-widgets/base",
            "_view_module_version": "1.2.0",
            "_view_name": "LayoutView",
            "align_content": null,
            "align_items": null,
            "align_self": null,
            "border": null,
            "bottom": null,
            "display": null,
            "flex": null,
            "flex_flow": null,
            "grid_area": null,
            "grid_auto_columns": null,
            "grid_auto_flow": null,
            "grid_auto_rows": null,
            "grid_column": null,
            "grid_gap": null,
            "grid_row": null,
            "grid_template_areas": null,
            "grid_template_columns": null,
            "grid_template_rows": null,
            "height": null,
            "justify_content": null,
            "justify_items": null,
            "left": null,
            "margin": null,
            "max_height": null,
            "max_width": null,
            "min_height": null,
            "min_width": null,
            "object_fit": null,
            "object_position": null,
            "order": null,
            "overflow": null,
            "overflow_x": null,
            "overflow_y": null,
            "padding": null,
            "right": null,
            "top": null,
            "visibility": "hidden",
            "width": null
          }
        },
        "4c0235cd9206475bb1d5a2bab2f767ae": {
          "model_module": "@jupyter-widgets/base",
          "model_name": "LayoutModel",
          "model_module_version": "1.2.0",
          "state": {
            "_model_module": "@jupyter-widgets/base",
            "_model_module_version": "1.2.0",
            "_model_name": "LayoutModel",
            "_view_count": null,
            "_view_module": "@jupyter-widgets/base",
            "_view_module_version": "1.2.0",
            "_view_name": "LayoutView",
            "align_content": null,
            "align_items": null,
            "align_self": null,
            "border": null,
            "bottom": null,
            "display": null,
            "flex": null,
            "flex_flow": null,
            "grid_area": null,
            "grid_auto_columns": null,
            "grid_auto_flow": null,
            "grid_auto_rows": null,
            "grid_column": null,
            "grid_gap": null,
            "grid_row": null,
            "grid_template_areas": null,
            "grid_template_columns": null,
            "grid_template_rows": null,
            "height": null,
            "justify_content": null,
            "justify_items": null,
            "left": null,
            "margin": null,
            "max_height": null,
            "max_width": null,
            "min_height": null,
            "min_width": null,
            "object_fit": null,
            "object_position": null,
            "order": null,
            "overflow": null,
            "overflow_x": null,
            "overflow_y": null,
            "padding": null,
            "right": null,
            "top": null,
            "visibility": null,
            "width": null
          }
        },
        "0f1632bb3c7a4e6cbfbf172290a91573": {
          "model_module": "@jupyter-widgets/controls",
          "model_name": "DescriptionStyleModel",
          "model_module_version": "1.5.0",
          "state": {
            "_model_module": "@jupyter-widgets/controls",
            "_model_module_version": "1.5.0",
            "_model_name": "DescriptionStyleModel",
            "_view_count": null,
            "_view_module": "@jupyter-widgets/base",
            "_view_module_version": "1.2.0",
            "_view_name": "StyleView",
            "description_width": ""
          }
        },
        "48a0383f43a647fab1b063f77ed6d399": {
          "model_module": "@jupyter-widgets/base",
          "model_name": "LayoutModel",
          "model_module_version": "1.2.0",
          "state": {
            "_model_module": "@jupyter-widgets/base",
            "_model_module_version": "1.2.0",
            "_model_name": "LayoutModel",
            "_view_count": null,
            "_view_module": "@jupyter-widgets/base",
            "_view_module_version": "1.2.0",
            "_view_name": "LayoutView",
            "align_content": null,
            "align_items": null,
            "align_self": null,
            "border": null,
            "bottom": null,
            "display": null,
            "flex": null,
            "flex_flow": null,
            "grid_area": null,
            "grid_auto_columns": null,
            "grid_auto_flow": null,
            "grid_auto_rows": null,
            "grid_column": null,
            "grid_gap": null,
            "grid_row": null,
            "grid_template_areas": null,
            "grid_template_columns": null,
            "grid_template_rows": null,
            "height": null,
            "justify_content": null,
            "justify_items": null,
            "left": null,
            "margin": null,
            "max_height": null,
            "max_width": null,
            "min_height": null,
            "min_width": null,
            "object_fit": null,
            "object_position": null,
            "order": null,
            "overflow": null,
            "overflow_x": null,
            "overflow_y": null,
            "padding": null,
            "right": null,
            "top": null,
            "visibility": null,
            "width": "20px"
          }
        },
        "5c211e14bd194ff0b317ac00dccc5ca8": {
          "model_module": "@jupyter-widgets/controls",
          "model_name": "ProgressStyleModel",
          "model_module_version": "1.5.0",
          "state": {
            "_model_module": "@jupyter-widgets/controls",
            "_model_module_version": "1.5.0",
            "_model_name": "ProgressStyleModel",
            "_view_count": null,
            "_view_module": "@jupyter-widgets/base",
            "_view_module_version": "1.2.0",
            "_view_name": "StyleView",
            "bar_color": null,
            "description_width": ""
          }
        },
        "5d0faf176c5f4ea7bb99dbc3d64f887f": {
          "model_module": "@jupyter-widgets/base",
          "model_name": "LayoutModel",
          "model_module_version": "1.2.0",
          "state": {
            "_model_module": "@jupyter-widgets/base",
            "_model_module_version": "1.2.0",
            "_model_name": "LayoutModel",
            "_view_count": null,
            "_view_module": "@jupyter-widgets/base",
            "_view_module_version": "1.2.0",
            "_view_name": "LayoutView",
            "align_content": null,
            "align_items": null,
            "align_self": null,
            "border": null,
            "bottom": null,
            "display": null,
            "flex": null,
            "flex_flow": null,
            "grid_area": null,
            "grid_auto_columns": null,
            "grid_auto_flow": null,
            "grid_auto_rows": null,
            "grid_column": null,
            "grid_gap": null,
            "grid_row": null,
            "grid_template_areas": null,
            "grid_template_columns": null,
            "grid_template_rows": null,
            "height": null,
            "justify_content": null,
            "justify_items": null,
            "left": null,
            "margin": null,
            "max_height": null,
            "max_width": null,
            "min_height": null,
            "min_width": null,
            "object_fit": null,
            "object_position": null,
            "order": null,
            "overflow": null,
            "overflow_x": null,
            "overflow_y": null,
            "padding": null,
            "right": null,
            "top": null,
            "visibility": null,
            "width": null
          }
        },
        "67f7b24e27f846768383598714010a30": {
          "model_module": "@jupyter-widgets/controls",
          "model_name": "DescriptionStyleModel",
          "model_module_version": "1.5.0",
          "state": {
            "_model_module": "@jupyter-widgets/controls",
            "_model_module_version": "1.5.0",
            "_model_name": "DescriptionStyleModel",
            "_view_count": null,
            "_view_module": "@jupyter-widgets/base",
            "_view_module_version": "1.2.0",
            "_view_name": "StyleView",
            "description_width": ""
          }
        },
        "7e4f8a03c3b540089b4e281c146df7ef": {
          "model_module": "@jupyter-widgets/controls",
          "model_name": "HBoxModel",
          "model_module_version": "1.5.0",
          "state": {
            "_dom_classes": [],
            "_model_module": "@jupyter-widgets/controls",
            "_model_module_version": "1.5.0",
            "_model_name": "HBoxModel",
            "_view_count": null,
            "_view_module": "@jupyter-widgets/controls",
            "_view_module_version": "1.5.0",
            "_view_name": "HBoxView",
            "box_style": "",
            "children": [
              "IPY_MODEL_a6dcf8b3cd81435fa855973963f1db8d",
              "IPY_MODEL_057cb62d7207420187081bd369044a5e",
              "IPY_MODEL_d7fef556fc1041bf9a1dd278980f27c5"
            ],
            "layout": "IPY_MODEL_86b866e8737c45399ef7cbcd5164f8a5"
          }
        },
        "a6dcf8b3cd81435fa855973963f1db8d": {
          "model_module": "@jupyter-widgets/controls",
          "model_name": "HTMLModel",
          "model_module_version": "1.5.0",
          "state": {
            "_dom_classes": [],
            "_model_module": "@jupyter-widgets/controls",
            "_model_module_version": "1.5.0",
            "_model_name": "HTMLModel",
            "_view_count": null,
            "_view_module": "@jupyter-widgets/controls",
            "_view_module_version": "1.5.0",
            "_view_name": "HTMLView",
            "description": "",
            "description_tooltip": null,
            "layout": "IPY_MODEL_5bfcd1c211a54416ab4fee9a87615665",
            "placeholder": "​",
            "style": "IPY_MODEL_37d2ec22eb8146849c69caeb5dfceb5a",
            "value": "100%"
          }
        },
        "057cb62d7207420187081bd369044a5e": {
          "model_module": "@jupyter-widgets/controls",
          "model_name": "FloatProgressModel",
          "model_module_version": "1.5.0",
          "state": {
            "_dom_classes": [],
            "_model_module": "@jupyter-widgets/controls",
            "_model_module_version": "1.5.0",
            "_model_name": "FloatProgressModel",
            "_view_count": null,
            "_view_module": "@jupyter-widgets/controls",
            "_view_module_version": "1.5.0",
            "_view_name": "ProgressView",
            "bar_style": "success",
            "description": "",
            "description_tooltip": null,
            "layout": "IPY_MODEL_6b616032741c4352afc46c2e0c251ace",
            "max": 2,
            "min": 0,
            "orientation": "horizontal",
            "style": "IPY_MODEL_c04e106a5e694361aaa5afbdf414223e",
            "value": 2
          }
        },
        "d7fef556fc1041bf9a1dd278980f27c5": {
          "model_module": "@jupyter-widgets/controls",
          "model_name": "HTMLModel",
          "model_module_version": "1.5.0",
          "state": {
            "_dom_classes": [],
            "_model_module": "@jupyter-widgets/controls",
            "_model_module_version": "1.5.0",
            "_model_name": "HTMLModel",
            "_view_count": null,
            "_view_module": "@jupyter-widgets/controls",
            "_view_module_version": "1.5.0",
            "_view_name": "HTMLView",
            "description": "",
            "description_tooltip": null,
            "layout": "IPY_MODEL_b84be546f1604b009b29f3282ee1b5f2",
            "placeholder": "​",
            "style": "IPY_MODEL_8352255c43344fcf8544a909b8ac4f9a",
            "value": " 2/2 [00:00&lt;00:00, 106.85it/s]"
          }
        },
        "86b866e8737c45399ef7cbcd5164f8a5": {
          "model_module": "@jupyter-widgets/base",
          "model_name": "LayoutModel",
          "model_module_version": "1.2.0",
          "state": {
            "_model_module": "@jupyter-widgets/base",
            "_model_module_version": "1.2.0",
            "_model_name": "LayoutModel",
            "_view_count": null,
            "_view_module": "@jupyter-widgets/base",
            "_view_module_version": "1.2.0",
            "_view_name": "LayoutView",
            "align_content": null,
            "align_items": null,
            "align_self": null,
            "border": null,
            "bottom": null,
            "display": null,
            "flex": null,
            "flex_flow": null,
            "grid_area": null,
            "grid_auto_columns": null,
            "grid_auto_flow": null,
            "grid_auto_rows": null,
            "grid_column": null,
            "grid_gap": null,
            "grid_row": null,
            "grid_template_areas": null,
            "grid_template_columns": null,
            "grid_template_rows": null,
            "height": null,
            "justify_content": null,
            "justify_items": null,
            "left": null,
            "margin": null,
            "max_height": null,
            "max_width": null,
            "min_height": null,
            "min_width": null,
            "object_fit": null,
            "object_position": null,
            "order": null,
            "overflow": null,
            "overflow_x": null,
            "overflow_y": null,
            "padding": null,
            "right": null,
            "top": null,
            "visibility": null,
            "width": null
          }
        },
        "5bfcd1c211a54416ab4fee9a87615665": {
          "model_module": "@jupyter-widgets/base",
          "model_name": "LayoutModel",
          "model_module_version": "1.2.0",
          "state": {
            "_model_module": "@jupyter-widgets/base",
            "_model_module_version": "1.2.0",
            "_model_name": "LayoutModel",
            "_view_count": null,
            "_view_module": "@jupyter-widgets/base",
            "_view_module_version": "1.2.0",
            "_view_name": "LayoutView",
            "align_content": null,
            "align_items": null,
            "align_self": null,
            "border": null,
            "bottom": null,
            "display": null,
            "flex": null,
            "flex_flow": null,
            "grid_area": null,
            "grid_auto_columns": null,
            "grid_auto_flow": null,
            "grid_auto_rows": null,
            "grid_column": null,
            "grid_gap": null,
            "grid_row": null,
            "grid_template_areas": null,
            "grid_template_columns": null,
            "grid_template_rows": null,
            "height": null,
            "justify_content": null,
            "justify_items": null,
            "left": null,
            "margin": null,
            "max_height": null,
            "max_width": null,
            "min_height": null,
            "min_width": null,
            "object_fit": null,
            "object_position": null,
            "order": null,
            "overflow": null,
            "overflow_x": null,
            "overflow_y": null,
            "padding": null,
            "right": null,
            "top": null,
            "visibility": null,
            "width": null
          }
        },
        "37d2ec22eb8146849c69caeb5dfceb5a": {
          "model_module": "@jupyter-widgets/controls",
          "model_name": "DescriptionStyleModel",
          "model_module_version": "1.5.0",
          "state": {
            "_model_module": "@jupyter-widgets/controls",
            "_model_module_version": "1.5.0",
            "_model_name": "DescriptionStyleModel",
            "_view_count": null,
            "_view_module": "@jupyter-widgets/base",
            "_view_module_version": "1.2.0",
            "_view_name": "StyleView",
            "description_width": ""
          }
        },
        "6b616032741c4352afc46c2e0c251ace": {
          "model_module": "@jupyter-widgets/base",
          "model_name": "LayoutModel",
          "model_module_version": "1.2.0",
          "state": {
            "_model_module": "@jupyter-widgets/base",
            "_model_module_version": "1.2.0",
            "_model_name": "LayoutModel",
            "_view_count": null,
            "_view_module": "@jupyter-widgets/base",
            "_view_module_version": "1.2.0",
            "_view_name": "LayoutView",
            "align_content": null,
            "align_items": null,
            "align_self": null,
            "border": null,
            "bottom": null,
            "display": null,
            "flex": null,
            "flex_flow": null,
            "grid_area": null,
            "grid_auto_columns": null,
            "grid_auto_flow": null,
            "grid_auto_rows": null,
            "grid_column": null,
            "grid_gap": null,
            "grid_row": null,
            "grid_template_areas": null,
            "grid_template_columns": null,
            "grid_template_rows": null,
            "height": null,
            "justify_content": null,
            "justify_items": null,
            "left": null,
            "margin": null,
            "max_height": null,
            "max_width": null,
            "min_height": null,
            "min_width": null,
            "object_fit": null,
            "object_position": null,
            "order": null,
            "overflow": null,
            "overflow_x": null,
            "overflow_y": null,
            "padding": null,
            "right": null,
            "top": null,
            "visibility": null,
            "width": null
          }
        },
        "c04e106a5e694361aaa5afbdf414223e": {
          "model_module": "@jupyter-widgets/controls",
          "model_name": "ProgressStyleModel",
          "model_module_version": "1.5.0",
          "state": {
            "_model_module": "@jupyter-widgets/controls",
            "_model_module_version": "1.5.0",
            "_model_name": "ProgressStyleModel",
            "_view_count": null,
            "_view_module": "@jupyter-widgets/base",
            "_view_module_version": "1.2.0",
            "_view_name": "StyleView",
            "bar_color": null,
            "description_width": ""
          }
        },
        "b84be546f1604b009b29f3282ee1b5f2": {
          "model_module": "@jupyter-widgets/base",
          "model_name": "LayoutModel",
          "model_module_version": "1.2.0",
          "state": {
            "_model_module": "@jupyter-widgets/base",
            "_model_module_version": "1.2.0",
            "_model_name": "LayoutModel",
            "_view_count": null,
            "_view_module": "@jupyter-widgets/base",
            "_view_module_version": "1.2.0",
            "_view_name": "LayoutView",
            "align_content": null,
            "align_items": null,
            "align_self": null,
            "border": null,
            "bottom": null,
            "display": null,
            "flex": null,
            "flex_flow": null,
            "grid_area": null,
            "grid_auto_columns": null,
            "grid_auto_flow": null,
            "grid_auto_rows": null,
            "grid_column": null,
            "grid_gap": null,
            "grid_row": null,
            "grid_template_areas": null,
            "grid_template_columns": null,
            "grid_template_rows": null,
            "height": null,
            "justify_content": null,
            "justify_items": null,
            "left": null,
            "margin": null,
            "max_height": null,
            "max_width": null,
            "min_height": null,
            "min_width": null,
            "object_fit": null,
            "object_position": null,
            "order": null,
            "overflow": null,
            "overflow_x": null,
            "overflow_y": null,
            "padding": null,
            "right": null,
            "top": null,
            "visibility": null,
            "width": null
          }
        },
        "8352255c43344fcf8544a909b8ac4f9a": {
          "model_module": "@jupyter-widgets/controls",
          "model_name": "DescriptionStyleModel",
          "model_module_version": "1.5.0",
          "state": {
            "_model_module": "@jupyter-widgets/controls",
            "_model_module_version": "1.5.0",
            "_model_name": "DescriptionStyleModel",
            "_view_count": null,
            "_view_module": "@jupyter-widgets/base",
            "_view_module_version": "1.2.0",
            "_view_name": "StyleView",
            "description_width": ""
          }
        },
        "efee6f439c564464969984a99d376857": {
          "model_module": "@jupyter-widgets/controls",
          "model_name": "HBoxModel",
          "model_module_version": "1.5.0",
          "state": {
            "_dom_classes": [],
            "_model_module": "@jupyter-widgets/controls",
            "_model_module_version": "1.5.0",
            "_model_name": "HBoxModel",
            "_view_count": null,
            "_view_module": "@jupyter-widgets/controls",
            "_view_module_version": "1.5.0",
            "_view_name": "HBoxView",
            "box_style": "",
            "children": [
              "IPY_MODEL_6578174d00664039a30ada51c6b1c081",
              "IPY_MODEL_aafc7f2b0c11456d88e9dea9b41c63be",
              "IPY_MODEL_dedacd05b2b24346943f91880e072b70"
            ],
            "layout": "IPY_MODEL_a2b178edd0114842898a7b77df01fe12"
          }
        },
        "6578174d00664039a30ada51c6b1c081": {
          "model_module": "@jupyter-widgets/controls",
          "model_name": "HTMLModel",
          "model_module_version": "1.5.0",
          "state": {
            "_dom_classes": [],
            "_model_module": "@jupyter-widgets/controls",
            "_model_module_version": "1.5.0",
            "_model_name": "HTMLModel",
            "_view_count": null,
            "_view_module": "@jupyter-widgets/controls",
            "_view_module_version": "1.5.0",
            "_view_name": "HTMLView",
            "description": "",
            "description_tooltip": null,
            "layout": "IPY_MODEL_543a838661484f829623363b84efb815",
            "placeholder": "​",
            "style": "IPY_MODEL_8cd10b331ecb4ed396a69d0eb58793fe",
            "value": ""
          }
        },
        "aafc7f2b0c11456d88e9dea9b41c63be": {
          "model_module": "@jupyter-widgets/controls",
          "model_name": "FloatProgressModel",
          "model_module_version": "1.5.0",
          "state": {
            "_dom_classes": [],
            "_model_module": "@jupyter-widgets/controls",
            "_model_module_version": "1.5.0",
            "_model_name": "FloatProgressModel",
            "_view_count": null,
            "_view_module": "@jupyter-widgets/controls",
            "_view_module_version": "1.5.0",
            "_view_name": "ProgressView",
            "bar_style": "success",
            "description": "",
            "description_tooltip": null,
            "layout": "IPY_MODEL_73de6510064e4cfb9a5faa8d44e6e20d",
            "max": 1,
            "min": 0,
            "orientation": "horizontal",
            "style": "IPY_MODEL_4141432f93264c0d9f87e758dc16ef74",
            "value": 1
          }
        },
        "dedacd05b2b24346943f91880e072b70": {
          "model_module": "@jupyter-widgets/controls",
          "model_name": "HTMLModel",
          "model_module_version": "1.5.0",
          "state": {
            "_dom_classes": [],
            "_model_module": "@jupyter-widgets/controls",
            "_model_module_version": "1.5.0",
            "_model_name": "HTMLModel",
            "_view_count": null,
            "_view_module": "@jupyter-widgets/controls",
            "_view_module_version": "1.5.0",
            "_view_name": "HTMLView",
            "description": "",
            "description_tooltip": null,
            "layout": "IPY_MODEL_87f4a440b53c45839ce68c12385072a1",
            "placeholder": "​",
            "style": "IPY_MODEL_592381ecd7e246f6a9e5431875a8a910",
            "value": " 4620/? [00:00&lt;00:00, 10874.42ex/s]"
          }
        },
        "a2b178edd0114842898a7b77df01fe12": {
          "model_module": "@jupyter-widgets/base",
          "model_name": "LayoutModel",
          "model_module_version": "1.2.0",
          "state": {
            "_model_module": "@jupyter-widgets/base",
            "_model_module_version": "1.2.0",
            "_model_name": "LayoutModel",
            "_view_count": null,
            "_view_module": "@jupyter-widgets/base",
            "_view_module_version": "1.2.0",
            "_view_name": "LayoutView",
            "align_content": null,
            "align_items": null,
            "align_self": null,
            "border": null,
            "bottom": null,
            "display": null,
            "flex": null,
            "flex_flow": null,
            "grid_area": null,
            "grid_auto_columns": null,
            "grid_auto_flow": null,
            "grid_auto_rows": null,
            "grid_column": null,
            "grid_gap": null,
            "grid_row": null,
            "grid_template_areas": null,
            "grid_template_columns": null,
            "grid_template_rows": null,
            "height": null,
            "justify_content": null,
            "justify_items": null,
            "left": null,
            "margin": null,
            "max_height": null,
            "max_width": null,
            "min_height": null,
            "min_width": null,
            "object_fit": null,
            "object_position": null,
            "order": null,
            "overflow": null,
            "overflow_x": null,
            "overflow_y": null,
            "padding": null,
            "right": null,
            "top": null,
            "visibility": null,
            "width": null
          }
        },
        "543a838661484f829623363b84efb815": {
          "model_module": "@jupyter-widgets/base",
          "model_name": "LayoutModel",
          "model_module_version": "1.2.0",
          "state": {
            "_model_module": "@jupyter-widgets/base",
            "_model_module_version": "1.2.0",
            "_model_name": "LayoutModel",
            "_view_count": null,
            "_view_module": "@jupyter-widgets/base",
            "_view_module_version": "1.2.0",
            "_view_name": "LayoutView",
            "align_content": null,
            "align_items": null,
            "align_self": null,
            "border": null,
            "bottom": null,
            "display": null,
            "flex": null,
            "flex_flow": null,
            "grid_area": null,
            "grid_auto_columns": null,
            "grid_auto_flow": null,
            "grid_auto_rows": null,
            "grid_column": null,
            "grid_gap": null,
            "grid_row": null,
            "grid_template_areas": null,
            "grid_template_columns": null,
            "grid_template_rows": null,
            "height": null,
            "justify_content": null,
            "justify_items": null,
            "left": null,
            "margin": null,
            "max_height": null,
            "max_width": null,
            "min_height": null,
            "min_width": null,
            "object_fit": null,
            "object_position": null,
            "order": null,
            "overflow": null,
            "overflow_x": null,
            "overflow_y": null,
            "padding": null,
            "right": null,
            "top": null,
            "visibility": null,
            "width": null
          }
        },
        "8cd10b331ecb4ed396a69d0eb58793fe": {
          "model_module": "@jupyter-widgets/controls",
          "model_name": "DescriptionStyleModel",
          "model_module_version": "1.5.0",
          "state": {
            "_model_module": "@jupyter-widgets/controls",
            "_model_module_version": "1.5.0",
            "_model_name": "DescriptionStyleModel",
            "_view_count": null,
            "_view_module": "@jupyter-widgets/base",
            "_view_module_version": "1.2.0",
            "_view_name": "StyleView",
            "description_width": ""
          }
        },
        "73de6510064e4cfb9a5faa8d44e6e20d": {
          "model_module": "@jupyter-widgets/base",
          "model_name": "LayoutModel",
          "model_module_version": "1.2.0",
          "state": {
            "_model_module": "@jupyter-widgets/base",
            "_model_module_version": "1.2.0",
            "_model_name": "LayoutModel",
            "_view_count": null,
            "_view_module": "@jupyter-widgets/base",
            "_view_module_version": "1.2.0",
            "_view_name": "LayoutView",
            "align_content": null,
            "align_items": null,
            "align_self": null,
            "border": null,
            "bottom": null,
            "display": null,
            "flex": null,
            "flex_flow": null,
            "grid_area": null,
            "grid_auto_columns": null,
            "grid_auto_flow": null,
            "grid_auto_rows": null,
            "grid_column": null,
            "grid_gap": null,
            "grid_row": null,
            "grid_template_areas": null,
            "grid_template_columns": null,
            "grid_template_rows": null,
            "height": null,
            "justify_content": null,
            "justify_items": null,
            "left": null,
            "margin": null,
            "max_height": null,
            "max_width": null,
            "min_height": null,
            "min_width": null,
            "object_fit": null,
            "object_position": null,
            "order": null,
            "overflow": null,
            "overflow_x": null,
            "overflow_y": null,
            "padding": null,
            "right": null,
            "top": null,
            "visibility": null,
            "width": "20px"
          }
        },
        "4141432f93264c0d9f87e758dc16ef74": {
          "model_module": "@jupyter-widgets/controls",
          "model_name": "ProgressStyleModel",
          "model_module_version": "1.5.0",
          "state": {
            "_model_module": "@jupyter-widgets/controls",
            "_model_module_version": "1.5.0",
            "_model_name": "ProgressStyleModel",
            "_view_count": null,
            "_view_module": "@jupyter-widgets/base",
            "_view_module_version": "1.2.0",
            "_view_name": "StyleView",
            "bar_color": null,
            "description_width": ""
          }
        },
        "87f4a440b53c45839ce68c12385072a1": {
          "model_module": "@jupyter-widgets/base",
          "model_name": "LayoutModel",
          "model_module_version": "1.2.0",
          "state": {
            "_model_module": "@jupyter-widgets/base",
            "_model_module_version": "1.2.0",
            "_model_name": "LayoutModel",
            "_view_count": null,
            "_view_module": "@jupyter-widgets/base",
            "_view_module_version": "1.2.0",
            "_view_name": "LayoutView",
            "align_content": null,
            "align_items": null,
            "align_self": null,
            "border": null,
            "bottom": null,
            "display": null,
            "flex": null,
            "flex_flow": null,
            "grid_area": null,
            "grid_auto_columns": null,
            "grid_auto_flow": null,
            "grid_auto_rows": null,
            "grid_column": null,
            "grid_gap": null,
            "grid_row": null,
            "grid_template_areas": null,
            "grid_template_columns": null,
            "grid_template_rows": null,
            "height": null,
            "justify_content": null,
            "justify_items": null,
            "left": null,
            "margin": null,
            "max_height": null,
            "max_width": null,
            "min_height": null,
            "min_width": null,
            "object_fit": null,
            "object_position": null,
            "order": null,
            "overflow": null,
            "overflow_x": null,
            "overflow_y": null,
            "padding": null,
            "right": null,
            "top": null,
            "visibility": null,
            "width": null
          }
        },
        "592381ecd7e246f6a9e5431875a8a910": {
          "model_module": "@jupyter-widgets/controls",
          "model_name": "DescriptionStyleModel",
          "model_module_version": "1.5.0",
          "state": {
            "_model_module": "@jupyter-widgets/controls",
            "_model_module_version": "1.5.0",
            "_model_name": "DescriptionStyleModel",
            "_view_count": null,
            "_view_module": "@jupyter-widgets/base",
            "_view_module_version": "1.2.0",
            "_view_name": "StyleView",
            "description_width": ""
          }
        },
        "43f7f5d36c314c2480db4ec4dd4cde76": {
          "model_module": "@jupyter-widgets/controls",
          "model_name": "HBoxModel",
          "model_module_version": "1.5.0",
          "state": {
            "_dom_classes": [],
            "_model_module": "@jupyter-widgets/controls",
            "_model_module_version": "1.5.0",
            "_model_name": "HBoxModel",
            "_view_count": null,
            "_view_module": "@jupyter-widgets/controls",
            "_view_module_version": "1.5.0",
            "_view_name": "HBoxView",
            "box_style": "",
            "children": [
              "IPY_MODEL_ba304929a25c48568e65477b8c301a1f",
              "IPY_MODEL_2768fe4eaa794eb4a9f82ccea1709855",
              "IPY_MODEL_234b975ec9124ed79b4cf95fa9479525"
            ],
            "layout": "IPY_MODEL_714dd9baf82548bba2e97552e64f5d7a"
          }
        },
        "ba304929a25c48568e65477b8c301a1f": {
          "model_module": "@jupyter-widgets/controls",
          "model_name": "HTMLModel",
          "model_module_version": "1.5.0",
          "state": {
            "_dom_classes": [],
            "_model_module": "@jupyter-widgets/controls",
            "_model_module_version": "1.5.0",
            "_model_name": "HTMLModel",
            "_view_count": null,
            "_view_module": "@jupyter-widgets/controls",
            "_view_module_version": "1.5.0",
            "_view_name": "HTMLView",
            "description": "",
            "description_tooltip": null,
            "layout": "IPY_MODEL_d7c38045a05545bc8da3763b512bf0d0",
            "placeholder": "​",
            "style": "IPY_MODEL_1f8a47a47f664a5b8c818cdd6324c41a",
            "value": ""
          }
        },
        "2768fe4eaa794eb4a9f82ccea1709855": {
          "model_module": "@jupyter-widgets/controls",
          "model_name": "FloatProgressModel",
          "model_module_version": "1.5.0",
          "state": {
            "_dom_classes": [],
            "_model_module": "@jupyter-widgets/controls",
            "_model_module_version": "1.5.0",
            "_model_name": "FloatProgressModel",
            "_view_count": null,
            "_view_module": "@jupyter-widgets/controls",
            "_view_module_version": "1.5.0",
            "_view_name": "ProgressView",
            "bar_style": "success",
            "description": "",
            "description_tooltip": null,
            "layout": "IPY_MODEL_2f33401a8df0404bb3272c0d0948f98d",
            "max": 1,
            "min": 0,
            "orientation": "horizontal",
            "style": "IPY_MODEL_feaab7f3e6d2487cb04e324cc6a3ad5b",
            "value": 1
          }
        },
        "234b975ec9124ed79b4cf95fa9479525": {
          "model_module": "@jupyter-widgets/controls",
          "model_name": "HTMLModel",
          "model_module_version": "1.5.0",
          "state": {
            "_dom_classes": [],
            "_model_module": "@jupyter-widgets/controls",
            "_model_module_version": "1.5.0",
            "_model_name": "HTMLModel",
            "_view_count": null,
            "_view_module": "@jupyter-widgets/controls",
            "_view_module_version": "1.5.0",
            "_view_name": "HTMLView",
            "description": "",
            "description_tooltip": null,
            "layout": "IPY_MODEL_8d4f12cf11594e76aeb30079af84cdac",
            "placeholder": "​",
            "style": "IPY_MODEL_41e0bb6a7a534b908d34fc99a2d9b1a7",
            "value": " 1680/? [00:00&lt;00:00, 10573.48ex/s]"
          }
        },
        "714dd9baf82548bba2e97552e64f5d7a": {
          "model_module": "@jupyter-widgets/base",
          "model_name": "LayoutModel",
          "model_module_version": "1.2.0",
          "state": {
            "_model_module": "@jupyter-widgets/base",
            "_model_module_version": "1.2.0",
            "_model_name": "LayoutModel",
            "_view_count": null,
            "_view_module": "@jupyter-widgets/base",
            "_view_module_version": "1.2.0",
            "_view_name": "LayoutView",
            "align_content": null,
            "align_items": null,
            "align_self": null,
            "border": null,
            "bottom": null,
            "display": null,
            "flex": null,
            "flex_flow": null,
            "grid_area": null,
            "grid_auto_columns": null,
            "grid_auto_flow": null,
            "grid_auto_rows": null,
            "grid_column": null,
            "grid_gap": null,
            "grid_row": null,
            "grid_template_areas": null,
            "grid_template_columns": null,
            "grid_template_rows": null,
            "height": null,
            "justify_content": null,
            "justify_items": null,
            "left": null,
            "margin": null,
            "max_height": null,
            "max_width": null,
            "min_height": null,
            "min_width": null,
            "object_fit": null,
            "object_position": null,
            "order": null,
            "overflow": null,
            "overflow_x": null,
            "overflow_y": null,
            "padding": null,
            "right": null,
            "top": null,
            "visibility": null,
            "width": null
          }
        },
        "d7c38045a05545bc8da3763b512bf0d0": {
          "model_module": "@jupyter-widgets/base",
          "model_name": "LayoutModel",
          "model_module_version": "1.2.0",
          "state": {
            "_model_module": "@jupyter-widgets/base",
            "_model_module_version": "1.2.0",
            "_model_name": "LayoutModel",
            "_view_count": null,
            "_view_module": "@jupyter-widgets/base",
            "_view_module_version": "1.2.0",
            "_view_name": "LayoutView",
            "align_content": null,
            "align_items": null,
            "align_self": null,
            "border": null,
            "bottom": null,
            "display": null,
            "flex": null,
            "flex_flow": null,
            "grid_area": null,
            "grid_auto_columns": null,
            "grid_auto_flow": null,
            "grid_auto_rows": null,
            "grid_column": null,
            "grid_gap": null,
            "grid_row": null,
            "grid_template_areas": null,
            "grid_template_columns": null,
            "grid_template_rows": null,
            "height": null,
            "justify_content": null,
            "justify_items": null,
            "left": null,
            "margin": null,
            "max_height": null,
            "max_width": null,
            "min_height": null,
            "min_width": null,
            "object_fit": null,
            "object_position": null,
            "order": null,
            "overflow": null,
            "overflow_x": null,
            "overflow_y": null,
            "padding": null,
            "right": null,
            "top": null,
            "visibility": null,
            "width": null
          }
        },
        "1f8a47a47f664a5b8c818cdd6324c41a": {
          "model_module": "@jupyter-widgets/controls",
          "model_name": "DescriptionStyleModel",
          "model_module_version": "1.5.0",
          "state": {
            "_model_module": "@jupyter-widgets/controls",
            "_model_module_version": "1.5.0",
            "_model_name": "DescriptionStyleModel",
            "_view_count": null,
            "_view_module": "@jupyter-widgets/base",
            "_view_module_version": "1.2.0",
            "_view_name": "StyleView",
            "description_width": ""
          }
        },
        "2f33401a8df0404bb3272c0d0948f98d": {
          "model_module": "@jupyter-widgets/base",
          "model_name": "LayoutModel",
          "model_module_version": "1.2.0",
          "state": {
            "_model_module": "@jupyter-widgets/base",
            "_model_module_version": "1.2.0",
            "_model_name": "LayoutModel",
            "_view_count": null,
            "_view_module": "@jupyter-widgets/base",
            "_view_module_version": "1.2.0",
            "_view_name": "LayoutView",
            "align_content": null,
            "align_items": null,
            "align_self": null,
            "border": null,
            "bottom": null,
            "display": null,
            "flex": null,
            "flex_flow": null,
            "grid_area": null,
            "grid_auto_columns": null,
            "grid_auto_flow": null,
            "grid_auto_rows": null,
            "grid_column": null,
            "grid_gap": null,
            "grid_row": null,
            "grid_template_areas": null,
            "grid_template_columns": null,
            "grid_template_rows": null,
            "height": null,
            "justify_content": null,
            "justify_items": null,
            "left": null,
            "margin": null,
            "max_height": null,
            "max_width": null,
            "min_height": null,
            "min_width": null,
            "object_fit": null,
            "object_position": null,
            "order": null,
            "overflow": null,
            "overflow_x": null,
            "overflow_y": null,
            "padding": null,
            "right": null,
            "top": null,
            "visibility": null,
            "width": "20px"
          }
        },
        "feaab7f3e6d2487cb04e324cc6a3ad5b": {
          "model_module": "@jupyter-widgets/controls",
          "model_name": "ProgressStyleModel",
          "model_module_version": "1.5.0",
          "state": {
            "_model_module": "@jupyter-widgets/controls",
            "_model_module_version": "1.5.0",
            "_model_name": "ProgressStyleModel",
            "_view_count": null,
            "_view_module": "@jupyter-widgets/base",
            "_view_module_version": "1.2.0",
            "_view_name": "StyleView",
            "bar_color": null,
            "description_width": ""
          }
        },
        "8d4f12cf11594e76aeb30079af84cdac": {
          "model_module": "@jupyter-widgets/base",
          "model_name": "LayoutModel",
          "model_module_version": "1.2.0",
          "state": {
            "_model_module": "@jupyter-widgets/base",
            "_model_module_version": "1.2.0",
            "_model_name": "LayoutModel",
            "_view_count": null,
            "_view_module": "@jupyter-widgets/base",
            "_view_module_version": "1.2.0",
            "_view_name": "LayoutView",
            "align_content": null,
            "align_items": null,
            "align_self": null,
            "border": null,
            "bottom": null,
            "display": null,
            "flex": null,
            "flex_flow": null,
            "grid_area": null,
            "grid_auto_columns": null,
            "grid_auto_flow": null,
            "grid_auto_rows": null,
            "grid_column": null,
            "grid_gap": null,
            "grid_row": null,
            "grid_template_areas": null,
            "grid_template_columns": null,
            "grid_template_rows": null,
            "height": null,
            "justify_content": null,
            "justify_items": null,
            "left": null,
            "margin": null,
            "max_height": null,
            "max_width": null,
            "min_height": null,
            "min_width": null,
            "object_fit": null,
            "object_position": null,
            "order": null,
            "overflow": null,
            "overflow_x": null,
            "overflow_y": null,
            "padding": null,
            "right": null,
            "top": null,
            "visibility": null,
            "width": null
          }
        },
        "41e0bb6a7a534b908d34fc99a2d9b1a7": {
          "model_module": "@jupyter-widgets/controls",
          "model_name": "DescriptionStyleModel",
          "model_module_version": "1.5.0",
          "state": {
            "_model_module": "@jupyter-widgets/controls",
            "_model_module_version": "1.5.0",
            "_model_name": "DescriptionStyleModel",
            "_view_count": null,
            "_view_module": "@jupyter-widgets/base",
            "_view_module_version": "1.2.0",
            "_view_name": "StyleView",
            "description_width": ""
          }
        },
        "5a14ce9df97644029192c4574769b052": {
          "model_module": "@jupyter-widgets/controls",
          "model_name": "HBoxModel",
          "model_module_version": "1.5.0",
          "state": {
            "_dom_classes": [],
            "_model_module": "@jupyter-widgets/controls",
            "_model_module_version": "1.5.0",
            "_model_name": "HBoxModel",
            "_view_count": null,
            "_view_module": "@jupyter-widgets/controls",
            "_view_module_version": "1.5.0",
            "_view_name": "HBoxView",
            "box_style": "",
            "children": [
              "IPY_MODEL_f4c86273b075443597ab0cae0f05168c",
              "IPY_MODEL_3404534f821f47b78d4da90703ea5a1f",
              "IPY_MODEL_a4ae0e2396bd49f7be9361cb707728ea"
            ],
            "layout": "IPY_MODEL_527c4bf616074ce699ecd35ab7ac1567"
          }
        },
        "f4c86273b075443597ab0cae0f05168c": {
          "model_module": "@jupyter-widgets/controls",
          "model_name": "HTMLModel",
          "model_module_version": "1.5.0",
          "state": {
            "_dom_classes": [],
            "_model_module": "@jupyter-widgets/controls",
            "_model_module_version": "1.5.0",
            "_model_name": "HTMLModel",
            "_view_count": null,
            "_view_module": "@jupyter-widgets/controls",
            "_view_module_version": "1.5.0",
            "_view_name": "HTMLView",
            "description": "",
            "description_tooltip": null,
            "layout": "IPY_MODEL_d39b64809322453eb91383e11292a635",
            "placeholder": "​",
            "style": "IPY_MODEL_e9523ea9c6024ab382bfaf2d853a4d56",
            "value": "100%"
          }
        },
        "3404534f821f47b78d4da90703ea5a1f": {
          "model_module": "@jupyter-widgets/controls",
          "model_name": "FloatProgressModel",
          "model_module_version": "1.5.0",
          "state": {
            "_dom_classes": [],
            "_model_module": "@jupyter-widgets/controls",
            "_model_module_version": "1.5.0",
            "_model_name": "FloatProgressModel",
            "_view_count": null,
            "_view_module": "@jupyter-widgets/controls",
            "_view_module_version": "1.5.0",
            "_view_name": "ProgressView",
            "bar_style": "success",
            "description": "",
            "description_tooltip": null,
            "layout": "IPY_MODEL_708346e390a243b9b88f29192f8985b5",
            "max": 1,
            "min": 0,
            "orientation": "horizontal",
            "style": "IPY_MODEL_494c8e1e91a14e54a06fd99361d3c305",
            "value": 1
          }
        },
        "a4ae0e2396bd49f7be9361cb707728ea": {
          "model_module": "@jupyter-widgets/controls",
          "model_name": "HTMLModel",
          "model_module_version": "1.5.0",
          "state": {
            "_dom_classes": [],
            "_model_module": "@jupyter-widgets/controls",
            "_model_module_version": "1.5.0",
            "_model_name": "HTMLModel",
            "_view_count": null,
            "_view_module": "@jupyter-widgets/controls",
            "_view_module_version": "1.5.0",
            "_view_name": "HTMLView",
            "description": "",
            "description_tooltip": null,
            "layout": "IPY_MODEL_9135a4e5fba14b4dbe1367565a4f7fba",
            "placeholder": "​",
            "style": "IPY_MODEL_502fb59331f044f995fa53d01efd644b",
            "value": " 1/1 [00:00&lt;00:00, 17.53ba/s]"
          }
        },
        "527c4bf616074ce699ecd35ab7ac1567": {
          "model_module": "@jupyter-widgets/base",
          "model_name": "LayoutModel",
          "model_module_version": "1.2.0",
          "state": {
            "_model_module": "@jupyter-widgets/base",
            "_model_module_version": "1.2.0",
            "_model_name": "LayoutModel",
            "_view_count": null,
            "_view_module": "@jupyter-widgets/base",
            "_view_module_version": "1.2.0",
            "_view_name": "LayoutView",
            "align_content": null,
            "align_items": null,
            "align_self": null,
            "border": null,
            "bottom": null,
            "display": null,
            "flex": null,
            "flex_flow": null,
            "grid_area": null,
            "grid_auto_columns": null,
            "grid_auto_flow": null,
            "grid_auto_rows": null,
            "grid_column": null,
            "grid_gap": null,
            "grid_row": null,
            "grid_template_areas": null,
            "grid_template_columns": null,
            "grid_template_rows": null,
            "height": null,
            "justify_content": null,
            "justify_items": null,
            "left": null,
            "margin": null,
            "max_height": null,
            "max_width": null,
            "min_height": null,
            "min_width": null,
            "object_fit": null,
            "object_position": null,
            "order": null,
            "overflow": null,
            "overflow_x": null,
            "overflow_y": null,
            "padding": null,
            "right": null,
            "top": null,
            "visibility": null,
            "width": null
          }
        },
        "d39b64809322453eb91383e11292a635": {
          "model_module": "@jupyter-widgets/base",
          "model_name": "LayoutModel",
          "model_module_version": "1.2.0",
          "state": {
            "_model_module": "@jupyter-widgets/base",
            "_model_module_version": "1.2.0",
            "_model_name": "LayoutModel",
            "_view_count": null,
            "_view_module": "@jupyter-widgets/base",
            "_view_module_version": "1.2.0",
            "_view_name": "LayoutView",
            "align_content": null,
            "align_items": null,
            "align_self": null,
            "border": null,
            "bottom": null,
            "display": null,
            "flex": null,
            "flex_flow": null,
            "grid_area": null,
            "grid_auto_columns": null,
            "grid_auto_flow": null,
            "grid_auto_rows": null,
            "grid_column": null,
            "grid_gap": null,
            "grid_row": null,
            "grid_template_areas": null,
            "grid_template_columns": null,
            "grid_template_rows": null,
            "height": null,
            "justify_content": null,
            "justify_items": null,
            "left": null,
            "margin": null,
            "max_height": null,
            "max_width": null,
            "min_height": null,
            "min_width": null,
            "object_fit": null,
            "object_position": null,
            "order": null,
            "overflow": null,
            "overflow_x": null,
            "overflow_y": null,
            "padding": null,
            "right": null,
            "top": null,
            "visibility": null,
            "width": null
          }
        },
        "e9523ea9c6024ab382bfaf2d853a4d56": {
          "model_module": "@jupyter-widgets/controls",
          "model_name": "DescriptionStyleModel",
          "model_module_version": "1.5.0",
          "state": {
            "_model_module": "@jupyter-widgets/controls",
            "_model_module_version": "1.5.0",
            "_model_name": "DescriptionStyleModel",
            "_view_count": null,
            "_view_module": "@jupyter-widgets/base",
            "_view_module_version": "1.2.0",
            "_view_name": "StyleView",
            "description_width": ""
          }
        },
        "708346e390a243b9b88f29192f8985b5": {
          "model_module": "@jupyter-widgets/base",
          "model_name": "LayoutModel",
          "model_module_version": "1.2.0",
          "state": {
            "_model_module": "@jupyter-widgets/base",
            "_model_module_version": "1.2.0",
            "_model_name": "LayoutModel",
            "_view_count": null,
            "_view_module": "@jupyter-widgets/base",
            "_view_module_version": "1.2.0",
            "_view_name": "LayoutView",
            "align_content": null,
            "align_items": null,
            "align_self": null,
            "border": null,
            "bottom": null,
            "display": null,
            "flex": null,
            "flex_flow": null,
            "grid_area": null,
            "grid_auto_columns": null,
            "grid_auto_flow": null,
            "grid_auto_rows": null,
            "grid_column": null,
            "grid_gap": null,
            "grid_row": null,
            "grid_template_areas": null,
            "grid_template_columns": null,
            "grid_template_rows": null,
            "height": null,
            "justify_content": null,
            "justify_items": null,
            "left": null,
            "margin": null,
            "max_height": null,
            "max_width": null,
            "min_height": null,
            "min_width": null,
            "object_fit": null,
            "object_position": null,
            "order": null,
            "overflow": null,
            "overflow_x": null,
            "overflow_y": null,
            "padding": null,
            "right": null,
            "top": null,
            "visibility": null,
            "width": null
          }
        },
        "494c8e1e91a14e54a06fd99361d3c305": {
          "model_module": "@jupyter-widgets/controls",
          "model_name": "ProgressStyleModel",
          "model_module_version": "1.5.0",
          "state": {
            "_model_module": "@jupyter-widgets/controls",
            "_model_module_version": "1.5.0",
            "_model_name": "ProgressStyleModel",
            "_view_count": null,
            "_view_module": "@jupyter-widgets/base",
            "_view_module_version": "1.2.0",
            "_view_name": "StyleView",
            "bar_color": null,
            "description_width": ""
          }
        },
        "9135a4e5fba14b4dbe1367565a4f7fba": {
          "model_module": "@jupyter-widgets/base",
          "model_name": "LayoutModel",
          "model_module_version": "1.2.0",
          "state": {
            "_model_module": "@jupyter-widgets/base",
            "_model_module_version": "1.2.0",
            "_model_name": "LayoutModel",
            "_view_count": null,
            "_view_module": "@jupyter-widgets/base",
            "_view_module_version": "1.2.0",
            "_view_name": "LayoutView",
            "align_content": null,
            "align_items": null,
            "align_self": null,
            "border": null,
            "bottom": null,
            "display": null,
            "flex": null,
            "flex_flow": null,
            "grid_area": null,
            "grid_auto_columns": null,
            "grid_auto_flow": null,
            "grid_auto_rows": null,
            "grid_column": null,
            "grid_gap": null,
            "grid_row": null,
            "grid_template_areas": null,
            "grid_template_columns": null,
            "grid_template_rows": null,
            "height": null,
            "justify_content": null,
            "justify_items": null,
            "left": null,
            "margin": null,
            "max_height": null,
            "max_width": null,
            "min_height": null,
            "min_width": null,
            "object_fit": null,
            "object_position": null,
            "order": null,
            "overflow": null,
            "overflow_x": null,
            "overflow_y": null,
            "padding": null,
            "right": null,
            "top": null,
            "visibility": null,
            "width": null
          }
        },
        "502fb59331f044f995fa53d01efd644b": {
          "model_module": "@jupyter-widgets/controls",
          "model_name": "DescriptionStyleModel",
          "model_module_version": "1.5.0",
          "state": {
            "_model_module": "@jupyter-widgets/controls",
            "_model_module_version": "1.5.0",
            "_model_name": "DescriptionStyleModel",
            "_view_count": null,
            "_view_module": "@jupyter-widgets/base",
            "_view_module_version": "1.2.0",
            "_view_name": "StyleView",
            "description_width": ""
          }
        },
        "54106ffe9a334e5dbda82a5c1f84ae42": {
          "model_module": "@jupyter-widgets/controls",
          "model_name": "HBoxModel",
          "model_module_version": "1.5.0",
          "state": {
            "_dom_classes": [],
            "_model_module": "@jupyter-widgets/controls",
            "_model_module_version": "1.5.0",
            "_model_name": "HBoxModel",
            "_view_count": null,
            "_view_module": "@jupyter-widgets/controls",
            "_view_module_version": "1.5.0",
            "_view_name": "HBoxView",
            "box_style": "",
            "children": [
              "IPY_MODEL_7528bec9ab9e4c42b1a6157b23dd5295",
              "IPY_MODEL_d6be375983dc483ab80ca29eb2556d4b",
              "IPY_MODEL_f3bc42248ced4f979cbb0757fb16a3be"
            ],
            "layout": "IPY_MODEL_264c4270282e483bab65c2432ad8375b"
          }
        },
        "7528bec9ab9e4c42b1a6157b23dd5295": {
          "model_module": "@jupyter-widgets/controls",
          "model_name": "HTMLModel",
          "model_module_version": "1.5.0",
          "state": {
            "_dom_classes": [],
            "_model_module": "@jupyter-widgets/controls",
            "_model_module_version": "1.5.0",
            "_model_name": "HTMLModel",
            "_view_count": null,
            "_view_module": "@jupyter-widgets/controls",
            "_view_module_version": "1.5.0",
            "_view_name": "HTMLView",
            "description": "",
            "description_tooltip": null,
            "layout": "IPY_MODEL_a8bb5f5020a3427a8cff1581acf2b949",
            "placeholder": "​",
            "style": "IPY_MODEL_28677d4ac1fb49dbb99597b8adf8d1c6",
            "value": "100%"
          }
        },
        "d6be375983dc483ab80ca29eb2556d4b": {
          "model_module": "@jupyter-widgets/controls",
          "model_name": "FloatProgressModel",
          "model_module_version": "1.5.0",
          "state": {
            "_dom_classes": [],
            "_model_module": "@jupyter-widgets/controls",
            "_model_module_version": "1.5.0",
            "_model_name": "FloatProgressModel",
            "_view_count": null,
            "_view_module": "@jupyter-widgets/controls",
            "_view_module_version": "1.5.0",
            "_view_name": "ProgressView",
            "bar_style": "success",
            "description": "",
            "description_tooltip": null,
            "layout": "IPY_MODEL_0f462eb9bc2b400c9b34b49d180b612e",
            "max": 1,
            "min": 0,
            "orientation": "horizontal",
            "style": "IPY_MODEL_3eef2324ee3d47af8d37f7573c23f58f",
            "value": 1
          }
        },
        "f3bc42248ced4f979cbb0757fb16a3be": {
          "model_module": "@jupyter-widgets/controls",
          "model_name": "HTMLModel",
          "model_module_version": "1.5.0",
          "state": {
            "_dom_classes": [],
            "_model_module": "@jupyter-widgets/controls",
            "_model_module_version": "1.5.0",
            "_model_name": "HTMLModel",
            "_view_count": null,
            "_view_module": "@jupyter-widgets/controls",
            "_view_module_version": "1.5.0",
            "_view_name": "HTMLView",
            "description": "",
            "description_tooltip": null,
            "layout": "IPY_MODEL_d756577c3ac34c9496a1f8061ed058b0",
            "placeholder": "​",
            "style": "IPY_MODEL_0ce62424c8f9494192d517f960094eee",
            "value": " 1/1 [00:00&lt;00:00, 27.99ba/s]"
          }
        },
        "264c4270282e483bab65c2432ad8375b": {
          "model_module": "@jupyter-widgets/base",
          "model_name": "LayoutModel",
          "model_module_version": "1.2.0",
          "state": {
            "_model_module": "@jupyter-widgets/base",
            "_model_module_version": "1.2.0",
            "_model_name": "LayoutModel",
            "_view_count": null,
            "_view_module": "@jupyter-widgets/base",
            "_view_module_version": "1.2.0",
            "_view_name": "LayoutView",
            "align_content": null,
            "align_items": null,
            "align_self": null,
            "border": null,
            "bottom": null,
            "display": null,
            "flex": null,
            "flex_flow": null,
            "grid_area": null,
            "grid_auto_columns": null,
            "grid_auto_flow": null,
            "grid_auto_rows": null,
            "grid_column": null,
            "grid_gap": null,
            "grid_row": null,
            "grid_template_areas": null,
            "grid_template_columns": null,
            "grid_template_rows": null,
            "height": null,
            "justify_content": null,
            "justify_items": null,
            "left": null,
            "margin": null,
            "max_height": null,
            "max_width": null,
            "min_height": null,
            "min_width": null,
            "object_fit": null,
            "object_position": null,
            "order": null,
            "overflow": null,
            "overflow_x": null,
            "overflow_y": null,
            "padding": null,
            "right": null,
            "top": null,
            "visibility": null,
            "width": null
          }
        },
        "a8bb5f5020a3427a8cff1581acf2b949": {
          "model_module": "@jupyter-widgets/base",
          "model_name": "LayoutModel",
          "model_module_version": "1.2.0",
          "state": {
            "_model_module": "@jupyter-widgets/base",
            "_model_module_version": "1.2.0",
            "_model_name": "LayoutModel",
            "_view_count": null,
            "_view_module": "@jupyter-widgets/base",
            "_view_module_version": "1.2.0",
            "_view_name": "LayoutView",
            "align_content": null,
            "align_items": null,
            "align_self": null,
            "border": null,
            "bottom": null,
            "display": null,
            "flex": null,
            "flex_flow": null,
            "grid_area": null,
            "grid_auto_columns": null,
            "grid_auto_flow": null,
            "grid_auto_rows": null,
            "grid_column": null,
            "grid_gap": null,
            "grid_row": null,
            "grid_template_areas": null,
            "grid_template_columns": null,
            "grid_template_rows": null,
            "height": null,
            "justify_content": null,
            "justify_items": null,
            "left": null,
            "margin": null,
            "max_height": null,
            "max_width": null,
            "min_height": null,
            "min_width": null,
            "object_fit": null,
            "object_position": null,
            "order": null,
            "overflow": null,
            "overflow_x": null,
            "overflow_y": null,
            "padding": null,
            "right": null,
            "top": null,
            "visibility": null,
            "width": null
          }
        },
        "28677d4ac1fb49dbb99597b8adf8d1c6": {
          "model_module": "@jupyter-widgets/controls",
          "model_name": "DescriptionStyleModel",
          "model_module_version": "1.5.0",
          "state": {
            "_model_module": "@jupyter-widgets/controls",
            "_model_module_version": "1.5.0",
            "_model_name": "DescriptionStyleModel",
            "_view_count": null,
            "_view_module": "@jupyter-widgets/base",
            "_view_module_version": "1.2.0",
            "_view_name": "StyleView",
            "description_width": ""
          }
        },
        "0f462eb9bc2b400c9b34b49d180b612e": {
          "model_module": "@jupyter-widgets/base",
          "model_name": "LayoutModel",
          "model_module_version": "1.2.0",
          "state": {
            "_model_module": "@jupyter-widgets/base",
            "_model_module_version": "1.2.0",
            "_model_name": "LayoutModel",
            "_view_count": null,
            "_view_module": "@jupyter-widgets/base",
            "_view_module_version": "1.2.0",
            "_view_name": "LayoutView",
            "align_content": null,
            "align_items": null,
            "align_self": null,
            "border": null,
            "bottom": null,
            "display": null,
            "flex": null,
            "flex_flow": null,
            "grid_area": null,
            "grid_auto_columns": null,
            "grid_auto_flow": null,
            "grid_auto_rows": null,
            "grid_column": null,
            "grid_gap": null,
            "grid_row": null,
            "grid_template_areas": null,
            "grid_template_columns": null,
            "grid_template_rows": null,
            "height": null,
            "justify_content": null,
            "justify_items": null,
            "left": null,
            "margin": null,
            "max_height": null,
            "max_width": null,
            "min_height": null,
            "min_width": null,
            "object_fit": null,
            "object_position": null,
            "order": null,
            "overflow": null,
            "overflow_x": null,
            "overflow_y": null,
            "padding": null,
            "right": null,
            "top": null,
            "visibility": null,
            "width": null
          }
        },
        "3eef2324ee3d47af8d37f7573c23f58f": {
          "model_module": "@jupyter-widgets/controls",
          "model_name": "ProgressStyleModel",
          "model_module_version": "1.5.0",
          "state": {
            "_model_module": "@jupyter-widgets/controls",
            "_model_module_version": "1.5.0",
            "_model_name": "ProgressStyleModel",
            "_view_count": null,
            "_view_module": "@jupyter-widgets/base",
            "_view_module_version": "1.2.0",
            "_view_name": "StyleView",
            "bar_color": null,
            "description_width": ""
          }
        },
        "d756577c3ac34c9496a1f8061ed058b0": {
          "model_module": "@jupyter-widgets/base",
          "model_name": "LayoutModel",
          "model_module_version": "1.2.0",
          "state": {
            "_model_module": "@jupyter-widgets/base",
            "_model_module_version": "1.2.0",
            "_model_name": "LayoutModel",
            "_view_count": null,
            "_view_module": "@jupyter-widgets/base",
            "_view_module_version": "1.2.0",
            "_view_name": "LayoutView",
            "align_content": null,
            "align_items": null,
            "align_self": null,
            "border": null,
            "bottom": null,
            "display": null,
            "flex": null,
            "flex_flow": null,
            "grid_area": null,
            "grid_auto_columns": null,
            "grid_auto_flow": null,
            "grid_auto_rows": null,
            "grid_column": null,
            "grid_gap": null,
            "grid_row": null,
            "grid_template_areas": null,
            "grid_template_columns": null,
            "grid_template_rows": null,
            "height": null,
            "justify_content": null,
            "justify_items": null,
            "left": null,
            "margin": null,
            "max_height": null,
            "max_width": null,
            "min_height": null,
            "min_width": null,
            "object_fit": null,
            "object_position": null,
            "order": null,
            "overflow": null,
            "overflow_x": null,
            "overflow_y": null,
            "padding": null,
            "right": null,
            "top": null,
            "visibility": null,
            "width": null
          }
        },
        "0ce62424c8f9494192d517f960094eee": {
          "model_module": "@jupyter-widgets/controls",
          "model_name": "DescriptionStyleModel",
          "model_module_version": "1.5.0",
          "state": {
            "_model_module": "@jupyter-widgets/controls",
            "_model_module_version": "1.5.0",
            "_model_name": "DescriptionStyleModel",
            "_view_count": null,
            "_view_module": "@jupyter-widgets/base",
            "_view_module_version": "1.2.0",
            "_view_name": "StyleView",
            "description_width": ""
          }
        }
      }
    }
  },
  "cells": [
    {
      "cell_type": "markdown",
      "metadata": {
        "id": "view-in-github",
        "colab_type": "text"
      },
      "source": [
        "<a href=\"https://colab.research.google.com/github/VinaySrigadi/wa2ve2/blob/main/Fine_tuning_Wav2Vec2_for_English_ASR.ipynb\" target=\"_parent\"><img src=\"https://colab.research.google.com/assets/colab-badge.svg\" alt=\"Open In Colab\"/></a>"
      ]
    },
    {
      "cell_type": "markdown",
      "metadata": {
        "id": "LBSYoWbi-45k"
      },
      "source": [
        "# **Fine-tuning Wav2Vec2 for English ASR with 🤗 Transformers**"
      ]
    },
    {
      "cell_type": "markdown",
      "metadata": {
        "id": "V7YOT2mnUiea"
      },
      "source": [
        "Wav2Vec2 is a pretrained model for Automatic Speech Recognition (ASR) and was released in [September 2020](https://ai.facebook.com/blog/wav2vec-20-learning-the-structure-of-speech-from-raw-audio/) by Alexei Baevski, Michael Auli, and Alex Conneau.\n",
        "\n",
        "Using a novel contrastive pretraining objective, Wav2Vec2 learns powerful speech representations from more than 50.000 hours of unlabeled speech. Similar, to [BERT's masked language modeling](http://jalammar.github.io/illustrated-bert/), the model learns contextualized speech representations by randomly masking feature vectors before passing them to a transformer network.\n",
        "\n",
        "![wav2vec2_structure](https://raw.githubusercontent.com/patrickvonplaten/scientific_images/master/wav2vec2.png)\n",
        "\n",
        "For the first time, it has been shown that pretraining, followed by fine-tuning on very little labeled speech data achieves competitive results to state-of-the-art ASR systems. Using as little as 10 minutes of labeled data, Wav2Vec2 yields a word error rate (WER) of less than 5% on the clean test set of [LibriSpeech](https://huggingface.co/datasets/librispeech_asr) - *cf.* with Table 9 of the [paper](https://arxiv.org/pdf/2006.11477.pdf)."
      ]
    },
    {
      "cell_type": "markdown",
      "metadata": {
        "id": "nT_QrfWtsxIz"
      },
      "source": [
        "In this notebook, we will give an in-detail explanation of how Wav2Vec2's pretrained checkpoints can be fine-tuned on any English ASR dataset. Note that in this notebook, we will fine-tune Wav2Vec2 without making use of a language model. It is much simpler to use Wav2Vec2 without a language model as an end-to-end ASR system and it has been shown that a standalone Wav2Vec2 acoustic model achieves impressive results. For demonstration purposes, we fine-tune the \"base\"-sized [pretrained checkpoint](https://huggingface.co/facebook/wav2vec2-base) on the rather small [Timit](https://huggingface.co/datasets/timit_asr) dataset that contains just 5h of training data."
      ]
    },
    {
      "cell_type": "markdown",
      "metadata": {
        "id": "Gx9OdDYrCtQ1"
      },
      "source": [
        "Wav2Vec2 is fine-tuned using Connectionist Temporal Classification (CTC), which is an algorithm that is used to train neural networks for sequence-to-sequence problems and mainly in Automatic Speech Recognition and handwriting recognition.\n",
        "\n",
        "I highly recommend reading the blog post [Sequence Modeling with CTC (2017)](https://distill.pub/2017/ctc/) very well-written blog post by Awni Hannun."
      ]
    },
    {
      "cell_type": "markdown",
      "metadata": {
        "id": "qW3J3rBizeds"
      },
      "source": [
        "First, let's try to get a good GPU in our colab! With Google Colab's free version it's sadly becoming much harder to get access to a good GPU. With Google Colab Pro, one has a much easier time getting access to a V100 or P100 GPU however."
      ]
    },
    {
      "cell_type": "code",
      "metadata": {
        "id": "SLAufgh_xxj7",
        "colab": {
          "base_uri": "https://localhost:8080/"
        },
        "outputId": "e4c799ae-d9e7-4578-ce38-af0fab04c42d"
      },
      "source": [
        "gpu_info = !nvidia-smi\n",
        "gpu_info = '\\n'.join(gpu_info)\n",
        "if gpu_info.find('failed') >= 0:\n",
        "  print('Not connected to a GPU')\n",
        "else:\n",
        "  print(gpu_info)"
      ],
      "execution_count": 1,
      "outputs": [
        {
          "output_type": "stream",
          "name": "stdout",
          "text": [
            "Wed Aug  6 01:19:40 2025       \n",
            "+-----------------------------------------------------------------------------------------+\n",
            "| NVIDIA-SMI 550.54.15              Driver Version: 550.54.15      CUDA Version: 12.4     |\n",
            "|-----------------------------------------+------------------------+----------------------+\n",
            "| GPU  Name                 Persistence-M | Bus-Id          Disp.A | Volatile Uncorr. ECC |\n",
            "| Fan  Temp   Perf          Pwr:Usage/Cap |           Memory-Usage | GPU-Util  Compute M. |\n",
            "|                                         |                        |               MIG M. |\n",
            "|=========================================+========================+======================|\n",
            "|   0  Tesla T4                       Off |   00000000:00:04.0 Off |                    0 |\n",
            "| N/A   58C    P8             10W /   70W |       0MiB /  15360MiB |      0%      Default |\n",
            "|                                         |                        |                  N/A |\n",
            "+-----------------------------------------+------------------------+----------------------+\n",
            "                                                                                         \n",
            "+-----------------------------------------------------------------------------------------+\n",
            "| Processes:                                                                              |\n",
            "|  GPU   GI   CI        PID   Type   Process name                              GPU Memory |\n",
            "|        ID   ID                                                               Usage      |\n",
            "|=========================================================================================|\n",
            "|  No running processes found                                                             |\n",
            "+-----------------------------------------------------------------------------------------+\n"
          ]
        }
      ]
    },
    {
      "cell_type": "markdown",
      "metadata": {
        "id": "e335hPmdtASZ"
      },
      "source": [
        "Before we start, let's install both `datasets` and `transformers` from master. Also, we need the `librosa` package to load audio files and the `jiwer` to evaluate our fine-tuned model using the [word error rate (WER)](https://huggingface.co/metrics/wer) metric ${}^1$."
      ]
    },
    {
      "cell_type": "code",
      "metadata": {
        "id": "c8eh87Hoee5d"
      },
      "source": [
        "%%capture\n",
        "!pip install datasets==1.18.3\n",
        "!pip install transformers==4.17.0\n",
        "!pip install jiwer"
      ],
      "execution_count": 2,
      "outputs": []
    },
    {
      "cell_type": "markdown",
      "metadata": {
        "id": "8_6kYmDMH9lR"
      },
      "source": [
        "Next we strongly suggest to upload your training checkpoints directly to the [🤗 Hub](https://huggingface.co/) while training. The [🤗 Hub](https://huggingface.co/) has integrated version control so you can be sure that no model checkpoint is getting lost during training.\n",
        "\n",
        "To do so you have to store your authentication token from the Hugging Face website (sign up [here](https://huggingface.co/join) if you haven't already!)"
      ]
    },
    {
      "cell_type": "code",
      "metadata": {
        "colab": {
          "base_uri": "https://localhost:8080/",
          "height": 17,
          "referenced_widgets": [
            "3bbe8c9908f94a429630c76901176dcf",
            "8f7f738f92024c2096987f23cf2a0d7c",
            "9d4ecea65add48ea976e24dd2ae609b7",
            "ac9efa392a514bb180ffa3485ece9a42",
            "16e6760f0d50409d868d223e3049e9bd",
            "6e708c4f5e194bea98afd23095c20e71",
            "90ba42677de248dd8958a6c8c8cd4334",
            "683de6b33f1641c5bced5569664b9f7a",
            "dc6d034d700b4231b2fbd0faede24387",
            "752ae6cb1bfb4a138c6d5d8e156f746f",
            "4c66f7cae4434c219022919dd2e26473",
            "bc15223a347942749417dbf8d8cd3e36",
            "016aad629a7d470a948fbeed9510183b",
            "62fa5a2e38be44509068c84d52abe587",
            "ed61374267114302a95c288f2d9c17e6",
            "314514a9a68d4f1da5ddace0a6db61a9",
            "3c6d1aa816a64480a81f39577cf4bda0",
            "fc2a6845be4a4668811ad1b669433e8b",
            "8015b00be3ce47ebab4d1ef9321eac55",
            "5f652e16418045aaa8c66b0f322e2e9e"
          ]
        },
        "id": "zFLBDyzQIA3R",
        "outputId": "a1b637ce-d9dd-4777-8fe4-d13127f31735"
      },
      "source": [
        "from huggingface_hub import notebook_login\n",
        "\n",
        "notebook_login()"
      ],
      "execution_count": 4,
      "outputs": [
        {
          "output_type": "display_data",
          "data": {
            "text/plain": [
              "VBox(children=(HTML(value='<center> <img\\nsrc=https://huggingface.co/front/assets/huggingface_logo-noborder.sv…"
            ],
            "application/vnd.jupyter.widget-view+json": {
              "version_major": 2,
              "version_minor": 0,
              "model_id": "3bbe8c9908f94a429630c76901176dcf"
            }
          },
          "metadata": {}
        }
      ]
    },
    {
      "cell_type": "markdown",
      "metadata": {
        "id": "zCyw5D23IQ1F"
      },
      "source": [
        "\n",
        "Then you need to install Git-LFS to upload your model checkpoints:"
      ]
    },
    {
      "cell_type": "code",
      "metadata": {
        "id": "Q9BnQDhOITBC"
      },
      "source": [
        "%%capture\n",
        "!apt install git-lfs"
      ],
      "execution_count": 5,
      "outputs": []
    },
    {
      "cell_type": "markdown",
      "metadata": {
        "id": "Mn9swf6EQ9Vd"
      },
      "source": [
        "\n",
        "\n",
        "\n",
        "---\n",
        "\n",
        "${}^1$ Timit is usually evaluated using the phoneme error rate (PER), but by far the most common metric in ASR is the word error rate (WER). To keep this notebook as general as possible we decided to evaluate the model using WER."
      ]
    },
    {
      "cell_type": "markdown",
      "metadata": {
        "id": "0mW-C1Nt-j7k"
      },
      "source": [
        "## Prepare Data, Tokenizer, Feature Extractor"
      ]
    },
    {
      "cell_type": "markdown",
      "metadata": {
        "id": "BeBosnY9BH3e"
      },
      "source": [
        "ASR models transcribe speech to text, which means that we both need a feature extractor that processes the speech signal to the model's input format, *e.g.* a feature vector, and a tokenizer that processes the model's output format to text.\n",
        "\n",
        "In 🤗 Transformers, the Wav2Vec2 model is thus accompanied by both a tokenizer, called [Wav2Vec2CTCTokenizer](https://huggingface.co/transformers/master/model_doc/wav2vec2.html#wav2vec2ctctokenizer), and a feature extractor, called [Wav2Vec2FeatureExtractor](https://huggingface.co/transformers/master/model_doc/wav2vec2.html#wav2vec2featureextractor).\n",
        "\n",
        "Let's start by creating the tokenizer responsible for decoding the model's predictions."
      ]
    },
    {
      "cell_type": "markdown",
      "metadata": {
        "id": "sEXEWEJGQPqD"
      },
      "source": [
        "### Create Wav2Vec2CTCTokenizer"
      ]
    },
    {
      "cell_type": "markdown",
      "metadata": {
        "id": "tWmMikuNEKl_"
      },
      "source": [
        "The [pretrained Wav2Vec2 checkpoint]( ) maps the speech signal to a sequence of context representations as illustrated in the figure above. A fine-tuned Wav2Vec2 checkpoint needs to map this sequence of context representations to its corresponding transcription so that a linear layer has to be added on top of the transformer block (shown in yellow). This linear layer is used to classifies each context representation to a token class analogous how, *e.g.*, after pretraining a linear layer is added on top of BERT's embeddings for further classification - *cf.* with *\"BERT\"* section of this [blog post](https://huggingface.co/blog/warm-starting-encoder-decoder).\n",
        "\n",
        "The output size of this layer corresponds to the number of tokens in the vocabulary, which does **not** depend on Wav2Vec2's pretraining task, but only on the labeled dataset used for fine-tuning. So in the first step, we will take a look at Timit and define a vocabulary based on the dataset's transcriptions."
      ]
    },
    {
      "cell_type": "markdown",
      "metadata": {
        "id": "bee4g9rpLxll"
      },
      "source": [
        "Let's start by loading the dataset and taking a look at its structure."
      ]
    },
    {
      "cell_type": "code",
      "metadata": {
        "id": "2MMXcWFFgCXU",
        "colab": {
          "base_uri": "https://localhost:8080/",
          "height": 201,
          "referenced_widgets": [
            "1c61921b152246098d3a7423036c6d98",
            "6b3f36dec92e4d57a2ba899ff4115bfd",
            "99a1e282f79d4d868848b0100c34ea20",
            "ab6f5832ef3e4c4aaa319c6de3829b6e",
            "12cacf5c015148c9bee5e5cc407de77d",
            "b0cab9967e83401386189b75891855ff",
            "c73341534e074d6a908d6b913d96b30b",
            "88809a977a1b48c5ac316b5057382675",
            "a33fe13b27ab42f3ac539f9c4d3f2d60",
            "0d216a2f7e7c40dca922e56007f70516",
            "3d3b50c9549b45c5b7ca636db77328e9",
            "7f67a208d5dd44049dce926da9c24665",
            "5db73341162043fb9985d3e8ab60cab3",
            "c15a106c54834ad188a8fc8b45dc2517",
            "ee6ee270b61f446f965e6e635a8042ec",
            "68aa955ed56b4f48b250ee1097a20b6b",
            "6ec3ddde6f224e288a3b258021737fa9",
            "39af68922ab94b86942d023bc5acb4fd",
            "b6779d1938f2402ba2e9c936952f8ea5",
            "d77ffb95740744fb97b4b438dddc3380",
            "6b8919034f8a4f37b375fc77031ffaa7",
            "1bbe35cf59cd485ba45a1256d3bc1706",
            "d6d62b3290d6420f81bef05d1039e7bd",
            "a5345056a3164906aa0ee9b0999142dc",
            "f4e86bf9d4e04263a036774529103e29",
            "9dd76a85dca7404b850b78e4133ac49b",
            "d6577c8676814ac084a06ac3a5cad2fa",
            "5d32c682893b4c2aa306545eecf82d05",
            "0c27b3aa90d74184ba6fc1a09d54c067",
            "1f75b5bf630d463095fb793b8cf42438",
            "9193a704e5224207ab41c25f8cfb51c4",
            "2283ef59262a4c92b2399840266df801",
            "b7a43639c22b45a28126ca0721a3fa34",
            "62ccb610945e4cac8b6e37432bc9b92b",
            "e20b5368cc52433fbaed3544bfff2904",
            "ac1e5d890fc94140bc6561425b83a53a",
            "9e68e648f58b48f1b4f94c83d1745f60",
            "264cddf5bd244257b1ab23a76a669d41",
            "6c360db184054af6979616b8bc2f935a",
            "c7ccbfae645d4945b4f9f0665542c190",
            "5c23013e49724c05add5515f8357d20c",
            "a537df497bbe40669576fb73e2aeb6a8",
            "7511cd8ee74b45cbabaa11d0597104ef",
            "ca9710e1d644469da76fb037a32cba7a",
            "f322726f036a4f1ba5f91b34f4fd4828",
            "d792a744b50949f9ae4af93f353b1c8a",
            "3d35b664dd894658b92702c24d6e4bed",
            "60fbca1065c14fb9a062e4b1de68b9d8",
            "8f4e080d7b0c44d5b24892dff8686f9a",
            "4c0235cd9206475bb1d5a2bab2f767ae",
            "0f1632bb3c7a4e6cbfbf172290a91573",
            "48a0383f43a647fab1b063f77ed6d399",
            "5c211e14bd194ff0b317ac00dccc5ca8",
            "5d0faf176c5f4ea7bb99dbc3d64f887f",
            "67f7b24e27f846768383598714010a30",
            "7e4f8a03c3b540089b4e281c146df7ef",
            "a6dcf8b3cd81435fa855973963f1db8d",
            "057cb62d7207420187081bd369044a5e",
            "d7fef556fc1041bf9a1dd278980f27c5",
            "86b866e8737c45399ef7cbcd5164f8a5",
            "5bfcd1c211a54416ab4fee9a87615665",
            "37d2ec22eb8146849c69caeb5dfceb5a",
            "6b616032741c4352afc46c2e0c251ace",
            "c04e106a5e694361aaa5afbdf414223e",
            "b84be546f1604b009b29f3282ee1b5f2",
            "8352255c43344fcf8544a909b8ac4f9a"
          ]
        },
        "outputId": "73aa3531-0957-46dc-907c-dc82ad70de64"
      },
      "source": [
        "from datasets import load_dataset, load_metric\n",
        "\n",
        "timit = load_dataset(\"timit_asr\")"
      ],
      "execution_count": 6,
      "outputs": [
        {
          "output_type": "display_data",
          "data": {
            "text/plain": [
              "Downloading:   0%|          | 0.00/2.40k [00:00<?, ?B/s]"
            ],
            "application/vnd.jupyter.widget-view+json": {
              "version_major": 2,
              "version_minor": 0,
              "model_id": "1c61921b152246098d3a7423036c6d98"
            }
          },
          "metadata": {}
        },
        {
          "output_type": "display_data",
          "data": {
            "text/plain": [
              "Downloading:   0%|          | 0.00/1.06k [00:00<?, ?B/s]"
            ],
            "application/vnd.jupyter.widget-view+json": {
              "version_major": 2,
              "version_minor": 0,
              "model_id": "7f67a208d5dd44049dce926da9c24665"
            }
          },
          "metadata": {}
        },
        {
          "output_type": "stream",
          "name": "stdout",
          "text": [
            "Downloading and preparing dataset timit_asr/clean (download: 828.75 MiB, generated: 7.90 MiB, post-processed: Unknown size, total: 836.65 MiB) to /root/.cache/huggingface/datasets/timit_asr/clean/2.0.1/b11b576ddcccbcefa7c9f0c4e6c2a43756f3033adffe0fb686aa61043d0450ad...\n"
          ]
        },
        {
          "output_type": "display_data",
          "data": {
            "text/plain": [
              "Downloading:   0%|          | 0.00/869M [00:00<?, ?B/s]"
            ],
            "application/vnd.jupyter.widget-view+json": {
              "version_major": 2,
              "version_minor": 0,
              "model_id": "d6d62b3290d6420f81bef05d1039e7bd"
            }
          },
          "metadata": {}
        },
        {
          "output_type": "display_data",
          "data": {
            "text/plain": [
              "0 examples [00:00, ? examples/s]"
            ],
            "application/vnd.jupyter.widget-view+json": {
              "version_major": 2,
              "version_minor": 0,
              "model_id": "62ccb610945e4cac8b6e37432bc9b92b"
            }
          },
          "metadata": {}
        },
        {
          "output_type": "display_data",
          "data": {
            "text/plain": [
              "0 examples [00:00, ? examples/s]"
            ],
            "application/vnd.jupyter.widget-view+json": {
              "version_major": 2,
              "version_minor": 0,
              "model_id": "f322726f036a4f1ba5f91b34f4fd4828"
            }
          },
          "metadata": {}
        },
        {
          "output_type": "stream",
          "name": "stdout",
          "text": [
            "Dataset timit_asr downloaded and prepared to /root/.cache/huggingface/datasets/timit_asr/clean/2.0.1/b11b576ddcccbcefa7c9f0c4e6c2a43756f3033adffe0fb686aa61043d0450ad. Subsequent calls will reuse this data.\n"
          ]
        },
        {
          "output_type": "display_data",
          "data": {
            "text/plain": [
              "  0%|          | 0/2 [00:00<?, ?it/s]"
            ],
            "application/vnd.jupyter.widget-view+json": {
              "version_major": 2,
              "version_minor": 0,
              "model_id": "7e4f8a03c3b540089b4e281c146df7ef"
            }
          },
          "metadata": {}
        }
      ]
    },
    {
      "cell_type": "code",
      "metadata": {
        "colab": {
          "base_uri": "https://localhost:8080/",
          "height": 145
        },
        "id": "QbIM-L0xdvf4",
        "outputId": "368a4d4c-b8b7-4282-a610-32f58763c52e"
      },
      "source": [
        "timit"
      ],
      "execution_count": 2,
      "outputs": [
        {
          "output_type": "error",
          "ename": "NameError",
          "evalue": "name 'timit' is not defined",
          "traceback": [
            "\u001b[0;31m---------------------------------------------------------------------------\u001b[0m",
            "\u001b[0;31mNameError\u001b[0m                                 Traceback (most recent call last)",
            "\u001b[0;32m/tmp/ipython-input-918901946.py\u001b[0m in \u001b[0;36m<cell line: 0>\u001b[0;34m()\u001b[0m\n\u001b[0;32m----> 1\u001b[0;31m \u001b[0mtimit\u001b[0m\u001b[0;34m\u001b[0m\u001b[0;34m\u001b[0m\u001b[0m\n\u001b[0m",
            "\u001b[0;31mNameError\u001b[0m: name 'timit' is not defined"
          ]
        }
      ]
    },
    {
      "cell_type": "markdown",
      "metadata": {
        "id": "ri5y5N_HMANq"
      },
      "source": [
        "Many ASR datasets only provide the target text, `'text'` for each audio `'audio'` and file `'file'`. Timit actually provides much more information about each audio file, such as the `'phonetic_detail'`, etc., which is why many researchers choose to evaluate their models on phoneme classification instead of speech recognition when working with Timit. However, we want to keep the notebook as general as possible, so that we will only consider the transcribed text for fine-tuning.\n",
        "\n"
      ]
    },
    {
      "cell_type": "code",
      "metadata": {
        "id": "kbyq6lDgQc2a"
      },
      "source": [
        "timit = timit.remove_columns([\"phonetic_detail\", \"word_detail\", \"dialect_region\", \"id\", \"sentence_type\", \"speaker_id\"])"
      ],
      "execution_count": 8,
      "outputs": []
    },
    {
      "cell_type": "markdown",
      "metadata": {
        "id": "Go9Hq4e4NDT9"
      },
      "source": [
        "Let's write a short function to display some random samples of the dataset and run it a couple of times to get a feeling for the transcriptions."
      ]
    },
    {
      "cell_type": "code",
      "metadata": {
        "id": "72737oog2F6U"
      },
      "source": [
        "from datasets import ClassLabel\n",
        "import random\n",
        "import pandas as pd\n",
        "from IPython.display import display, HTML\n",
        "\n",
        "def show_random_elements(dataset, num_examples=10):\n",
        "    assert num_examples <= len(dataset), \"Can't pick more elements than there are in the dataset.\"\n",
        "    picks = []\n",
        "    for _ in range(num_examples):\n",
        "        pick = random.randint(0, len(dataset)-1)\n",
        "        while pick in picks:\n",
        "            pick = random.randint(0, len(dataset)-1)\n",
        "        picks.append(pick)\n",
        "\n",
        "    df = pd.DataFrame(dataset[picks])\n",
        "    display(HTML(df.to_html()))"
      ],
      "execution_count": 9,
      "outputs": []
    },
    {
      "cell_type": "code",
      "metadata": {
        "colab": {
          "base_uri": "https://localhost:8080/",
          "height": 362
        },
        "id": "K_JUmf3G3b9S",
        "outputId": "94279419-e3d3-4906-cf9a-7774cbaed52d"
      },
      "source": [
        "show_random_elements(timit[\"train\"].remove_columns([\"audio\", \"file\"]), num_examples=10)"
      ],
      "execution_count": 10,
      "outputs": [
        {
          "output_type": "display_data",
          "data": {
            "text/plain": [
              "<IPython.core.display.HTML object>"
            ],
            "text/html": [
              "<table border=\"1\" class=\"dataframe\">\n",
              "  <thead>\n",
              "    <tr style=\"text-align: right;\">\n",
              "      <th></th>\n",
              "      <th>text</th>\n",
              "    </tr>\n",
              "  </thead>\n",
              "  <tbody>\n",
              "    <tr>\n",
              "      <th>0</th>\n",
              "      <td>From childhood he had known all about knives.</td>\n",
              "    </tr>\n",
              "    <tr>\n",
              "      <th>1</th>\n",
              "      <td>Don't ask me to carry an oily rag like that.</td>\n",
              "    </tr>\n",
              "    <tr>\n",
              "      <th>2</th>\n",
              "      <td>A crab challenged me, but a quick stab vanquished him.</td>\n",
              "    </tr>\n",
              "    <tr>\n",
              "      <th>3</th>\n",
              "      <td>Don't ask me to carry an oily rag like that.</td>\n",
              "    </tr>\n",
              "    <tr>\n",
              "      <th>4</th>\n",
              "      <td>A screwdriver is made from vodka and orange juice.</td>\n",
              "    </tr>\n",
              "    <tr>\n",
              "      <th>5</th>\n",
              "      <td>Porcupines resemble sea urchins.</td>\n",
              "    </tr>\n",
              "    <tr>\n",
              "      <th>6</th>\n",
              "      <td>As you can count on me to do the same.</td>\n",
              "    </tr>\n",
              "    <tr>\n",
              "      <th>7</th>\n",
              "      <td>Spring Street is straight ahead.</td>\n",
              "    </tr>\n",
              "    <tr>\n",
              "      <th>8</th>\n",
              "      <td>Reading in poor light gives you eyestrain.</td>\n",
              "    </tr>\n",
              "    <tr>\n",
              "      <th>9</th>\n",
              "      <td>Seamstresses attach zippers with a thimble, needle, and thread.</td>\n",
              "    </tr>\n",
              "  </tbody>\n",
              "</table>"
            ]
          },
          "metadata": {}
        }
      ]
    },
    {
      "cell_type": "markdown",
      "metadata": {
        "id": "fowcOllGNNju"
      },
      "source": [
        "Alright! The transcriptions look very clean and the language seems to correspond more to written text than dialogue. This makes sense taking into account that [Timit](https://huggingface.co/datasets/timit_asr) is a read speech corpus."
      ]
    },
    {
      "cell_type": "markdown",
      "metadata": {
        "id": "vq7OR50LN49m"
      },
      "source": [
        "We can see that the transcriptions contain some special characters, such as `,.?!;:`. Without a language model, it is much harder to classify speech chunks to such special characters because they don't really correspond to a characteristic sound unit. *E.g.*, the letter `\"s\"` has a more or less clear sound, whereas the special character `\".\"` does not.\n",
        "Also in order to understand the meaning of a speech signal, it is usually not necessary to include special characters in the transcription.\n",
        "\n",
        "In addition, we normalize the text to only have lower case letters and append a word separator token at the end."
      ]
    },
    {
      "cell_type": "code",
      "metadata": {
        "id": "svKzVJ_hQGK6"
      },
      "source": [
        "import re\n",
        "chars_to_ignore_regex = '[\\,\\?\\.\\!\\-\\;\\:\\\"]'\n",
        "\n",
        "def remove_special_characters(batch):\n",
        "    batch[\"text\"] = re.sub(chars_to_ignore_regex, '', batch[\"text\"]).lower() + \" \"\n",
        "    return batch"
      ],
      "execution_count": 11,
      "outputs": []
    },
    {
      "cell_type": "code",
      "metadata": {
        "colab": {
          "base_uri": "https://localhost:8080/",
          "height": 119,
          "referenced_widgets": [
            "efee6f439c564464969984a99d376857",
            "6578174d00664039a30ada51c6b1c081",
            "aafc7f2b0c11456d88e9dea9b41c63be",
            "dedacd05b2b24346943f91880e072b70",
            "a2b178edd0114842898a7b77df01fe12",
            "543a838661484f829623363b84efb815",
            "8cd10b331ecb4ed396a69d0eb58793fe",
            "73de6510064e4cfb9a5faa8d44e6e20d",
            "4141432f93264c0d9f87e758dc16ef74",
            "87f4a440b53c45839ce68c12385072a1",
            "592381ecd7e246f6a9e5431875a8a910",
            "43f7f5d36c314c2480db4ec4dd4cde76",
            "ba304929a25c48568e65477b8c301a1f",
            "2768fe4eaa794eb4a9f82ccea1709855",
            "234b975ec9124ed79b4cf95fa9479525",
            "714dd9baf82548bba2e97552e64f5d7a",
            "d7c38045a05545bc8da3763b512bf0d0",
            "1f8a47a47f664a5b8c818cdd6324c41a",
            "2f33401a8df0404bb3272c0d0948f98d",
            "feaab7f3e6d2487cb04e324cc6a3ad5b",
            "8d4f12cf11594e76aeb30079af84cdac",
            "41e0bb6a7a534b908d34fc99a2d9b1a7"
          ]
        },
        "id": "XIHocAuTQbBR",
        "outputId": "0a999e3b-3ad7-489f-fb61-cef951ab68d6"
      },
      "source": [
        "timit = timit.map(remove_special_characters)"
      ],
      "execution_count": 12,
      "outputs": [
        {
          "output_type": "stream",
          "name": "stderr",
          "text": [
            "WARNING:datasets.fingerprint:Parameter 'function'=<function remove_special_characters at 0x7c5daf9d0cc0> of the transform datasets.arrow_dataset.Dataset._map_single couldn't be hashed properly, a random hash was used instead. Make sure your transforms and parameters are serializable with pickle or dill for the dataset fingerprinting and caching to work. If you reuse this transform, the caching mechanism will consider it to be different from the previous calls and recompute everything. This warning is only showed once. Subsequent hashing failures won't be showed.\n"
          ]
        },
        {
          "output_type": "display_data",
          "data": {
            "text/plain": [
              "0ex [00:00, ?ex/s]"
            ],
            "application/vnd.jupyter.widget-view+json": {
              "version_major": 2,
              "version_minor": 0,
              "model_id": "efee6f439c564464969984a99d376857"
            }
          },
          "metadata": {}
        },
        {
          "output_type": "display_data",
          "data": {
            "text/plain": [
              "0ex [00:00, ?ex/s]"
            ],
            "application/vnd.jupyter.widget-view+json": {
              "version_major": 2,
              "version_minor": 0,
              "model_id": "43f7f5d36c314c2480db4ec4dd4cde76"
            }
          },
          "metadata": {}
        }
      ]
    },
    {
      "cell_type": "code",
      "metadata": {
        "colab": {
          "base_uri": "https://localhost:8080/",
          "height": 362
        },
        "id": "RBDRAAYxRE6n",
        "outputId": "4d7778ed-8088-4de5-a6ad-67880a7f52a6"
      },
      "source": [
        "show_random_elements(timit[\"train\"].remove_columns([\"audio\", \"file\"]))"
      ],
      "execution_count": 13,
      "outputs": [
        {
          "output_type": "display_data",
          "data": {
            "text/plain": [
              "<IPython.core.display.HTML object>"
            ],
            "text/html": [
              "<table border=\"1\" class=\"dataframe\">\n",
              "  <thead>\n",
              "    <tr style=\"text-align: right;\">\n",
              "      <th></th>\n",
              "      <th>text</th>\n",
              "    </tr>\n",
              "  </thead>\n",
              "  <tbody>\n",
              "    <tr>\n",
              "      <th>0</th>\n",
              "      <td>does creole cooking use curry</td>\n",
              "    </tr>\n",
              "    <tr>\n",
              "      <th>1</th>\n",
              "      <td>the hallway opens into a huge chamber</td>\n",
              "    </tr>\n",
              "    <tr>\n",
              "      <th>2</th>\n",
              "      <td>etiquette mandates compliance with existing regulations</td>\n",
              "    </tr>\n",
              "    <tr>\n",
              "      <th>3</th>\n",
              "      <td>don't ask me to carry an oily rag like that</td>\n",
              "    </tr>\n",
              "    <tr>\n",
              "      <th>4</th>\n",
              "      <td>alimony harms a divorced man's wealth</td>\n",
              "    </tr>\n",
              "    <tr>\n",
              "      <th>5</th>\n",
              "      <td>one of the most desirable features for park are beautiful views or scenery</td>\n",
              "    </tr>\n",
              "    <tr>\n",
              "      <th>6</th>\n",
              "      <td>eat your raisins outdoors on the porch steps</td>\n",
              "    </tr>\n",
              "    <tr>\n",
              "      <th>7</th>\n",
              "      <td>many wealthy tycoons splurged and bought both a yacht and a schooner</td>\n",
              "    </tr>\n",
              "    <tr>\n",
              "      <th>8</th>\n",
              "      <td>this excellent foreign bomb takes only six</td>\n",
              "    </tr>\n",
              "    <tr>\n",
              "      <th>9</th>\n",
              "      <td>he finds it in utter misery and desolation</td>\n",
              "    </tr>\n",
              "  </tbody>\n",
              "</table>"
            ]
          },
          "metadata": {}
        }
      ]
    },
    {
      "cell_type": "markdown",
      "metadata": {
        "id": "jwfaptH5RJwA"
      },
      "source": [
        "Good! This looks better. We have removed most special characters from transcriptions and normalized them to lower-case only.\n",
        "\n",
        "In CTC, it is common to classify speech chunks into letters, so we will do the same here.\n",
        "Let's extract all distinct letters of the training and test data and build our vocabulary from this set of letters.\n",
        "\n",
        "We write a mapping function that concatenates all transcriptions into one long transcription and then transforms the string into a set of chars.\n",
        "It is important to pass the argument `batched=True` to the `map(...)` function so that the mapping function has access to all transcriptions at once."
      ]
    },
    {
      "cell_type": "code",
      "metadata": {
        "id": "LwCshNbbeRZR"
      },
      "source": [
        "def extract_all_chars(batch):\n",
        "  all_text = \" \".join(batch[\"text\"])\n",
        "  vocab = list(set(all_text))\n",
        "  return {\"vocab\": [vocab], \"all_text\": [all_text]}"
      ],
      "execution_count": 14,
      "outputs": []
    },
    {
      "cell_type": "code",
      "metadata": {
        "colab": {
          "base_uri": "https://localhost:8080/",
          "height": 81,
          "referenced_widgets": [
            "5a14ce9df97644029192c4574769b052",
            "f4c86273b075443597ab0cae0f05168c",
            "3404534f821f47b78d4da90703ea5a1f",
            "a4ae0e2396bd49f7be9361cb707728ea",
            "527c4bf616074ce699ecd35ab7ac1567",
            "d39b64809322453eb91383e11292a635",
            "e9523ea9c6024ab382bfaf2d853a4d56",
            "708346e390a243b9b88f29192f8985b5",
            "494c8e1e91a14e54a06fd99361d3c305",
            "9135a4e5fba14b4dbe1367565a4f7fba",
            "502fb59331f044f995fa53d01efd644b",
            "54106ffe9a334e5dbda82a5c1f84ae42",
            "7528bec9ab9e4c42b1a6157b23dd5295",
            "d6be375983dc483ab80ca29eb2556d4b",
            "f3bc42248ced4f979cbb0757fb16a3be",
            "264c4270282e483bab65c2432ad8375b",
            "a8bb5f5020a3427a8cff1581acf2b949",
            "28677d4ac1fb49dbb99597b8adf8d1c6",
            "0f462eb9bc2b400c9b34b49d180b612e",
            "3eef2324ee3d47af8d37f7573c23f58f",
            "d756577c3ac34c9496a1f8061ed058b0",
            "0ce62424c8f9494192d517f960094eee"
          ]
        },
        "id": "_m6uUjjcfbjH",
        "outputId": "4d77ec3f-9500-48e6-eb0d-c46fb0e06fce"
      },
      "source": [
        "vocabs = timit.map(extract_all_chars, batched=True, batch_size=-1, keep_in_memory=True, remove_columns=timit.column_names[\"train\"])"
      ],
      "execution_count": 15,
      "outputs": [
        {
          "output_type": "display_data",
          "data": {
            "text/plain": [
              "  0%|          | 0/1 [00:00<?, ?ba/s]"
            ],
            "application/vnd.jupyter.widget-view+json": {
              "version_major": 2,
              "version_minor": 0,
              "model_id": "5a14ce9df97644029192c4574769b052"
            }
          },
          "metadata": {}
        },
        {
          "output_type": "display_data",
          "data": {
            "text/plain": [
              "  0%|          | 0/1 [00:00<?, ?ba/s]"
            ],
            "application/vnd.jupyter.widget-view+json": {
              "version_major": 2,
              "version_minor": 0,
              "model_id": "54106ffe9a334e5dbda82a5c1f84ae42"
            }
          },
          "metadata": {}
        }
      ]
    },
    {
      "cell_type": "markdown",
      "metadata": {
        "id": "7oVgE8RZSJNP"
      },
      "source": [
        "Now, we create the union of all distinct letters in the training dataset and test dataset and convert the resulting list into an enumerated dictionary."
      ]
    },
    {
      "cell_type": "code",
      "metadata": {
        "id": "aQfneNsmlJI0"
      },
      "source": [
        "vocab_list = list(set(vocabs[\"train\"][\"vocab\"][0]) | set(vocabs[\"test\"][\"vocab\"][0]))"
      ],
      "execution_count": 16,
      "outputs": []
    },
    {
      "cell_type": "code",
      "metadata": {
        "colab": {
          "base_uri": "https://localhost:8080/"
        },
        "id": "_0kRndSvqaKk",
        "outputId": "78f42446-1385-49bc-c023-19f8add8a43d"
      },
      "source": [
        "vocab_dict = {v: k for k, v in enumerate(vocab_list)}\n",
        "vocab_dict"
      ],
      "execution_count": 17,
      "outputs": [
        {
          "output_type": "execute_result",
          "data": {
            "text/plain": [
              "{'i': 0,\n",
              " 'c': 1,\n",
              " 'e': 2,\n",
              " 'x': 3,\n",
              " 'n': 4,\n",
              " 'y': 5,\n",
              " 'w': 6,\n",
              " 'u': 7,\n",
              " 'l': 8,\n",
              " 'd': 9,\n",
              " 'a': 10,\n",
              " 'm': 11,\n",
              " 'j': 12,\n",
              " 'p': 13,\n",
              " \"'\": 14,\n",
              " 'q': 15,\n",
              " 'h': 16,\n",
              " 'k': 17,\n",
              " 'v': 18,\n",
              " ' ': 19,\n",
              " 'f': 20,\n",
              " 's': 21,\n",
              " 'o': 22,\n",
              " 'r': 23,\n",
              " 'b': 24,\n",
              " 't': 25,\n",
              " 'z': 26,\n",
              " 'g': 27}"
            ]
          },
          "metadata": {},
          "execution_count": 17
        }
      ]
    },
    {
      "cell_type": "markdown",
      "metadata": {
        "id": "JOSzbvs9SXT1"
      },
      "source": [
        "Cool, we see that all letters of the alphabet occur in the dataset (which is not really surprising) and we also extracted the special characters `\" \"` and `'`. Note that we did not exclude those special characters because:\n",
        "\n",
        "- The model has to learn to predict when a word finished or else the model prediction would always be a sequence of chars which would make it impossible to separate words from each other.\n",
        "- In English, we need to keep the `'` character to differentiate between words, *e.g.*, `\"it's\"` and `\"its\"` which have very different meanings."
      ]
    },
    {
      "cell_type": "markdown",
      "metadata": {
        "id": "b1fBRCn-TRaO"
      },
      "source": [
        "To make it clearer that `\" \"` has its own token class, we give it a more visible character `|`. In addition, we also add an \"unknown\" token so that the model can later deal with characters not encountered in Timit's training set.\n",
        "\n",
        "Finally, we also add a padding token that corresponds to CTC's \"*blank token*\". The \"blank token\" is a core component of the CTC algorithm. For more information, please take a look at the \"Alignment\" section [here](https://distill.pub/2017/ctc/)."
      ]
    },
    {
      "cell_type": "code",
      "metadata": {
        "id": "npbIbBoLgaFX"
      },
      "source": [
        "vocab_dict[\"|\"] = vocab_dict[\" \"]\n",
        "del vocab_dict[\" \"]"
      ],
      "execution_count": 18,
      "outputs": []
    },
    {
      "cell_type": "code",
      "metadata": {
        "id": "znF0bNunsjbl",
        "colab": {
          "base_uri": "https://localhost:8080/"
        },
        "outputId": "6054c568-2066-4d4c-fe48-8cc02a57185f"
      },
      "source": [
        "vocab_dict[\"[UNK]\"] = len(vocab_dict)\n",
        "vocab_dict[\"[PAD]\"] = len(vocab_dict)\n",
        "len(vocab_dict)"
      ],
      "execution_count": 19,
      "outputs": [
        {
          "output_type": "execute_result",
          "data": {
            "text/plain": [
              "30"
            ]
          },
          "metadata": {},
          "execution_count": 19
        }
      ]
    },
    {
      "cell_type": "markdown",
      "metadata": {
        "id": "SFPGfet8U5sL"
      },
      "source": [
        "Cool, now our vocabulary is complete and consists of 30 tokens, which means that the linear layer that we will add on top of the pretrained Wav2Vec2 checkpoint will have an output dimension of 30."
      ]
    },
    {
      "cell_type": "markdown",
      "metadata": {
        "id": "1CujRgBNVRaD"
      },
      "source": [
        "Let's now save the vocabulary as a json file."
      ]
    },
    {
      "cell_type": "code",
      "metadata": {
        "id": "ehyUoh9vk191"
      },
      "source": [
        "import json\n",
        "with open('vocab.json', 'w') as vocab_file:\n",
        "    json.dump(vocab_dict, vocab_file)"
      ],
      "execution_count": 20,
      "outputs": []
    },
    {
      "cell_type": "markdown",
      "metadata": {
        "id": "SHJDaKlIVVim"
      },
      "source": [
        "In a final step, we use the json file to instantiate an object of the `Wav2Vec2CTCTokenizer` class."
      ]
    },
    {
      "cell_type": "code",
      "metadata": {
        "id": "xriFGEWQkO4M"
      },
      "source": [
        "from transformers import Wav2Vec2CTCTokenizer\n",
        "\n",
        "tokenizer = Wav2Vec2CTCTokenizer(\"./vocab.json\", unk_token=\"[UNK]\", pad_token=\"[PAD]\", word_delimiter_token=\"|\")"
      ],
      "execution_count": 21,
      "outputs": []
    },
    {
      "cell_type": "markdown",
      "metadata": {
        "id": "P6L2EVWwIazG"
      },
      "source": [
        "If one wants to re-use the just created tokenizer with the fine-tuned model of this notebook, it is strongly advised to upload the `tokenizer` to the [🤗 Hub](https://huggingface.co/). Let's call the repo to which we will upload the files\n",
        "`\"wav2vec2-base-timit-demo-colab\"`:"
      ]
    },
    {
      "cell_type": "code",
      "metadata": {
        "id": "1mbffBdxIl0M"
      },
      "source": [
        "repo_name = \"wav2vec2-base-timit-demo-google-colab\""
      ],
      "execution_count": 22,
      "outputs": []
    },
    {
      "cell_type": "markdown",
      "metadata": {
        "id": "pmpG2ftFIu3B"
      },
      "source": [
        "and upload the tokenizer to the [🤗 Hub](https://huggingface.co/)."
      ]
    },
    {
      "cell_type": "code",
      "metadata": {
        "colab": {
          "base_uri": "https://localhost:8080/",
          "height": 460
        },
        "id": "ScBMUz8jIxJi",
        "outputId": "93426fcb-edc6-462b-dbe8-aff7e6dde8d2"
      },
      "source": [
        "tokenizer.push_to_hub(repo_name)"
      ],
      "execution_count": 29,
      "outputs": [
        {
          "output_type": "stream",
          "name": "stderr",
          "text": [
            "/usr/local/lib/python3.11/dist-packages/huggingface_hub/utils/_deprecation.py:131: FutureWarning: 'Repository' (from 'huggingface_hub.repository') is deprecated and will be removed from version '1.0'. Please prefer the http-based alternatives instead. Given its large adoption in legacy code, the complete removal is only planned on next major release.\n",
            "For more details, please read https://huggingface.co/docs/huggingface_hub/concepts/git_vs_http.\n",
            "  warnings.warn(warning_message, FutureWarning)\n"
          ]
        },
        {
          "output_type": "error",
          "ename": "ValueError",
          "evalue": "If not specifying `clone_from`, you need to pass Repository a valid git clone.",
          "traceback": [
            "\u001b[0;31m---------------------------------------------------------------------------\u001b[0m",
            "\u001b[0;31mValueError\u001b[0m                                Traceback (most recent call last)",
            "\u001b[0;32m/tmp/ipython-input-1675650834.py\u001b[0m in \u001b[0;36m<cell line: 0>\u001b[0;34m()\u001b[0m\n\u001b[0;32m----> 1\u001b[0;31m \u001b[0mtokenizer\u001b[0m\u001b[0;34m.\u001b[0m\u001b[0mpush_to_hub\u001b[0m\u001b[0;34m(\u001b[0m\u001b[0mrepo_name\u001b[0m\u001b[0;34m)\u001b[0m\u001b[0;34m\u001b[0m\u001b[0;34m\u001b[0m\u001b[0m\n\u001b[0m",
            "\u001b[0;32m/usr/local/lib/python3.11/dist-packages/transformers/file_utils.py\u001b[0m in \u001b[0;36mpush_to_hub\u001b[0;34m(self, repo_path_or_name, repo_url, use_temp_dir, commit_message, organization, private, use_auth_token, **model_card_kwargs)\u001b[0m\n\u001b[1;32m   2899\u001b[0m \u001b[0;34m\u001b[0m\u001b[0m\n\u001b[1;32m   2900\u001b[0m         \u001b[0;31m# Create or clone the repo. If the repo is already cloned, this just retrieves the path to the repo.\u001b[0m\u001b[0;34m\u001b[0m\u001b[0;34m\u001b[0m\u001b[0m\n\u001b[0;32m-> 2901\u001b[0;31m         repo = self._create_or_get_repo(\n\u001b[0m\u001b[1;32m   2902\u001b[0m             \u001b[0mrepo_path_or_name\u001b[0m\u001b[0;34m=\u001b[0m\u001b[0mrepo_path_or_name\u001b[0m\u001b[0;34m,\u001b[0m\u001b[0;34m\u001b[0m\u001b[0;34m\u001b[0m\u001b[0m\n\u001b[1;32m   2903\u001b[0m             \u001b[0mrepo_url\u001b[0m\u001b[0;34m=\u001b[0m\u001b[0mrepo_url\u001b[0m\u001b[0;34m,\u001b[0m\u001b[0;34m\u001b[0m\u001b[0;34m\u001b[0m\u001b[0m\n",
            "\u001b[0;32m/usr/local/lib/python3.11/dist-packages/transformers/file_utils.py\u001b[0m in \u001b[0;36m_create_or_get_repo\u001b[0;34m(cls, repo_path_or_name, repo_url, organization, private, use_auth_token)\u001b[0m\n\u001b[1;32m   2983\u001b[0m             \u001b[0mos\u001b[0m\u001b[0;34m.\u001b[0m\u001b[0mmakedirs\u001b[0m\u001b[0;34m(\u001b[0m\u001b[0mrepo_path_or_name\u001b[0m\u001b[0;34m)\u001b[0m\u001b[0;34m\u001b[0m\u001b[0;34m\u001b[0m\u001b[0m\n\u001b[1;32m   2984\u001b[0m \u001b[0;34m\u001b[0m\u001b[0m\n\u001b[0;32m-> 2985\u001b[0;31m         \u001b[0mrepo\u001b[0m \u001b[0;34m=\u001b[0m \u001b[0mRepository\u001b[0m\u001b[0;34m(\u001b[0m\u001b[0mrepo_path_or_name\u001b[0m\u001b[0;34m,\u001b[0m \u001b[0mclone_from\u001b[0m\u001b[0;34m=\u001b[0m\u001b[0mrepo_url\u001b[0m\u001b[0;34m,\u001b[0m \u001b[0muse_auth_token\u001b[0m\u001b[0;34m=\u001b[0m\u001b[0muse_auth_token\u001b[0m\u001b[0;34m)\u001b[0m\u001b[0;34m\u001b[0m\u001b[0;34m\u001b[0m\u001b[0m\n\u001b[0m\u001b[1;32m   2986\u001b[0m         \u001b[0mrepo\u001b[0m\u001b[0;34m.\u001b[0m\u001b[0mgit_pull\u001b[0m\u001b[0;34m(\u001b[0m\u001b[0;34m)\u001b[0m\u001b[0;34m\u001b[0m\u001b[0;34m\u001b[0m\u001b[0m\n\u001b[1;32m   2987\u001b[0m         \u001b[0;32mreturn\u001b[0m \u001b[0mrepo\u001b[0m\u001b[0;34m\u001b[0m\u001b[0;34m\u001b[0m\u001b[0m\n",
            "\u001b[0;32m/usr/local/lib/python3.11/dist-packages/huggingface_hub/utils/_validators.py\u001b[0m in \u001b[0;36m_inner_fn\u001b[0;34m(*args, **kwargs)\u001b[0m\n\u001b[1;32m    112\u001b[0m             \u001b[0mkwargs\u001b[0m \u001b[0;34m=\u001b[0m \u001b[0msmoothly_deprecate_use_auth_token\u001b[0m\u001b[0;34m(\u001b[0m\u001b[0mfn_name\u001b[0m\u001b[0;34m=\u001b[0m\u001b[0mfn\u001b[0m\u001b[0;34m.\u001b[0m\u001b[0m__name__\u001b[0m\u001b[0;34m,\u001b[0m \u001b[0mhas_token\u001b[0m\u001b[0;34m=\u001b[0m\u001b[0mhas_token\u001b[0m\u001b[0;34m,\u001b[0m \u001b[0mkwargs\u001b[0m\u001b[0;34m=\u001b[0m\u001b[0mkwargs\u001b[0m\u001b[0;34m)\u001b[0m\u001b[0;34m\u001b[0m\u001b[0;34m\u001b[0m\u001b[0m\n\u001b[1;32m    113\u001b[0m \u001b[0;34m\u001b[0m\u001b[0m\n\u001b[0;32m--> 114\u001b[0;31m         \u001b[0;32mreturn\u001b[0m \u001b[0mfn\u001b[0m\u001b[0;34m(\u001b[0m\u001b[0;34m*\u001b[0m\u001b[0margs\u001b[0m\u001b[0;34m,\u001b[0m \u001b[0;34m**\u001b[0m\u001b[0mkwargs\u001b[0m\u001b[0;34m)\u001b[0m\u001b[0;34m\u001b[0m\u001b[0;34m\u001b[0m\u001b[0m\n\u001b[0m\u001b[1;32m    115\u001b[0m \u001b[0;34m\u001b[0m\u001b[0m\n\u001b[1;32m    116\u001b[0m     \u001b[0;32mreturn\u001b[0m \u001b[0m_inner_fn\u001b[0m  \u001b[0;31m# type: ignore\u001b[0m\u001b[0;34m\u001b[0m\u001b[0;34m\u001b[0m\u001b[0m\n",
            "\u001b[0;32m/usr/local/lib/python3.11/dist-packages/huggingface_hub/utils/_deprecation.py\u001b[0m in \u001b[0;36minner_f\u001b[0;34m(*args, **kwargs)\u001b[0m\n\u001b[1;32m    130\u001b[0m                 \u001b[0mwarning_message\u001b[0m \u001b[0;34m+=\u001b[0m \u001b[0;34m\" \"\u001b[0m \u001b[0;34m+\u001b[0m \u001b[0mmessage\u001b[0m\u001b[0;34m\u001b[0m\u001b[0;34m\u001b[0m\u001b[0m\n\u001b[1;32m    131\u001b[0m             \u001b[0mwarnings\u001b[0m\u001b[0;34m.\u001b[0m\u001b[0mwarn\u001b[0m\u001b[0;34m(\u001b[0m\u001b[0mwarning_message\u001b[0m\u001b[0;34m,\u001b[0m \u001b[0mFutureWarning\u001b[0m\u001b[0;34m)\u001b[0m\u001b[0;34m\u001b[0m\u001b[0;34m\u001b[0m\u001b[0m\n\u001b[0;32m--> 132\u001b[0;31m             \u001b[0;32mreturn\u001b[0m \u001b[0mf\u001b[0m\u001b[0;34m(\u001b[0m\u001b[0;34m*\u001b[0m\u001b[0margs\u001b[0m\u001b[0;34m,\u001b[0m \u001b[0;34m**\u001b[0m\u001b[0mkwargs\u001b[0m\u001b[0;34m)\u001b[0m\u001b[0;34m\u001b[0m\u001b[0;34m\u001b[0m\u001b[0m\n\u001b[0m\u001b[1;32m    133\u001b[0m \u001b[0;34m\u001b[0m\u001b[0m\n\u001b[1;32m    134\u001b[0m         \u001b[0;32mreturn\u001b[0m \u001b[0minner_f\u001b[0m\u001b[0;34m\u001b[0m\u001b[0;34m\u001b[0m\u001b[0m\n",
            "\u001b[0;32m/usr/local/lib/python3.11/dist-packages/huggingface_hub/repository.py\u001b[0m in \u001b[0;36m__init__\u001b[0;34m(self, local_dir, clone_from, repo_type, token, git_user, git_email, revision, skip_lfs_files, client)\u001b[0m\n\u001b[1;32m    537\u001b[0m                 \u001b[0mlogger\u001b[0m\u001b[0;34m.\u001b[0m\u001b[0mdebug\u001b[0m\u001b[0;34m(\u001b[0m\u001b[0;34m\"[Repository] is a valid git repo\"\u001b[0m\u001b[0;34m)\u001b[0m\u001b[0;34m\u001b[0m\u001b[0;34m\u001b[0m\u001b[0m\n\u001b[1;32m    538\u001b[0m             \u001b[0;32melse\u001b[0m\u001b[0;34m:\u001b[0m\u001b[0;34m\u001b[0m\u001b[0;34m\u001b[0m\u001b[0m\n\u001b[0;32m--> 539\u001b[0;31m                 \u001b[0;32mraise\u001b[0m \u001b[0mValueError\u001b[0m\u001b[0;34m(\u001b[0m\u001b[0;34m\"If not specifying `clone_from`, you need to pass Repository a valid git clone.\"\u001b[0m\u001b[0;34m)\u001b[0m\u001b[0;34m\u001b[0m\u001b[0;34m\u001b[0m\u001b[0m\n\u001b[0m\u001b[1;32m    540\u001b[0m \u001b[0;34m\u001b[0m\u001b[0m\n\u001b[1;32m    541\u001b[0m         \u001b[0;32mif\u001b[0m \u001b[0mself\u001b[0m\u001b[0;34m.\u001b[0m\u001b[0mhuggingface_token\u001b[0m \u001b[0;32mis\u001b[0m \u001b[0;32mnot\u001b[0m \u001b[0;32mNone\u001b[0m \u001b[0;32mand\u001b[0m \u001b[0;34m(\u001b[0m\u001b[0mgit_email\u001b[0m \u001b[0;32mis\u001b[0m \u001b[0;32mNone\u001b[0m \u001b[0;32mor\u001b[0m \u001b[0mgit_user\u001b[0m \u001b[0;32mis\u001b[0m \u001b[0;32mNone\u001b[0m\u001b[0;34m)\u001b[0m\u001b[0;34m:\u001b[0m\u001b[0;34m\u001b[0m\u001b[0;34m\u001b[0m\u001b[0m\n",
            "\u001b[0;31mValueError\u001b[0m: If not specifying `clone_from`, you need to pass Repository a valid git clone."
          ]
        }
      ]
    },
    {
      "cell_type": "markdown",
      "metadata": {
        "id": "KvL12DrNV4cx"
      },
      "source": [
        "Great, you can see the just created repository under `https://huggingface.co/<your-username>/wav2vec2-base-timit-demo-colab`"
      ]
    },
    {
      "cell_type": "markdown",
      "metadata": {
        "id": "mYcIiR2FQ96i"
      },
      "source": [
        "### Create Wav2Vec2 Feature Extractor"
      ]
    },
    {
      "cell_type": "markdown",
      "metadata": {
        "id": "Y6mDEyW719rx"
      },
      "source": [
        "Speech is a continuous signal and to be treated by computers, it first has to be discretized, which is usually called **sampling**. The sampling rate hereby plays an important role in that it defines how many data points of the speech signal are measured per second. Therefore, sampling with a higher sampling rate results in a better approximation of the *real* speech signal but also necessitates more values per second.\n",
        "\n",
        "A pretrained checkpoint expects its input data to have been sampled more or less from the same distribution as the data it was trained on. The same speech signals sampled at two different rates have a very different distribution, *e.g.*, doubling the sampling rate results in data points being twice as long. Thus,\n",
        "before fine-tuning a pretrained checkpoint of an ASR model, it is crucial to verify that the sampling rate of the data that was used to pretrain the model matches the sampling rate of the dataset used to fine-tune the model.\n",
        "\n",
        "Wav2Vec2 was pretrained on the audio data of [LibriSpeech](https://huggingface.co/datasets/librispeech_asr) and LibriVox which both were sampling with 16kHz. Our fine-tuning dataset, [Timit](hhtps://huggingface.co/datasets/timit_asr), was luckily also sampled with 16kHz. If the fine-tuning dataset would have been sampled with a rate lower or higher than 16kHz, we first would have had to up or downsample the speech signal to match the sampling rate of the data used for pretraining.\n",
        "\n"
      ]
    },
    {
      "cell_type": "markdown",
      "metadata": {
        "id": "KuUbPW7oV-B5"
      },
      "source": [
        "A Wav2Vec2 feature extractor object requires the following parameters to be instantiated:\n",
        "\n",
        "- `feature_size`: Speech models take a sequence of feature vectors as an input. While the length of this sequence obviously varies, the feature size should not. In the case of Wav2Vec2, the feature size is 1 because the model was trained on the raw speech signal ${}^2$.\n",
        "- `sampling_rate`: The sampling rate at which the model is trained on.\n",
        "- `padding_value`: For batched inference, shorter inputs need to be padded with a specific value\n",
        "- `do_normalize`: Whether the input should be *zero-mean-unit-variance* normalized or not. Usually, speech models perform better when normalizing the input\n",
        "- `return_attention_mask`: Whether the model should make use of an `attention_mask` for batched inference. In general, models should **always** make use of the `attention_mask` to mask padded tokens. However, due to a very specific design choice of `Wav2Vec2`'s \"base\" checkpoint, better results are achieved when using no `attention_mask`. This is **not** recommended for other speech models. For more information, one can take a look at [this](https://github.com/pytorch/fairseq/issues/3227) issue. **Important** If you want to use this notebook to fine-tune [large-lv60](https://huggingface.co/facebook/wav2vec2-large-lv60), this parameter should be set to `True`."
      ]
    },
    {
      "cell_type": "code",
      "metadata": {
        "id": "kAR0-2KLkopp"
      },
      "source": [
        "from transformers import Wav2Vec2FeatureExtractor\n",
        "\n",
        "feature_extractor = Wav2Vec2FeatureExtractor(feature_size=1, sampling_rate=16000, padding_value=0.0, do_normalize=True, return_attention_mask=False)"
      ],
      "execution_count": 30,
      "outputs": []
    },
    {
      "cell_type": "markdown",
      "metadata": {
        "id": "qUETetgqYC3W"
      },
      "source": [
        "Great, Wav2Vec2's feature extraction pipeline is thereby fully defined!\n",
        "\n",
        "To make the usage of Wav2Vec2 as user-friendly as possible, the feature extractor and tokenizer are *wrapped* into a single `Wav2Vec2Processor` class so that one only needs a `model` and `processor` object."
      ]
    },
    {
      "cell_type": "code",
      "metadata": {
        "id": "KYZtoW-tlZgl"
      },
      "source": [
        "from transformers import Wav2Vec2Processor\n",
        "\n",
        "processor = Wav2Vec2Processor(feature_extractor=feature_extractor, tokenizer=tokenizer)"
      ],
      "execution_count": 31,
      "outputs": []
    },
    {
      "cell_type": "markdown",
      "metadata": {
        "id": "DrKnYuvDIoOO"
      },
      "source": [
        "Next, we can prepare the dataset."
      ]
    },
    {
      "cell_type": "markdown",
      "metadata": {
        "id": "YFmShnl7RE35"
      },
      "source": [
        "### Preprocess Data\n",
        "\n",
        "So far, we have not looked at the actual values of the speech signal but just the transcription. In addition to `'text'`, our datasets include two more column names `'file'` and `'audio'`. `'file'` states the absolute path of the audio file. Let's take a look."
      ]
    },
    {
      "cell_type": "code",
      "metadata": {
        "colab": {
          "base_uri": "https://localhost:8080/",
          "height": 54
        },
        "id": "TTCS7W6XJ9BG",
        "outputId": "e0b86c62-3156-40b8-cf73-cc1ad5382e38"
      },
      "source": [
        "timit[\"train\"][0][\"file\"]"
      ],
      "execution_count": 32,
      "outputs": [
        {
          "output_type": "execute_result",
          "data": {
            "text/plain": [
              "'/root/.cache/huggingface/datasets/downloads/extracted/404950a46da14eac65eb4e2a8317b1372fb3971d980d91d5d5b221275b1fd7e0/data/TRAIN/DR4/MMDM0/SI681.WAV'"
            ],
            "application/vnd.google.colaboratory.intrinsic+json": {
              "type": "string"
            }
          },
          "metadata": {},
          "execution_count": 32
        }
      ]
    },
    {
      "cell_type": "markdown",
      "metadata": {
        "id": "BwxprOw4Nzrl"
      },
      "source": [
        "`Wav2Vec2` expects the input in the format of a 1-dimensional array of 16 kHz. This means that the audio file has to be loaded and resampled.\n",
        "\n",
        " Thankfully, `datasets` does this automatically when calling the column `audio`. Let try it out."
      ]
    },
    {
      "cell_type": "code",
      "metadata": {
        "colab": {
          "base_uri": "https://localhost:8080/"
        },
        "id": "mk9QHuSsN7lf",
        "outputId": "57b4eee4-b9a9-49b5-e49b-dc22e0757ca2"
      },
      "source": [
        "timit[\"train\"][0][\"audio\"]"
      ],
      "execution_count": 33,
      "outputs": [
        {
          "output_type": "execute_result",
          "data": {
            "text/plain": [
              "{'path': '/root/.cache/huggingface/datasets/downloads/extracted/404950a46da14eac65eb4e2a8317b1372fb3971d980d91d5d5b221275b1fd7e0/data/TRAIN/DR4/MMDM0/SI681.WAV',\n",
              " 'array': array([-2.1362305e-04,  6.1035156e-05,  3.0517578e-05, ...,\n",
              "        -3.0517578e-05, -9.1552734e-05, -6.1035156e-05], dtype=float32),\n",
              " 'sampling_rate': 16000}"
            ]
          },
          "metadata": {},
          "execution_count": 33
        }
      ]
    },
    {
      "cell_type": "markdown",
      "metadata": {
        "id": "wSBIGEiaKHMn"
      },
      "source": [
        "We can see that the audio file has automatically been loaded. This is thanks to the new [`\"Audio\"` feature](https://huggingface.co/docs/datasets/package_reference/main_classes.html?highlight=audio#datasets.Audio) introduced in `datasets == 4.13.3`, which loads and resamples audio files on-the-fly upon calling.\n",
        "\n",
        "The sampling rate is set to 16kHz which is what `Wav2Vec2` expects as an input."
      ]
    },
    {
      "cell_type": "markdown",
      "metadata": {
        "id": "SOckzFd4Mbzq"
      },
      "source": [
        "Great, let's listen to a couple of audio files to better understand the dataset and verify that the audio was correctly loaded.\n",
        "\n",
        "**Note**: *You can click the following cell a couple of times to listen to different speech samples.*"
      ]
    },
    {
      "cell_type": "code",
      "metadata": {
        "colab": {
          "base_uri": "https://localhost:8080/",
          "height": 93
        },
        "id": "dueM6U7Ev0OA",
        "outputId": "50ab17ad-1c6b-4109-e693-a21c920344c4"
      },
      "source": [
        "import IPython.display as ipd\n",
        "import numpy as np\n",
        "import random\n",
        "\n",
        "rand_int = random.randint(0, len(timit[\"train\"]))\n",
        "\n",
        "print(timit[\"train\"][rand_int][\"text\"])\n",
        "ipd.Audio(data=np.asarray(timit[\"train\"][rand_int][\"audio\"][\"array\"]), autoplay=True, rate=16000)"
      ],
      "execution_count": 34,
      "outputs": [
        {
          "output_type": "stream",
          "name": "stdout",
          "text": [
            "upgrade your status to reflect your wealth \n"
          ]
        },
        {
          "output_type": "execute_result",
          "data": {
            "text/plain": [
              "<IPython.lib.display.Audio object>"
            ],
            "text/html": [
              "\n",
              "                <audio  controls=\"controls\" autoplay=\"autoplay\">\n",
              "                    <source src=\"data:audio/wav;base64,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\" type=\"audio/wav\" />\n",
              "                    Your browser does not support the audio element.\n",
              "                </audio>\n",
              "              "
            ]
          },
          "metadata": {},
          "execution_count": 34
        }
      ]
    },
    {
      "cell_type": "markdown",
      "metadata": {
        "id": "1MaL9J2dNVtG"
      },
      "source": [
        "It can be heard, that the speakers change along with their speaking rate, accent, etc. Overall, the recordings sound relatively clear though, which is to be expected from a read speech corpus.\n",
        "\n",
        "Let's do a final check that the data is correctly prepared, by printing the shape of the speech input, its transcription, and the corresponding sampling rate.\n",
        "\n",
        "**Note**: *You can click the following cell a couple of times to verify multiple samples.*"
      ]
    },
    {
      "cell_type": "code",
      "metadata": {
        "colab": {
          "base_uri": "https://localhost:8080/"
        },
        "id": "1Po2g7YPuRTx",
        "outputId": "f6a35b2e-1f1f-424d-c268-ebc77b0ce718"
      },
      "source": [
        "rand_int = random.randint(0, len(timit[\"train\"]))\n",
        "\n",
        "print(\"Target text:\", timit[\"train\"][rand_int][\"text\"])\n",
        "print(\"Input array shape:\", np.asarray(timit[\"train\"][rand_int][\"audio\"][\"array\"]).shape)\n",
        "print(\"Sampling rate:\", timit[\"train\"][rand_int][\"audio\"][\"sampling_rate\"])"
      ],
      "execution_count": 35,
      "outputs": [
        {
          "output_type": "stream",
          "name": "stdout",
          "text": [
            "Target text: i took her word for it but is she really going with you \n",
            "Input array shape: (41575,)\n",
            "Sampling rate: 16000\n"
          ]
        }
      ]
    },
    {
      "cell_type": "markdown",
      "metadata": {
        "id": "M9teZcSwOBJ4"
      },
      "source": [
        "Good! Everything looks fine - the data is a 1-dimensional array, the sampling rate always corresponds to 16kHz, and the target text is normalized."
      ]
    },
    {
      "cell_type": "markdown",
      "metadata": {
        "id": "k3Pbn5WvOYZF"
      },
      "source": [
        "Finally, we can process the dataset to the format expected by the model for training. We will make use of the `map(...)` function.\n",
        "\n",
        "First, we load and resample the audio data, simply by calling `batch[\"audio\"]`.\n",
        "Second, we extract the `input_values` from the loaded audio file. In our case, the `Wav2Vec2Processor` only normalizes the data. For other speech models, however, this step can include more complex feature extraction, such as [Log-Mel feature extraction](https://en.wikipedia.org/wiki/Mel-frequency_cepstrum).\n",
        "Third, we encode the transcriptions to label ids.\n",
        "\n",
        "**Note**: This mapping function is a good example of how the `Wav2Vec2Processor` class should be used. In \"normal\" context, calling `processor(...)` is redirected to `Wav2Vec2FeatureExtractor`'s call method. When wrapping the processor into the `as_target_processor` context, however, the same method is redirected to `Wav2Vec2CTCTokenizer`'s call method.\n",
        "For more information please check the [docs](https://huggingface.co/transformers/master/model_doc/wav2vec2.html#transformers.Wav2Vec2Processor.__call__)."
      ]
    },
    {
      "cell_type": "code",
      "metadata": {
        "id": "eJY7I0XAwe9p"
      },
      "source": [
        "def prepare_dataset(batch):\n",
        "    audio = batch[\"audio\"]\n",
        "\n",
        "    # batched output is \"un-batched\" to ensure mapping is correct\n",
        "    batch[\"input_values\"] = processor(audio[\"array\"], sampling_rate=audio[\"sampling_rate\"]).input_values[0]\n",
        "    batch[\"input_length\"] = len(batch[\"input_values\"])\n",
        "\n",
        "    with processor.as_target_processor():\n",
        "        batch[\"labels\"] = processor(batch[\"text\"]).input_ids\n",
        "    return batch"
      ],
      "execution_count": 36,
      "outputs": []
    },
    {
      "cell_type": "markdown",
      "metadata": {
        "id": "hVMZhH4-nP8-"
      },
      "source": [
        "Let's apply the data preparation function to all examples."
      ]
    },
    {
      "cell_type": "code",
      "metadata": {
        "id": "-np9xYK-wl8q",
        "colab": {
          "base_uri": "https://localhost:8080/",
          "height": 163
        },
        "outputId": "a5d46219-cfc4-4b33-e427-be9347bce330"
      },
      "source": [
        "timit = timit.map(prepare_dataset, remove_columns=timit.column_names[\"train\"], num_proc=4)"
      ],
      "execution_count": 1,
      "outputs": [
        {
          "output_type": "error",
          "ename": "NameError",
          "evalue": "name 'timit' is not defined",
          "traceback": [
            "\u001b[0;31m---------------------------------------------------------------------------\u001b[0m",
            "\u001b[0;31mNameError\u001b[0m                                 Traceback (most recent call last)",
            "\u001b[0;32m/tmp/ipython-input-2197343994.py\u001b[0m in \u001b[0;36m<cell line: 0>\u001b[0;34m()\u001b[0m\n\u001b[0;32m----> 1\u001b[0;31m \u001b[0mtimit\u001b[0m \u001b[0;34m=\u001b[0m \u001b[0mtimit\u001b[0m\u001b[0;34m.\u001b[0m\u001b[0mmap\u001b[0m\u001b[0;34m(\u001b[0m\u001b[0mprepare_dataset\u001b[0m\u001b[0;34m,\u001b[0m \u001b[0mremove_columns\u001b[0m\u001b[0;34m=\u001b[0m\u001b[0mtimit\u001b[0m\u001b[0;34m.\u001b[0m\u001b[0mcolumn_names\u001b[0m\u001b[0;34m[\u001b[0m\u001b[0;34m\"train\"\u001b[0m\u001b[0;34m]\u001b[0m\u001b[0;34m,\u001b[0m \u001b[0mnum_proc\u001b[0m\u001b[0;34m=\u001b[0m\u001b[0;36m4\u001b[0m\u001b[0;34m)\u001b[0m\u001b[0;34m\u001b[0m\u001b[0;34m\u001b[0m\u001b[0m\n\u001b[0m",
            "\u001b[0;31mNameError\u001b[0m: name 'timit' is not defined"
          ]
        }
      ]
    },
    {
      "cell_type": "markdown",
      "metadata": {
        "id": "p_MuJSH8nTuQ"
      },
      "source": [
        "**Note**: Currently `datasets` make use of [`torchaudio`](https://pytorch.org/audio/stable/index.html) and [`librosa`](https://librosa.org/doc/latest/index.html) for audio loading and resampling. If you wish to implement your own costumized data loading/sampling, feel free to just make use of the `\"path\"` column instead and disregard the `\"audio\"` column."
      ]
    },
    {
      "cell_type": "markdown",
      "metadata": {
        "id": "M4J0bU1WsvAg"
      },
      "source": [
        "Long input sequences require a lot of memory. Since `Wav2Vec2` is based on `self-attention` the memory requirement scales quadratically with the input length for long input sequences (*cf.* with [this](https://www.reddit.com/r/MachineLearning/comments/genjvb/d_why_is_the_maximum_input_sequence_length_of/) reddit post). For this demo, let's filter all sequences that are longer than 4 seconds out of the training dataset."
      ]
    },
    {
      "cell_type": "code",
      "metadata": {
        "colab": {
          "base_uri": "https://localhost:8080/"
        },
        "id": "nqGobEPUvG3v",
        "outputId": "0cae58f9-2cd9-405a-ad60-7bb31e649911"
      },
      "source": [
        "max_input_length_in_sec = 4.0\n",
        "timit[\"train\"] = timit[\"train\"].filter(lambda x: x < max_input_length_in_sec * processor.feature_extractor.sampling_rate, input_columns=[\"input_length\"])"
      ],
      "execution_count": null,
      "outputs": [
        {
          "output_type": "stream",
          "name": "stderr",
          "text": [
            "Loading cached processed dataset at /root/.cache/huggingface/datasets/timit_asr/clean/2.0.1/b11b576ddcccbcefa7c9f0c4e6c2a43756f3033adffe0fb686aa61043d0450ad/cache-27a077ffa2911470.arrow\n"
          ]
        }
      ]
    },
    {
      "cell_type": "markdown",
      "metadata": {
        "id": "25Genil2v_Br"
      },
      "source": [
        "Awesome, now we are ready to start training!"
      ]
    },
    {
      "cell_type": "markdown",
      "metadata": {
        "id": "gYlQkKVoRUos"
      },
      "source": [
        "## Training & Evaluation\n",
        "\n",
        "The data is processed so that we are ready to start setting up the training pipeline. We will make use of 🤗's [Trainer](https://huggingface.co/transformers/master/main_classes/trainer.html?highlight=trainer) for which we essentially need to do the following:\n",
        "\n",
        "- Define a data collator. In contrast to most NLP models, Wav2Vec2 has a much larger input length than output length. *E.g.*, a sample of input length 50000 has an output length of no more than 100. Given the large input sizes, it is much more efficient to pad the training batches dynamically meaning that all training samples should only be padded to the longest sample in their batch and not the overall longest sample. Therefore, fine-tuning Wav2Vec2 requires a special padding data collator, which we will define below\n",
        "\n",
        "- Evaluation metric. During training, the model should be evaluated on the word error rate. We should define a `compute_metrics` function accordingly\n",
        "\n",
        "- Load a pretrained checkpoint. We need to load a pretrained checkpoint and configure it correctly for training.\n",
        "\n",
        "- Define the training configuration.\n",
        "\n",
        "After having fine-tuned the model, we will correctly evaluate it on the test data and verify that it has indeed learned to correctly transcribe speech."
      ]
    },
    {
      "cell_type": "markdown",
      "metadata": {
        "id": "Slk403unUS91"
      },
      "source": [
        "### Set-up Trainer\n",
        "\n",
        "Let's start by defining the data collator. The code for the data collator was copied from [this example](https://github.com/huggingface/transformers/blob/9a06b6b11bdfc42eea08fa91d0c737d1863c99e3/examples/research_projects/wav2vec2/run_asr.py#L81).\n",
        "\n",
        "Without going into too many details, in contrast to the common data collators, this data collator treats the `input_values` and `labels` differently and thus applies to separate padding functions on them (again making use of Wav2Vec2's context manager). This is necessary because in speech input and output are of different modalities meaning that they should not be treated by the same padding function.\n",
        "Analogous to the common data collators, the padding tokens in the labels with `-100` so that those tokens are **not** taken into account when computing the loss."
      ]
    },
    {
      "cell_type": "code",
      "metadata": {
        "id": "tborvC9hx88e"
      },
      "source": [
        "import torch\n",
        "\n",
        "from dataclasses import dataclass, field\n",
        "from typing import Any, Dict, List, Optional, Union\n",
        "\n",
        "@dataclass\n",
        "class DataCollatorCTCWithPadding:\n",
        "    \"\"\"\n",
        "    Data collator that will dynamically pad the inputs received.\n",
        "    Args:\n",
        "        processor (:class:`~transformers.Wav2Vec2Processor`)\n",
        "            The processor used for proccessing the data.\n",
        "        padding (:obj:`bool`, :obj:`str` or :class:`~transformers.tokenization_utils_base.PaddingStrategy`, `optional`, defaults to :obj:`True`):\n",
        "            Select a strategy to pad the returned sequences (according to the model's padding side and padding index)\n",
        "            among:\n",
        "            * :obj:`True` or :obj:`'longest'`: Pad to the longest sequence in the batch (or no padding if only a single\n",
        "              sequence if provided).\n",
        "            * :obj:`'max_length'`: Pad to a maximum length specified with the argument :obj:`max_length` or to the\n",
        "              maximum acceptable input length for the model if that argument is not provided.\n",
        "            * :obj:`False` or :obj:`'do_not_pad'` (default): No padding (i.e., can output a batch with sequences of\n",
        "              different lengths).\n",
        "    \"\"\"\n",
        "\n",
        "    processor: Wav2Vec2Processor\n",
        "    padding: Union[bool, str] = True\n",
        "\n",
        "    def __call__(self, features: List[Dict[str, Union[List[int], torch.Tensor]]]) -> Dict[str, torch.Tensor]:\n",
        "        # split inputs and labels since they have to be of different lenghts and need\n",
        "        # different padding methods\n",
        "        input_features = [{\"input_values\": feature[\"input_values\"]} for feature in features]\n",
        "        label_features = [{\"input_ids\": feature[\"labels\"]} for feature in features]\n",
        "\n",
        "        batch = self.processor.pad(\n",
        "            input_features,\n",
        "            padding=self.padding,\n",
        "            return_tensors=\"pt\",\n",
        "        )\n",
        "        with self.processor.as_target_processor():\n",
        "            labels_batch = self.processor.pad(\n",
        "                label_features,\n",
        "                padding=self.padding,\n",
        "                return_tensors=\"pt\",\n",
        "            )\n",
        "\n",
        "        # replace padding with -100 to ignore loss correctly\n",
        "        labels = labels_batch[\"input_ids\"].masked_fill(labels_batch.attention_mask.ne(1), -100)\n",
        "\n",
        "        batch[\"labels\"] = labels\n",
        "\n",
        "        return batch"
      ],
      "execution_count": null,
      "outputs": []
    },
    {
      "cell_type": "code",
      "metadata": {
        "id": "lbQf5GuZyQ4_"
      },
      "source": [
        "data_collator = DataCollatorCTCWithPadding(processor=processor, padding=True)"
      ],
      "execution_count": null,
      "outputs": []
    },
    {
      "cell_type": "markdown",
      "metadata": {
        "id": "xO-Zdj-5cxXp"
      },
      "source": [
        "Next, the evaluation metric is defined. As mentioned earlier, the\n",
        "predominant metric in ASR is the word error rate (WER), hence we will use it in this notebook as well."
      ]
    },
    {
      "cell_type": "code",
      "metadata": {
        "id": "9Xsux2gmyXso"
      },
      "source": [
        "wer_metric = load_metric(\"wer\")"
      ],
      "execution_count": null,
      "outputs": []
    },
    {
      "cell_type": "markdown",
      "metadata": {
        "id": "E1qZU5p-deqB"
      },
      "source": [
        "The model will return a sequence of logit vectors:\n",
        "$\\mathbf{y}_1, \\ldots, \\mathbf{y}_m$ with $\\mathbf{y}_1 = f_{\\theta}(x_1, \\ldots, x_n)[0]$ and $n >> m$.\n",
        "\n",
        "A logit vector $\\mathbf{y}_1$ contains the log-odds for each word in the vocabulary we defined earlier, thus $\\text{len}(\\mathbf{y}_i) =$ `config.vocab_size`. We are interested in the most likely prediction of the model and thus take the `argmax(...)` of the logits. Also, we transform the encoded labels back to the original string by replacing `-100` with the `pad_token_id` and decoding the ids while making sure that consecutive tokens are **not** grouped to the same token in CTC style ${}^1$."
      ]
    },
    {
      "cell_type": "code",
      "metadata": {
        "id": "1XZ-kjweyTy_"
      },
      "source": [
        "def compute_metrics(pred):\n",
        "    pred_logits = pred.predictions\n",
        "    pred_ids = np.argmax(pred_logits, axis=-1)\n",
        "\n",
        "    pred.label_ids[pred.label_ids == -100] = processor.tokenizer.pad_token_id\n",
        "\n",
        "    pred_str = processor.batch_decode(pred_ids)\n",
        "    # we do not want to group tokens when computing the metrics\n",
        "    label_str = processor.batch_decode(pred.label_ids, group_tokens=False)\n",
        "\n",
        "    wer = wer_metric.compute(predictions=pred_str, references=label_str)\n",
        "\n",
        "    return {\"wer\": wer}"
      ],
      "execution_count": null,
      "outputs": []
    },
    {
      "cell_type": "markdown",
      "metadata": {
        "id": "Xmgrx4bRwLIH"
      },
      "source": [
        "Now, we can load the pretrained `Wav2Vec2` checkpoint. The tokenizer's `pad_token_id` must be to define the model's `pad_token_id` or in the case of `Wav2Vec2ForCTC` also CTC's *blank token* ${}^2$. To save GPU memory, we enable PyTorch's [gradient checkpointing](https://pytorch.org/docs/stable/checkpoint.html) and also set the loss reduction to \"*mean*\"."
      ]
    },
    {
      "cell_type": "code",
      "metadata": {
        "colab": {
          "base_uri": "https://localhost:8080/"
        },
        "id": "e7cqAWIayn6w",
        "outputId": "0b87744a-98a0-4198-c9f6-2a0f46365058"
      },
      "source": [
        "from transformers import Wav2Vec2ForCTC\n",
        "\n",
        "model = Wav2Vec2ForCTC.from_pretrained(\n",
        "    \"facebook/wav2vec2-base\",\n",
        "    ctc_loss_reduction=\"mean\",\n",
        "    pad_token_id=processor.tokenizer.pad_token_id,\n",
        ")"
      ],
      "execution_count": null,
      "outputs": [
        {
          "output_type": "stream",
          "name": "stderr",
          "text": [
            "loading configuration file https://huggingface.co/facebook/wav2vec2-base/resolve/main/config.json from cache at /root/.cache/huggingface/transformers/c7746642f045322fd01afa31271dd490e677ea11999e68660a92619ec7c892b4.ce1f96bfaf3d7475cb8187b9668c7f19437ade45fb9ceb78d2b06a2cec198015\n",
            "/usr/local/lib/python3.7/dist-packages/transformers/configuration_utils.py:357: UserWarning: Passing `gradient_checkpointing` to a config initialization is deprecated and will be removed in v5 Transformers. Using `model.gradient_checkpointing_enable()` instead, or if you are using the `Trainer` API, pass `gradient_checkpointing=True` in your `TrainingArguments`.\n",
            "  \"Passing `gradient_checkpointing` to a config initialization is deprecated and will be removed in v5 \"\n",
            "Model config Wav2Vec2Config {\n",
            "  \"activation_dropout\": 0.0,\n",
            "  \"adapter_kernel_size\": 3,\n",
            "  \"adapter_stride\": 2,\n",
            "  \"add_adapter\": false,\n",
            "  \"apply_spec_augment\": true,\n",
            "  \"architectures\": [\n",
            "    \"Wav2Vec2ForPreTraining\"\n",
            "  ],\n",
            "  \"attention_dropout\": 0.1,\n",
            "  \"bos_token_id\": 1,\n",
            "  \"classifier_proj_size\": 256,\n",
            "  \"codevector_dim\": 256,\n",
            "  \"contrastive_logits_temperature\": 0.1,\n",
            "  \"conv_bias\": false,\n",
            "  \"conv_dim\": [\n",
            "    512,\n",
            "    512,\n",
            "    512,\n",
            "    512,\n",
            "    512,\n",
            "    512,\n",
            "    512\n",
            "  ],\n",
            "  \"conv_kernel\": [\n",
            "    10,\n",
            "    3,\n",
            "    3,\n",
            "    3,\n",
            "    3,\n",
            "    2,\n",
            "    2\n",
            "  ],\n",
            "  \"conv_stride\": [\n",
            "    5,\n",
            "    2,\n",
            "    2,\n",
            "    2,\n",
            "    2,\n",
            "    2,\n",
            "    2\n",
            "  ],\n",
            "  \"ctc_loss_reduction\": \"mean\",\n",
            "  \"ctc_zero_infinity\": false,\n",
            "  \"diversity_loss_weight\": 0.1,\n",
            "  \"do_stable_layer_norm\": false,\n",
            "  \"eos_token_id\": 2,\n",
            "  \"feat_extract_activation\": \"gelu\",\n",
            "  \"feat_extract_norm\": \"group\",\n",
            "  \"feat_proj_dropout\": 0.1,\n",
            "  \"feat_quantizer_dropout\": 0.0,\n",
            "  \"final_dropout\": 0.0,\n",
            "  \"freeze_feat_extract_train\": true,\n",
            "  \"gradient_checkpointing\": true,\n",
            "  \"hidden_act\": \"gelu\",\n",
            "  \"hidden_dropout\": 0.1,\n",
            "  \"hidden_size\": 768,\n",
            "  \"initializer_range\": 0.02,\n",
            "  \"intermediate_size\": 3072,\n",
            "  \"layer_norm_eps\": 1e-05,\n",
            "  \"layerdrop\": 0.0,\n",
            "  \"mask_channel_length\": 10,\n",
            "  \"mask_channel_min_space\": 1,\n",
            "  \"mask_channel_other\": 0.0,\n",
            "  \"mask_channel_prob\": 0.0,\n",
            "  \"mask_channel_selection\": \"static\",\n",
            "  \"mask_feature_length\": 10,\n",
            "  \"mask_feature_min_masks\": 0,\n",
            "  \"mask_feature_prob\": 0.0,\n",
            "  \"mask_time_length\": 10,\n",
            "  \"mask_time_min_masks\": 2,\n",
            "  \"mask_time_min_space\": 1,\n",
            "  \"mask_time_other\": 0.0,\n",
            "  \"mask_time_prob\": 0.05,\n",
            "  \"mask_time_selection\": \"static\",\n",
            "  \"model_type\": \"wav2vec2\",\n",
            "  \"no_mask_channel_overlap\": false,\n",
            "  \"no_mask_time_overlap\": false,\n",
            "  \"num_adapter_layers\": 3,\n",
            "  \"num_attention_heads\": 12,\n",
            "  \"num_codevector_groups\": 2,\n",
            "  \"num_codevectors_per_group\": 320,\n",
            "  \"num_conv_pos_embedding_groups\": 16,\n",
            "  \"num_conv_pos_embeddings\": 128,\n",
            "  \"num_feat_extract_layers\": 7,\n",
            "  \"num_hidden_layers\": 12,\n",
            "  \"num_negatives\": 100,\n",
            "  \"output_hidden_size\": 768,\n",
            "  \"pad_token_id\": 29,\n",
            "  \"proj_codevector_dim\": 256,\n",
            "  \"tdnn_dilation\": [\n",
            "    1,\n",
            "    2,\n",
            "    3,\n",
            "    1,\n",
            "    1\n",
            "  ],\n",
            "  \"tdnn_dim\": [\n",
            "    512,\n",
            "    512,\n",
            "    512,\n",
            "    512,\n",
            "    1500\n",
            "  ],\n",
            "  \"tdnn_kernel\": [\n",
            "    5,\n",
            "    3,\n",
            "    3,\n",
            "    1,\n",
            "    1\n",
            "  ],\n",
            "  \"transformers_version\": \"4.17.0\",\n",
            "  \"use_weighted_layer_sum\": false,\n",
            "  \"vocab_size\": 32,\n",
            "  \"xvector_output_dim\": 512\n",
            "}\n",
            "\n",
            "loading weights file https://huggingface.co/facebook/wav2vec2-base/resolve/main/pytorch_model.bin from cache at /root/.cache/huggingface/transformers/ef45231897ce572a660ebc5a63d3702f1a6041c4c5fb78cbec330708531939b3.fcae05302a685f7904c551c8ea571e8bc2a2c4a1777ea81ad66e47f7883a650a\n",
            "Some weights of the model checkpoint at facebook/wav2vec2-base were not used when initializing Wav2Vec2ForCTC: ['project_q.weight', 'quantizer.weight_proj.bias', 'project_hid.bias', 'project_q.bias', 'quantizer.weight_proj.weight', 'project_hid.weight', 'quantizer.codevectors']\n",
            "- This IS expected if you are initializing Wav2Vec2ForCTC from the checkpoint of a model trained on another task or with another architecture (e.g. initializing a BertForSequenceClassification model from a BertForPreTraining model).\n",
            "- This IS NOT expected if you are initializing Wav2Vec2ForCTC from the checkpoint of a model that you expect to be exactly identical (initializing a BertForSequenceClassification model from a BertForSequenceClassification model).\n",
            "Some weights of Wav2Vec2ForCTC were not initialized from the model checkpoint at facebook/wav2vec2-base and are newly initialized: ['lm_head.weight', 'lm_head.bias']\n",
            "You should probably TRAIN this model on a down-stream task to be able to use it for predictions and inference.\n"
          ]
        }
      ]
    },
    {
      "cell_type": "markdown",
      "metadata": {
        "id": "1DwR3XLSzGDD"
      },
      "source": [
        "The first component of Wav2Vec2 consists of a stack of CNN layers that are used to extract acoustically meaningful - but contextually independent - features from the raw speech signal. This part of the model has already been sufficiently trained during pretrainind and as stated in the [paper](https://arxiv.org/abs/2006.11477) does not need to be fine-tuned anymore.\n",
        "Thus, we can set the `requires_grad` to `False` for all parameters of the *feature extraction* part."
      ]
    },
    {
      "cell_type": "code",
      "source": [
        "model.freeze_feature_encoder()"
      ],
      "metadata": {
        "id": "Et_NUAZjWppc"
      },
      "execution_count": null,
      "outputs": []
    },
    {
      "cell_type": "markdown",
      "metadata": {
        "id": "lD4aGhQM0K-D"
      },
      "source": [
        "In a final step, we define all parameters related to training.\n",
        "To give more explanation on some of the parameters:\n",
        "- `group_by_length` makes training more efficient by grouping training samples of similar input length into one batch. This can significantly speed up training time by heavily reducing the overall number of useless padding tokens that are passed through the model\n",
        "- `learning_rate` and `weight_decay` were heuristically tuned until fine-tuning has become stable. Note that those parameters strongly depend on the Timit dataset and might be suboptimal for other speech datasets.\n",
        "\n",
        "For more explanations on other parameters, one can take a look at the [docs](https://huggingface.co/transformers/master/main_classes/trainer.html?highlight=trainer#trainingarguments).\n",
        "\n",
        "During training, a checkpoint will be uploaded asynchronously to the hub every 400 training steps. It allows you to also play around with the demo widget even while your model is still training.\n",
        "\n",
        "**Note**: If one does not want to upload the model checkpoints to the hub, simply set `push_to_hub=False`."
      ]
    },
    {
      "cell_type": "code",
      "metadata": {
        "id": "KbeKSV7uzGPP",
        "colab": {
          "base_uri": "https://localhost:8080/"
        },
        "outputId": "502e0963-4b94-40c9-915a-531b35ef7e8a"
      },
      "source": [
        "from transformers import TrainingArguments\n",
        "\n",
        "training_args = TrainingArguments(\n",
        "  output_dir=repo_name,\n",
        "  group_by_length=True,\n",
        "  per_device_train_batch_size=8,\n",
        "  evaluation_strategy=\"steps\",\n",
        "  num_train_epochs=30,\n",
        "  fp16=True,\n",
        "  gradient_checkpointing=True,\n",
        "  save_steps=500,\n",
        "  eval_steps=500,\n",
        "  logging_steps=500,\n",
        "  learning_rate=1e-4,\n",
        "  weight_decay=0.005,\n",
        "  warmup_steps=1000,\n",
        "  save_total_limit=2,\n",
        ")"
      ],
      "execution_count": null,
      "outputs": [
        {
          "output_type": "stream",
          "name": "stderr",
          "text": [
            "PyTorch: setting up devices\n",
            "The default value for the training argument `--report_to` will change in v5 (from all installed integrations to none). In v5, you will need to use `--report_to all` to get the same behavior as now. You should start updating your code and make this info disappear :-).\n"
          ]
        }
      ]
    },
    {
      "cell_type": "markdown",
      "metadata": {
        "id": "OsW-WZcL1ZtN"
      },
      "source": [
        "Now, all instances can be passed to Trainer and we are ready to start training!"
      ]
    },
    {
      "cell_type": "code",
      "metadata": {
        "id": "rY7vBmFCPFgC",
        "colab": {
          "base_uri": "https://localhost:8080/"
        },
        "outputId": "7d004e64-8aa4-49d1-8635-f6dd920470b1"
      },
      "source": [
        "from transformers import Trainer\n",
        "\n",
        "trainer = Trainer(\n",
        "    model=model,\n",
        "    data_collator=data_collator,\n",
        "    args=training_args,\n",
        "    compute_metrics=compute_metrics,\n",
        "    train_dataset=timit[\"train\"],\n",
        "    eval_dataset=timit[\"test\"],\n",
        "    tokenizer=processor.feature_extractor,\n",
        ")"
      ],
      "execution_count": null,
      "outputs": [
        {
          "output_type": "stream",
          "name": "stderr",
          "text": [
            "Using amp half precision backend\n"
          ]
        }
      ]
    },
    {
      "cell_type": "markdown",
      "metadata": {
        "id": "UoXBx1JAA0DX"
      },
      "source": [
        "\n",
        "\n",
        "---\n",
        "\n",
        "${}^1$ To allow models to become independent of the speaker rate, in CTC, consecutive tokens that are identical are simply grouped as a single token. However, the encoded labels should not be grouped when decoding since they don't correspond to the predicted tokens of the model, which is why the `group_tokens=False` parameter has to be passed. If we wouldn't pass this parameter a word like `\"hello\"` would incorrectly be encoded, and decoded as `\"helo\"`.\n",
        "\n",
        "${}^2$ The blank token allows the model to predict a word, such as `\"hello\"` by forcing it to insert the blank token between the two l's. A CTC-conform prediction of `\"hello\"` of our model would be `[PAD] [PAD] \"h\" \"e\" \"e\" \"l\" \"l\" [PAD] \"l\" \"o\" \"o\" [PAD]`."
      ]
    },
    {
      "cell_type": "markdown",
      "metadata": {
        "id": "rpvZHM1xReIW"
      },
      "source": [
        "### Training"
      ]
    },
    {
      "cell_type": "markdown",
      "metadata": {
        "id": "j-3oKSzZ1hGq"
      },
      "source": [
        "Training will take between 90 and 270 minutes depending on the GPU allocated to this notebook. While the trained model yields satisfying results on *Timit*'s test data, it is by no means an optimally fine-tuned model. The purpose of this notebook is to demonstrate how Wav2Vec2's [base](https://huggingface.co/facebook/wav2vec2-base), [large](https://huggingface.co/facebook/wav2vec2-large), and [large-lv60](https://huggingface.co/facebook/wav2vec2-large-lv60) checkpoints can be fine-tuned on any English dataset.\n",
        "\n",
        "In case you want to use this google colab to fine-tune your model, you should make sure that your training doesn't stop due to inactivity. A simple hack to prevent this is to paste the following code into the console of this tab (*right mouse click -> inspect -> Console tab and insert code*)."
      ]
    },
    {
      "cell_type": "markdown",
      "metadata": {
        "id": "VYYAvgkW4P0m"
      },
      "source": [
        "```javascript\n",
        "function ConnectButton(){\n",
        "    console.log(\"Connect pushed\");\n",
        "    document.querySelector(\"#top-toolbar > colab-connect-button\").shadowRoot.querySelector(\"#connect\").click()\n",
        "}\n",
        "setInterval(ConnectButton,60000);\n",
        "```"
      ]
    },
    {
      "cell_type": "markdown",
      "metadata": {
        "id": "PmY6yqd1zvzU"
      },
      "source": [
        "Depending on what GPU was allocated to your google colab it might be possible that you are seeing an `\"out-of-memory\"` error here. In this case, it's probably best to reduce `per_device_train_batch_size` to 16 or even less and eventually make use of [`gradient_accumulation`](https://huggingface.co/transformers/master/main_classes/trainer.html#trainingarguments)."
      ]
    },
    {
      "cell_type": "code",
      "metadata": {
        "colab": {
          "base_uri": "https://localhost:8080/",
          "height": 1000
        },
        "id": "_UEjJqGsQw24",
        "outputId": "ef86cb55-632e-44fd-b9b2-6b804e7808df"
      },
      "source": [
        "trainer.train()"
      ],
      "execution_count": null,
      "outputs": [
        {
          "output_type": "stream",
          "name": "stderr",
          "text": [
            "The following columns in the training set  don't have a corresponding argument in `Wav2Vec2ForCTC.forward` and have been ignored: input_length. If input_length are not expected by `Wav2Vec2ForCTC.forward`,  you can safely ignore this message.\n",
            "/usr/local/lib/python3.7/dist-packages/transformers/optimization.py:309: FutureWarning: This implementation of AdamW is deprecated and will be removed in a future version. Use the PyTorch implementation torch.optim.AdamW instead, or set `no_deprecation_warning=True` to disable this warning\n",
            "  FutureWarning,\n",
            "***** Running training *****\n",
            "  Num examples = 3978\n",
            "  Num Epochs = 30\n",
            "  Instantaneous batch size per device = 8\n",
            "  Total train batch size (w. parallel, distributed & accumulation) = 8\n",
            "  Gradient Accumulation steps = 1\n",
            "  Total optimization steps = 14940\n"
          ]
        },
        {
          "output_type": "display_data",
          "data": {
            "text/plain": [
              "<IPython.core.display.HTML object>"
            ],
            "text/html": [
              "\n",
              "    <div>\n",
              "      \n",
              "      <progress value='14940' max='14940' style='width:300px; height:20px; vertical-align: middle;'></progress>\n",
              "      [14940/14940 1:24:12, Epoch 30/30]\n",
              "    </div>\n",
              "    <table border=\"1\" class=\"dataframe\">\n",
              "  <thead>\n",
              " <tr style=\"text-align: left;\">\n",
              "      <th>Step</th>\n",
              "      <th>Training Loss</th>\n",
              "      <th>Validation Loss</th>\n",
              "      <th>Wer</th>\n",
              "    </tr>\n",
              "  </thead>\n",
              "  <tbody>\n",
              "    <tr>\n",
              "      <td>500</td>\n",
              "      <td>3.513700</td>\n",
              "      <td>1.671889</td>\n",
              "      <td>0.958032</td>\n",
              "    </tr>\n",
              "    <tr>\n",
              "      <td>1000</td>\n",
              "      <td>0.832400</td>\n",
              "      <td>0.554610</td>\n",
              "      <td>0.534147</td>\n",
              "    </tr>\n",
              "    <tr>\n",
              "      <td>1500</td>\n",
              "      <td>0.436500</td>\n",
              "      <td>0.456734</td>\n",
              "      <td>0.463510</td>\n",
              "    </tr>\n",
              "    <tr>\n",
              "      <td>2000</td>\n",
              "      <td>0.305800</td>\n",
              "      <td>0.442902</td>\n",
              "      <td>0.445386</td>\n",
              "    </tr>\n",
              "    <tr>\n",
              "      <td>2500</td>\n",
              "      <td>0.228400</td>\n",
              "      <td>0.473383</td>\n",
              "      <td>0.418648</td>\n",
              "    </tr>\n",
              "    <tr>\n",
              "      <td>3000</td>\n",
              "      <td>0.189200</td>\n",
              "      <td>0.419089</td>\n",
              "      <td>0.403005</td>\n",
              "    </tr>\n",
              "    <tr>\n",
              "      <td>3500</td>\n",
              "      <td>0.154200</td>\n",
              "      <td>0.452161</td>\n",
              "      <td>0.398456</td>\n",
              "    </tr>\n",
              "    <tr>\n",
              "      <td>4000</td>\n",
              "      <td>0.136400</td>\n",
              "      <td>0.474920</td>\n",
              "      <td>0.392185</td>\n",
              "    </tr>\n",
              "    <tr>\n",
              "      <td>4500</td>\n",
              "      <td>0.123900</td>\n",
              "      <td>0.495003</td>\n",
              "      <td>0.397698</td>\n",
              "    </tr>\n",
              "    <tr>\n",
              "      <td>5000</td>\n",
              "      <td>0.109200</td>\n",
              "      <td>0.446769</td>\n",
              "      <td>0.377851</td>\n",
              "    </tr>\n",
              "    <tr>\n",
              "      <td>5500</td>\n",
              "      <td>0.095600</td>\n",
              "      <td>0.489680</td>\n",
              "      <td>0.378885</td>\n",
              "    </tr>\n",
              "    <tr>\n",
              "      <td>6000</td>\n",
              "      <td>0.089700</td>\n",
              "      <td>0.492681</td>\n",
              "      <td>0.371787</td>\n",
              "    </tr>\n",
              "    <tr>\n",
              "      <td>6500</td>\n",
              "      <td>0.079200</td>\n",
              "      <td>0.524202</td>\n",
              "      <td>0.369926</td>\n",
              "    </tr>\n",
              "    <tr>\n",
              "      <td>7000</td>\n",
              "      <td>0.073100</td>\n",
              "      <td>0.520223</td>\n",
              "      <td>0.377162</td>\n",
              "    </tr>\n",
              "    <tr>\n",
              "      <td>7500</td>\n",
              "      <td>0.068100</td>\n",
              "      <td>0.504624</td>\n",
              "      <td>0.363724</td>\n",
              "    </tr>\n",
              "    <tr>\n",
              "      <td>8000</td>\n",
              "      <td>0.062000</td>\n",
              "      <td>0.533646</td>\n",
              "      <td>0.366412</td>\n",
              "    </tr>\n",
              "    <tr>\n",
              "      <td>8500</td>\n",
              "      <td>0.055600</td>\n",
              "      <td>0.501713</td>\n",
              "      <td>0.363311</td>\n",
              "    </tr>\n",
              "    <tr>\n",
              "      <td>9000</td>\n",
              "      <td>0.055600</td>\n",
              "      <td>0.546627</td>\n",
              "      <td>0.373648</td>\n",
              "    </tr>\n",
              "    <tr>\n",
              "      <td>9500</td>\n",
              "      <td>0.046100</td>\n",
              "      <td>0.548935</td>\n",
              "      <td>0.356626</td>\n",
              "    </tr>\n",
              "    <tr>\n",
              "      <td>10000</td>\n",
              "      <td>0.043900</td>\n",
              "      <td>0.539872</td>\n",
              "      <td>0.355937</td>\n",
              "    </tr>\n",
              "    <tr>\n",
              "      <td>10500</td>\n",
              "      <td>0.039700</td>\n",
              "      <td>0.515413</td>\n",
              "      <td>0.353938</td>\n",
              "    </tr>\n",
              "    <tr>\n",
              "      <td>11000</td>\n",
              "      <td>0.034600</td>\n",
              "      <td>0.517013</td>\n",
              "      <td>0.351251</td>\n",
              "    </tr>\n",
              "    <tr>\n",
              "      <td>11500</td>\n",
              "      <td>0.033800</td>\n",
              "      <td>0.523557</td>\n",
              "      <td>0.349183</td>\n",
              "    </tr>\n",
              "    <tr>\n",
              "      <td>12000</td>\n",
              "      <td>0.034200</td>\n",
              "      <td>0.528785</td>\n",
              "      <td>0.349252</td>\n",
              "    </tr>\n",
              "    <tr>\n",
              "      <td>12500</td>\n",
              "      <td>0.028200</td>\n",
              "      <td>0.514678</td>\n",
              "      <td>0.344911</td>\n",
              "    </tr>\n",
              "    <tr>\n",
              "      <td>13000</td>\n",
              "      <td>0.025100</td>\n",
              "      <td>0.509152</td>\n",
              "      <td>0.344222</td>\n",
              "    </tr>\n",
              "    <tr>\n",
              "      <td>13500</td>\n",
              "      <td>0.026800</td>\n",
              "      <td>0.509325</td>\n",
              "      <td>0.341327</td>\n",
              "    </tr>\n",
              "    <tr>\n",
              "      <td>14000</td>\n",
              "      <td>0.021000</td>\n",
              "      <td>0.530961</td>\n",
              "      <td>0.339880</td>\n",
              "    </tr>\n",
              "    <tr>\n",
              "      <td>14500</td>\n",
              "      <td>0.022000</td>\n",
              "      <td>0.518533</td>\n",
              "      <td>0.336986</td>\n",
              "    </tr>\n",
              "  </tbody>\n",
              "</table><p>"
            ]
          },
          "metadata": {}
        },
        {
          "output_type": "stream",
          "name": "stderr",
          "text": [
            "The following columns in the evaluation set  don't have a corresponding argument in `Wav2Vec2ForCTC.forward` and have been ignored: input_length. If input_length are not expected by `Wav2Vec2ForCTC.forward`,  you can safely ignore this message.\n",
            "***** Running Evaluation *****\n",
            "  Num examples = 1680\n",
            "  Batch size = 8\n",
            "Saving model checkpoint to wav2vec2-base-timit-demo-google-colab/checkpoint-500\n",
            "Configuration saved in wav2vec2-base-timit-demo-google-colab/checkpoint-500/config.json\n",
            "Model weights saved in wav2vec2-base-timit-demo-google-colab/checkpoint-500/pytorch_model.bin\n",
            "Feature extractor saved in wav2vec2-base-timit-demo-google-colab/checkpoint-500/preprocessor_config.json\n",
            "The following columns in the evaluation set  don't have a corresponding argument in `Wav2Vec2ForCTC.forward` and have been ignored: input_length. If input_length are not expected by `Wav2Vec2ForCTC.forward`,  you can safely ignore this message.\n",
            "***** Running Evaluation *****\n",
            "  Num examples = 1680\n",
            "  Batch size = 8\n",
            "Saving model checkpoint to wav2vec2-base-timit-demo-google-colab/checkpoint-1000\n",
            "Configuration saved in wav2vec2-base-timit-demo-google-colab/checkpoint-1000/config.json\n",
            "Model weights saved in wav2vec2-base-timit-demo-google-colab/checkpoint-1000/pytorch_model.bin\n",
            "Feature extractor saved in wav2vec2-base-timit-demo-google-colab/checkpoint-1000/preprocessor_config.json\n",
            "The following columns in the evaluation set  don't have a corresponding argument in `Wav2Vec2ForCTC.forward` and have been ignored: input_length. If input_length are not expected by `Wav2Vec2ForCTC.forward`,  you can safely ignore this message.\n",
            "***** Running Evaluation *****\n",
            "  Num examples = 1680\n",
            "  Batch size = 8\n",
            "Saving model checkpoint to wav2vec2-base-timit-demo-google-colab/checkpoint-1500\n",
            "Configuration saved in wav2vec2-base-timit-demo-google-colab/checkpoint-1500/config.json\n",
            "Model weights saved in wav2vec2-base-timit-demo-google-colab/checkpoint-1500/pytorch_model.bin\n",
            "Feature extractor saved in wav2vec2-base-timit-demo-google-colab/checkpoint-1500/preprocessor_config.json\n",
            "Deleting older checkpoint [wav2vec2-base-timit-demo-google-colab/checkpoint-500] due to args.save_total_limit\n",
            "The following columns in the evaluation set  don't have a corresponding argument in `Wav2Vec2ForCTC.forward` and have been ignored: input_length. If input_length are not expected by `Wav2Vec2ForCTC.forward`,  you can safely ignore this message.\n",
            "***** Running Evaluation *****\n",
            "  Num examples = 1680\n",
            "  Batch size = 8\n",
            "Saving model checkpoint to wav2vec2-base-timit-demo-google-colab/checkpoint-2000\n",
            "Configuration saved in wav2vec2-base-timit-demo-google-colab/checkpoint-2000/config.json\n",
            "Model weights saved in wav2vec2-base-timit-demo-google-colab/checkpoint-2000/pytorch_model.bin\n",
            "Feature extractor saved in wav2vec2-base-timit-demo-google-colab/checkpoint-2000/preprocessor_config.json\n",
            "Deleting older checkpoint [wav2vec2-base-timit-demo-google-colab/checkpoint-1000] due to args.save_total_limit\n",
            "The following columns in the evaluation set  don't have a corresponding argument in `Wav2Vec2ForCTC.forward` and have been ignored: input_length. If input_length are not expected by `Wav2Vec2ForCTC.forward`,  you can safely ignore this message.\n",
            "***** Running Evaluation *****\n",
            "  Num examples = 1680\n",
            "  Batch size = 8\n",
            "Saving model checkpoint to wav2vec2-base-timit-demo-google-colab/checkpoint-2500\n",
            "Configuration saved in wav2vec2-base-timit-demo-google-colab/checkpoint-2500/config.json\n",
            "Model weights saved in wav2vec2-base-timit-demo-google-colab/checkpoint-2500/pytorch_model.bin\n",
            "Feature extractor saved in wav2vec2-base-timit-demo-google-colab/checkpoint-2500/preprocessor_config.json\n",
            "Deleting older checkpoint [wav2vec2-base-timit-demo-google-colab/checkpoint-1500] due to args.save_total_limit\n",
            "The following columns in the evaluation set  don't have a corresponding argument in `Wav2Vec2ForCTC.forward` and have been ignored: input_length. If input_length are not expected by `Wav2Vec2ForCTC.forward`,  you can safely ignore this message.\n",
            "***** Running Evaluation *****\n",
            "  Num examples = 1680\n",
            "  Batch size = 8\n",
            "Saving model checkpoint to wav2vec2-base-timit-demo-google-colab/checkpoint-3000\n",
            "Configuration saved in wav2vec2-base-timit-demo-google-colab/checkpoint-3000/config.json\n",
            "Model weights saved in wav2vec2-base-timit-demo-google-colab/checkpoint-3000/pytorch_model.bin\n",
            "Feature extractor saved in wav2vec2-base-timit-demo-google-colab/checkpoint-3000/preprocessor_config.json\n",
            "Deleting older checkpoint [wav2vec2-base-timit-demo-google-colab/checkpoint-2000] due to args.save_total_limit\n",
            "The following columns in the evaluation set  don't have a corresponding argument in `Wav2Vec2ForCTC.forward` and have been ignored: input_length. If input_length are not expected by `Wav2Vec2ForCTC.forward`,  you can safely ignore this message.\n",
            "***** Running Evaluation *****\n",
            "  Num examples = 1680\n",
            "  Batch size = 8\n",
            "Saving model checkpoint to wav2vec2-base-timit-demo-google-colab/checkpoint-3500\n",
            "Configuration saved in wav2vec2-base-timit-demo-google-colab/checkpoint-3500/config.json\n",
            "Model weights saved in wav2vec2-base-timit-demo-google-colab/checkpoint-3500/pytorch_model.bin\n",
            "Feature extractor saved in wav2vec2-base-timit-demo-google-colab/checkpoint-3500/preprocessor_config.json\n",
            "Deleting older checkpoint [wav2vec2-base-timit-demo-google-colab/checkpoint-2500] due to args.save_total_limit\n",
            "The following columns in the evaluation set  don't have a corresponding argument in `Wav2Vec2ForCTC.forward` and have been ignored: input_length. If input_length are not expected by `Wav2Vec2ForCTC.forward`,  you can safely ignore this message.\n",
            "***** Running Evaluation *****\n",
            "  Num examples = 1680\n",
            "  Batch size = 8\n",
            "Saving model checkpoint to wav2vec2-base-timit-demo-google-colab/checkpoint-4000\n",
            "Configuration saved in wav2vec2-base-timit-demo-google-colab/checkpoint-4000/config.json\n",
            "Model weights saved in wav2vec2-base-timit-demo-google-colab/checkpoint-4000/pytorch_model.bin\n",
            "Feature extractor saved in wav2vec2-base-timit-demo-google-colab/checkpoint-4000/preprocessor_config.json\n",
            "Deleting older checkpoint [wav2vec2-base-timit-demo-google-colab/checkpoint-3000] due to args.save_total_limit\n",
            "The following columns in the evaluation set  don't have a corresponding argument in `Wav2Vec2ForCTC.forward` and have been ignored: input_length. If input_length are not expected by `Wav2Vec2ForCTC.forward`,  you can safely ignore this message.\n",
            "***** Running Evaluation *****\n",
            "  Num examples = 1680\n",
            "  Batch size = 8\n",
            "Saving model checkpoint to wav2vec2-base-timit-demo-google-colab/checkpoint-4500\n",
            "Configuration saved in wav2vec2-base-timit-demo-google-colab/checkpoint-4500/config.json\n",
            "Model weights saved in wav2vec2-base-timit-demo-google-colab/checkpoint-4500/pytorch_model.bin\n",
            "Feature extractor saved in wav2vec2-base-timit-demo-google-colab/checkpoint-4500/preprocessor_config.json\n",
            "Deleting older checkpoint [wav2vec2-base-timit-demo-google-colab/checkpoint-3500] due to args.save_total_limit\n",
            "The following columns in the evaluation set  don't have a corresponding argument in `Wav2Vec2ForCTC.forward` and have been ignored: input_length. If input_length are not expected by `Wav2Vec2ForCTC.forward`,  you can safely ignore this message.\n",
            "***** Running Evaluation *****\n",
            "  Num examples = 1680\n",
            "  Batch size = 8\n",
            "Saving model checkpoint to wav2vec2-base-timit-demo-google-colab/checkpoint-5000\n",
            "Configuration saved in wav2vec2-base-timit-demo-google-colab/checkpoint-5000/config.json\n",
            "Model weights saved in wav2vec2-base-timit-demo-google-colab/checkpoint-5000/pytorch_model.bin\n",
            "Feature extractor saved in wav2vec2-base-timit-demo-google-colab/checkpoint-5000/preprocessor_config.json\n",
            "Deleting older checkpoint [wav2vec2-base-timit-demo-google-colab/checkpoint-4000] due to args.save_total_limit\n",
            "The following columns in the evaluation set  don't have a corresponding argument in `Wav2Vec2ForCTC.forward` and have been ignored: input_length. If input_length are not expected by `Wav2Vec2ForCTC.forward`,  you can safely ignore this message.\n",
            "***** Running Evaluation *****\n",
            "  Num examples = 1680\n",
            "  Batch size = 8\n",
            "Saving model checkpoint to wav2vec2-base-timit-demo-google-colab/checkpoint-5500\n",
            "Configuration saved in wav2vec2-base-timit-demo-google-colab/checkpoint-5500/config.json\n",
            "Model weights saved in wav2vec2-base-timit-demo-google-colab/checkpoint-5500/pytorch_model.bin\n",
            "Feature extractor saved in wav2vec2-base-timit-demo-google-colab/checkpoint-5500/preprocessor_config.json\n",
            "Deleting older checkpoint [wav2vec2-base-timit-demo-google-colab/checkpoint-4500] due to args.save_total_limit\n",
            "The following columns in the evaluation set  don't have a corresponding argument in `Wav2Vec2ForCTC.forward` and have been ignored: input_length. If input_length are not expected by `Wav2Vec2ForCTC.forward`,  you can safely ignore this message.\n",
            "***** Running Evaluation *****\n",
            "  Num examples = 1680\n",
            "  Batch size = 8\n",
            "Saving model checkpoint to wav2vec2-base-timit-demo-google-colab/checkpoint-6000\n",
            "Configuration saved in wav2vec2-base-timit-demo-google-colab/checkpoint-6000/config.json\n",
            "Model weights saved in wav2vec2-base-timit-demo-google-colab/checkpoint-6000/pytorch_model.bin\n",
            "Feature extractor saved in wav2vec2-base-timit-demo-google-colab/checkpoint-6000/preprocessor_config.json\n",
            "Deleting older checkpoint [wav2vec2-base-timit-demo-google-colab/checkpoint-5000] due to args.save_total_limit\n",
            "The following columns in the evaluation set  don't have a corresponding argument in `Wav2Vec2ForCTC.forward` and have been ignored: input_length. If input_length are not expected by `Wav2Vec2ForCTC.forward`,  you can safely ignore this message.\n",
            "***** Running Evaluation *****\n",
            "  Num examples = 1680\n",
            "  Batch size = 8\n",
            "Saving model checkpoint to wav2vec2-base-timit-demo-google-colab/checkpoint-6500\n",
            "Configuration saved in wav2vec2-base-timit-demo-google-colab/checkpoint-6500/config.json\n",
            "Model weights saved in wav2vec2-base-timit-demo-google-colab/checkpoint-6500/pytorch_model.bin\n",
            "Feature extractor saved in wav2vec2-base-timit-demo-google-colab/checkpoint-6500/preprocessor_config.json\n",
            "Deleting older checkpoint [wav2vec2-base-timit-demo-google-colab/checkpoint-5500] due to args.save_total_limit\n",
            "The following columns in the evaluation set  don't have a corresponding argument in `Wav2Vec2ForCTC.forward` and have been ignored: input_length. If input_length are not expected by `Wav2Vec2ForCTC.forward`,  you can safely ignore this message.\n",
            "***** Running Evaluation *****\n",
            "  Num examples = 1680\n",
            "  Batch size = 8\n",
            "Saving model checkpoint to wav2vec2-base-timit-demo-google-colab/checkpoint-7000\n",
            "Configuration saved in wav2vec2-base-timit-demo-google-colab/checkpoint-7000/config.json\n",
            "Model weights saved in wav2vec2-base-timit-demo-google-colab/checkpoint-7000/pytorch_model.bin\n",
            "Feature extractor saved in wav2vec2-base-timit-demo-google-colab/checkpoint-7000/preprocessor_config.json\n",
            "Deleting older checkpoint [wav2vec2-base-timit-demo-google-colab/checkpoint-6000] due to args.save_total_limit\n",
            "The following columns in the evaluation set  don't have a corresponding argument in `Wav2Vec2ForCTC.forward` and have been ignored: input_length. If input_length are not expected by `Wav2Vec2ForCTC.forward`,  you can safely ignore this message.\n",
            "***** Running Evaluation *****\n",
            "  Num examples = 1680\n",
            "  Batch size = 8\n",
            "Saving model checkpoint to wav2vec2-base-timit-demo-google-colab/checkpoint-7500\n",
            "Configuration saved in wav2vec2-base-timit-demo-google-colab/checkpoint-7500/config.json\n",
            "Model weights saved in wav2vec2-base-timit-demo-google-colab/checkpoint-7500/pytorch_model.bin\n",
            "Feature extractor saved in wav2vec2-base-timit-demo-google-colab/checkpoint-7500/preprocessor_config.json\n",
            "Deleting older checkpoint [wav2vec2-base-timit-demo-google-colab/checkpoint-6500] due to args.save_total_limit\n",
            "The following columns in the evaluation set  don't have a corresponding argument in `Wav2Vec2ForCTC.forward` and have been ignored: input_length. If input_length are not expected by `Wav2Vec2ForCTC.forward`,  you can safely ignore this message.\n",
            "***** Running Evaluation *****\n",
            "  Num examples = 1680\n",
            "  Batch size = 8\n",
            "Saving model checkpoint to wav2vec2-base-timit-demo-google-colab/checkpoint-8000\n",
            "Configuration saved in wav2vec2-base-timit-demo-google-colab/checkpoint-8000/config.json\n",
            "Model weights saved in wav2vec2-base-timit-demo-google-colab/checkpoint-8000/pytorch_model.bin\n",
            "Feature extractor saved in wav2vec2-base-timit-demo-google-colab/checkpoint-8000/preprocessor_config.json\n",
            "Deleting older checkpoint [wav2vec2-base-timit-demo-google-colab/checkpoint-7000] due to args.save_total_limit\n",
            "The following columns in the evaluation set  don't have a corresponding argument in `Wav2Vec2ForCTC.forward` and have been ignored: input_length. If input_length are not expected by `Wav2Vec2ForCTC.forward`,  you can safely ignore this message.\n",
            "***** Running Evaluation *****\n",
            "  Num examples = 1680\n",
            "  Batch size = 8\n",
            "Saving model checkpoint to wav2vec2-base-timit-demo-google-colab/checkpoint-8500\n",
            "Configuration saved in wav2vec2-base-timit-demo-google-colab/checkpoint-8500/config.json\n",
            "Model weights saved in wav2vec2-base-timit-demo-google-colab/checkpoint-8500/pytorch_model.bin\n",
            "Feature extractor saved in wav2vec2-base-timit-demo-google-colab/checkpoint-8500/preprocessor_config.json\n",
            "Deleting older checkpoint [wav2vec2-base-timit-demo-google-colab/checkpoint-7500] due to args.save_total_limit\n",
            "The following columns in the evaluation set  don't have a corresponding argument in `Wav2Vec2ForCTC.forward` and have been ignored: input_length. If input_length are not expected by `Wav2Vec2ForCTC.forward`,  you can safely ignore this message.\n",
            "***** Running Evaluation *****\n",
            "  Num examples = 1680\n",
            "  Batch size = 8\n",
            "Saving model checkpoint to wav2vec2-base-timit-demo-google-colab/checkpoint-9000\n",
            "Configuration saved in wav2vec2-base-timit-demo-google-colab/checkpoint-9000/config.json\n",
            "Model weights saved in wav2vec2-base-timit-demo-google-colab/checkpoint-9000/pytorch_model.bin\n",
            "Feature extractor saved in wav2vec2-base-timit-demo-google-colab/checkpoint-9000/preprocessor_config.json\n",
            "Deleting older checkpoint [wav2vec2-base-timit-demo-google-colab/checkpoint-8000] due to args.save_total_limit\n",
            "The following columns in the evaluation set  don't have a corresponding argument in `Wav2Vec2ForCTC.forward` and have been ignored: input_length. If input_length are not expected by `Wav2Vec2ForCTC.forward`,  you can safely ignore this message.\n",
            "***** Running Evaluation *****\n",
            "  Num examples = 1680\n",
            "  Batch size = 8\n",
            "Saving model checkpoint to wav2vec2-base-timit-demo-google-colab/checkpoint-9500\n",
            "Configuration saved in wav2vec2-base-timit-demo-google-colab/checkpoint-9500/config.json\n",
            "Model weights saved in wav2vec2-base-timit-demo-google-colab/checkpoint-9500/pytorch_model.bin\n",
            "Feature extractor saved in wav2vec2-base-timit-demo-google-colab/checkpoint-9500/preprocessor_config.json\n",
            "Deleting older checkpoint [wav2vec2-base-timit-demo-google-colab/checkpoint-8500] due to args.save_total_limit\n",
            "The following columns in the evaluation set  don't have a corresponding argument in `Wav2Vec2ForCTC.forward` and have been ignored: input_length. If input_length are not expected by `Wav2Vec2ForCTC.forward`,  you can safely ignore this message.\n",
            "***** Running Evaluation *****\n",
            "  Num examples = 1680\n",
            "  Batch size = 8\n",
            "Saving model checkpoint to wav2vec2-base-timit-demo-google-colab/checkpoint-10000\n",
            "Configuration saved in wav2vec2-base-timit-demo-google-colab/checkpoint-10000/config.json\n",
            "Model weights saved in wav2vec2-base-timit-demo-google-colab/checkpoint-10000/pytorch_model.bin\n",
            "Feature extractor saved in wav2vec2-base-timit-demo-google-colab/checkpoint-10000/preprocessor_config.json\n",
            "Deleting older checkpoint [wav2vec2-base-timit-demo-google-colab/checkpoint-9000] due to args.save_total_limit\n",
            "The following columns in the evaluation set  don't have a corresponding argument in `Wav2Vec2ForCTC.forward` and have been ignored: input_length. If input_length are not expected by `Wav2Vec2ForCTC.forward`,  you can safely ignore this message.\n",
            "***** Running Evaluation *****\n",
            "  Num examples = 1680\n",
            "  Batch size = 8\n",
            "Saving model checkpoint to wav2vec2-base-timit-demo-google-colab/checkpoint-10500\n",
            "Configuration saved in wav2vec2-base-timit-demo-google-colab/checkpoint-10500/config.json\n",
            "Model weights saved in wav2vec2-base-timit-demo-google-colab/checkpoint-10500/pytorch_model.bin\n",
            "Feature extractor saved in wav2vec2-base-timit-demo-google-colab/checkpoint-10500/preprocessor_config.json\n",
            "Deleting older checkpoint [wav2vec2-base-timit-demo-google-colab/checkpoint-9500] due to args.save_total_limit\n",
            "The following columns in the evaluation set  don't have a corresponding argument in `Wav2Vec2ForCTC.forward` and have been ignored: input_length. If input_length are not expected by `Wav2Vec2ForCTC.forward`,  you can safely ignore this message.\n",
            "***** Running Evaluation *****\n",
            "  Num examples = 1680\n",
            "  Batch size = 8\n",
            "Saving model checkpoint to wav2vec2-base-timit-demo-google-colab/checkpoint-11000\n",
            "Configuration saved in wav2vec2-base-timit-demo-google-colab/checkpoint-11000/config.json\n",
            "Model weights saved in wav2vec2-base-timit-demo-google-colab/checkpoint-11000/pytorch_model.bin\n",
            "Feature extractor saved in wav2vec2-base-timit-demo-google-colab/checkpoint-11000/preprocessor_config.json\n",
            "Deleting older checkpoint [wav2vec2-base-timit-demo-google-colab/checkpoint-10000] due to args.save_total_limit\n",
            "The following columns in the evaluation set  don't have a corresponding argument in `Wav2Vec2ForCTC.forward` and have been ignored: input_length. If input_length are not expected by `Wav2Vec2ForCTC.forward`,  you can safely ignore this message.\n",
            "***** Running Evaluation *****\n",
            "  Num examples = 1680\n",
            "  Batch size = 8\n",
            "Saving model checkpoint to wav2vec2-base-timit-demo-google-colab/checkpoint-11500\n",
            "Configuration saved in wav2vec2-base-timit-demo-google-colab/checkpoint-11500/config.json\n",
            "Model weights saved in wav2vec2-base-timit-demo-google-colab/checkpoint-11500/pytorch_model.bin\n",
            "Feature extractor saved in wav2vec2-base-timit-demo-google-colab/checkpoint-11500/preprocessor_config.json\n",
            "Deleting older checkpoint [wav2vec2-base-timit-demo-google-colab/checkpoint-10500] due to args.save_total_limit\n",
            "The following columns in the evaluation set  don't have a corresponding argument in `Wav2Vec2ForCTC.forward` and have been ignored: input_length. If input_length are not expected by `Wav2Vec2ForCTC.forward`,  you can safely ignore this message.\n",
            "***** Running Evaluation *****\n",
            "  Num examples = 1680\n",
            "  Batch size = 8\n",
            "Saving model checkpoint to wav2vec2-base-timit-demo-google-colab/checkpoint-12000\n",
            "Configuration saved in wav2vec2-base-timit-demo-google-colab/checkpoint-12000/config.json\n",
            "Model weights saved in wav2vec2-base-timit-demo-google-colab/checkpoint-12000/pytorch_model.bin\n",
            "Feature extractor saved in wav2vec2-base-timit-demo-google-colab/checkpoint-12000/preprocessor_config.json\n",
            "Deleting older checkpoint [wav2vec2-base-timit-demo-google-colab/checkpoint-11000] due to args.save_total_limit\n",
            "The following columns in the evaluation set  don't have a corresponding argument in `Wav2Vec2ForCTC.forward` and have been ignored: input_length. If input_length are not expected by `Wav2Vec2ForCTC.forward`,  you can safely ignore this message.\n",
            "***** Running Evaluation *****\n",
            "  Num examples = 1680\n",
            "  Batch size = 8\n",
            "Saving model checkpoint to wav2vec2-base-timit-demo-google-colab/checkpoint-12500\n",
            "Configuration saved in wav2vec2-base-timit-demo-google-colab/checkpoint-12500/config.json\n",
            "Model weights saved in wav2vec2-base-timit-demo-google-colab/checkpoint-12500/pytorch_model.bin\n",
            "Feature extractor saved in wav2vec2-base-timit-demo-google-colab/checkpoint-12500/preprocessor_config.json\n",
            "Deleting older checkpoint [wav2vec2-base-timit-demo-google-colab/checkpoint-11500] due to args.save_total_limit\n",
            "The following columns in the evaluation set  don't have a corresponding argument in `Wav2Vec2ForCTC.forward` and have been ignored: input_length. If input_length are not expected by `Wav2Vec2ForCTC.forward`,  you can safely ignore this message.\n",
            "***** Running Evaluation *****\n",
            "  Num examples = 1680\n",
            "  Batch size = 8\n",
            "Saving model checkpoint to wav2vec2-base-timit-demo-google-colab/checkpoint-13000\n",
            "Configuration saved in wav2vec2-base-timit-demo-google-colab/checkpoint-13000/config.json\n",
            "Model weights saved in wav2vec2-base-timit-demo-google-colab/checkpoint-13000/pytorch_model.bin\n",
            "Feature extractor saved in wav2vec2-base-timit-demo-google-colab/checkpoint-13000/preprocessor_config.json\n",
            "Deleting older checkpoint [wav2vec2-base-timit-demo-google-colab/checkpoint-12000] due to args.save_total_limit\n",
            "The following columns in the evaluation set  don't have a corresponding argument in `Wav2Vec2ForCTC.forward` and have been ignored: input_length. If input_length are not expected by `Wav2Vec2ForCTC.forward`,  you can safely ignore this message.\n",
            "***** Running Evaluation *****\n",
            "  Num examples = 1680\n",
            "  Batch size = 8\n",
            "Saving model checkpoint to wav2vec2-base-timit-demo-google-colab/checkpoint-13500\n",
            "Configuration saved in wav2vec2-base-timit-demo-google-colab/checkpoint-13500/config.json\n",
            "Model weights saved in wav2vec2-base-timit-demo-google-colab/checkpoint-13500/pytorch_model.bin\n",
            "Feature extractor saved in wav2vec2-base-timit-demo-google-colab/checkpoint-13500/preprocessor_config.json\n",
            "Deleting older checkpoint [wav2vec2-base-timit-demo-google-colab/checkpoint-12500] due to args.save_total_limit\n",
            "The following columns in the evaluation set  don't have a corresponding argument in `Wav2Vec2ForCTC.forward` and have been ignored: input_length. If input_length are not expected by `Wav2Vec2ForCTC.forward`,  you can safely ignore this message.\n",
            "***** Running Evaluation *****\n",
            "  Num examples = 1680\n",
            "  Batch size = 8\n",
            "Saving model checkpoint to wav2vec2-base-timit-demo-google-colab/checkpoint-14000\n",
            "Configuration saved in wav2vec2-base-timit-demo-google-colab/checkpoint-14000/config.json\n",
            "Model weights saved in wav2vec2-base-timit-demo-google-colab/checkpoint-14000/pytorch_model.bin\n",
            "Feature extractor saved in wav2vec2-base-timit-demo-google-colab/checkpoint-14000/preprocessor_config.json\n",
            "Deleting older checkpoint [wav2vec2-base-timit-demo-google-colab/checkpoint-13000] due to args.save_total_limit\n",
            "The following columns in the evaluation set  don't have a corresponding argument in `Wav2Vec2ForCTC.forward` and have been ignored: input_length. If input_length are not expected by `Wav2Vec2ForCTC.forward`,  you can safely ignore this message.\n",
            "***** Running Evaluation *****\n",
            "  Num examples = 1680\n",
            "  Batch size = 8\n",
            "Saving model checkpoint to wav2vec2-base-timit-demo-google-colab/checkpoint-14500\n",
            "Configuration saved in wav2vec2-base-timit-demo-google-colab/checkpoint-14500/config.json\n",
            "Model weights saved in wav2vec2-base-timit-demo-google-colab/checkpoint-14500/pytorch_model.bin\n",
            "Feature extractor saved in wav2vec2-base-timit-demo-google-colab/checkpoint-14500/preprocessor_config.json\n",
            "Deleting older checkpoint [wav2vec2-base-timit-demo-google-colab/checkpoint-13500] due to args.save_total_limit\n",
            "\n",
            "\n",
            "Training completed. Do not forget to share your model on huggingface.co/models =)\n",
            "\n",
            "\n"
          ]
        },
        {
          "output_type": "execute_result",
          "data": {
            "text/plain": [
              "TrainOutput(global_step=14940, training_loss=0.23359869193520091, metrics={'train_runtime': 5052.3634, 'train_samples_per_second': 23.621, 'train_steps_per_second': 2.957, 'total_flos': 3.0766610595969556e+18, 'train_loss': 0.23359869193520091, 'epoch': 30.0})"
            ]
          },
          "metadata": {},
          "execution_count": 85
        }
      ]
    },
    {
      "cell_type": "markdown",
      "metadata": {
        "id": "UCyp-v3n4Zlt"
      },
      "source": [
        "The final WER should be around 0.3 which is reasonable given that state-of-the-art phoneme error rates (PER) are just below 0.1 (see [leaderboard](https://paperswithcode.com/sota/speech-recognition-on-timit)) and that WER is usually worse than PER.\n",
        "\n",
        "You can now upload the result of the training to the Hub, just execute this instruction:"
      ]
    },
    {
      "cell_type": "code",
      "metadata": {
        "colab": {
          "base_uri": "https://localhost:8080/",
          "height": 497,
          "referenced_widgets": [
            "a7725ad7a1774178bba1b39b48bee36b",
            "acc6c975316f4fc9af3f449ccaf71646",
            "2b48e3c58b284b32ae51a3c3afb13d85",
            "7748d6bd4e224b3f836a06b321e72de0",
            "b29aab47d701449181b8d8c715b09657",
            "5cb2c62e3d6f426f8c17eec2fe6e23ae",
            "f44a8453ba314ddbb153e1278eb59eec",
            "6ba56300bd3240629256a72060f36fde",
            "d8f4c2ce266a4a9284572af28ad9ad1c",
            "4cdbe067372b4c32bc782f966aea7f42",
            "afe17562ac7948edab0233eb3804d9cb",
            "00a02ff8b284413f853da9d7c41afedd",
            "73b586087e9447e688c97318bf6eba11",
            "6ba8f8fde3fc4050a304df11cc1d2c7c",
            "0ceb294ca03a4bf2ae5586ffbbb6f0fc",
            "ffa2bd3495f54f1c81f15ebf50fd4fee",
            "e53ec4e8ee3d44bb8b3bdcf323335c8a",
            "ceef78fab0024c578976ad6c589c0d7f",
            "35a9027e670146f3a25db0d06035fd1b",
            "0cd65792216b4decaf24961bb33802d0",
            "968f456d45ab4f25aeaf57b0c0ddc190",
            "92ae2ab85efc40fa89da650ccbe85e21",
            "e1a34af59be04546808279b6e673c498",
            "91a9bd637428473192d5ec47ba137268",
            "f11e33bc060746758ad638204b71955c",
            "ef69985b8f7c4662912a11a377e99b59",
            "9721f00cdfc942e8ab8a4faf8080ef2d",
            "196c66080f944a61a537a0ddd9905248",
            "e7d54319900548208c3852623ebc3dcf",
            "adbd04cd03624b66a8c725f9a89647b6",
            "200b5fada23d45ff947953003d052605",
            "8c89f99cd7b9408eafbfbf8e0c56d39c",
            "a40561b6f013481ba77fa137ab43b1c2",
            "63ee5e2413434249bd47a8d662ec0da6",
            "d10215d60b9f471ab681a948ad143159",
            "bcb33e49c5ab412eb5b8cd823cf06706",
            "f23b78d30ff040f481b5584a83083b39",
            "fe39df4b5e9d41f6a0233bafb4522dd4",
            "6cac8e9fcefd4353a76244f89ff459e1",
            "4f70c2c356074adf9aa7c1fb6b20f8e3",
            "4cc884973b734098a135619736b5f599",
            "fd72ea27c82843ceb5fdb74886fc5b44",
            "28b1ff0d507e40fb84e4083537207de4",
            "bf2896c4b25147f0a303c748fa2b0cd9"
          ]
        },
        "id": "JYGQYBhHNsvj",
        "outputId": "c60381d7-a4ec-4cfe-ec0b-0b16af963c3d"
      },
      "source": [
        "trainer.push_to_hub()"
      ],
      "execution_count": null,
      "outputs": [
        {
          "output_type": "stream",
          "name": "stderr",
          "text": [
            "/content/wav2vec2-base-timit-demo-google-colab is already a clone of https://huggingface.co/patrickvonplaten/wav2vec2-base-timit-demo-google-colab. Make sure you pull the latest changes with `repo.git_pull()`.\n",
            "Saving model checkpoint to wav2vec2-base-timit-demo-google-colab\n",
            "Configuration saved in wav2vec2-base-timit-demo-google-colab/config.json\n",
            "Model weights saved in wav2vec2-base-timit-demo-google-colab/pytorch_model.bin\n",
            "Feature extractor saved in wav2vec2-base-timit-demo-google-colab/preprocessor_config.json\n"
          ]
        },
        {
          "output_type": "display_data",
          "data": {
            "text/plain": [
              "Upload file pytorch_model.bin:   0%|          | 3.34k/360M [00:00<?, ?B/s]"
            ],
            "application/vnd.jupyter.widget-view+json": {
              "version_major": 2,
              "version_minor": 0,
              "model_id": "a7725ad7a1774178bba1b39b48bee36b"
            }
          },
          "metadata": {}
        },
        {
          "output_type": "display_data",
          "data": {
            "text/plain": [
              "Upload file runs/May10_11-02-51_d58de38fbf77/1652180636.6085317/events.out.tfevents.1652180636.d58de38fbf77.96…"
            ],
            "application/vnd.jupyter.widget-view+json": {
              "version_major": 2,
              "version_minor": 0,
              "model_id": "00a02ff8b284413f853da9d7c41afedd"
            }
          },
          "metadata": {}
        },
        {
          "output_type": "display_data",
          "data": {
            "text/plain": [
              "Upload file training_args.bin: 100%|##########| 2.98k/2.98k [00:00<?, ?B/s]"
            ],
            "application/vnd.jupyter.widget-view+json": {
              "version_major": 2,
              "version_minor": 0,
              "model_id": "e1a34af59be04546808279b6e673c498"
            }
          },
          "metadata": {}
        },
        {
          "output_type": "display_data",
          "data": {
            "text/plain": [
              "Upload file runs/May10_11-02-51_d58de38fbf77/events.out.tfevents.1652180636.d58de38fbf77.96.2:  18%|#7        …"
            ],
            "application/vnd.jupyter.widget-view+json": {
              "version_major": 2,
              "version_minor": 0,
              "model_id": "63ee5e2413434249bd47a8d662ec0da6"
            }
          },
          "metadata": {}
        },
        {
          "output_type": "stream",
          "name": "stderr",
          "text": [
            "remote: Enforcing permissions...        \n",
            "remote: Allowed refs: all        \n",
            "To https://huggingface.co/patrickvonplaten/wav2vec2-base-timit-demo-google-colab\n",
            "   293755a..629f0ba  main -> main\n",
            "\n",
            "Dropping the following result as it does not have all the necessary fields:\n",
            "{}\n",
            "remote: Enforcing permissions...        \n",
            "remote: Allowed refs: all        \n",
            "To https://huggingface.co/patrickvonplaten/wav2vec2-base-timit-demo-google-colab\n",
            "   629f0ba..38b281e  main -> main\n",
            "\n"
          ]
        },
        {
          "output_type": "execute_result",
          "data": {
            "text/plain": [
              "'https://huggingface.co/patrickvonplaten/wav2vec2-base-timit-demo-google-colab/commit/629f0ba808bdecd2134e2d91110e86e4d7d7647c'"
            ],
            "application/vnd.google.colaboratory.intrinsic+json": {
              "type": "string"
            }
          },
          "metadata": {},
          "execution_count": 86
        }
      ]
    },
    {
      "cell_type": "markdown",
      "metadata": {
        "id": "djzwS5WeNu16"
      },
      "source": [
        "You can now share this model with all your friends, family, favorite pets: they can all load it with the identifier \"your-username/the-name-you-picked\" so for instance:"
      ]
    },
    {
      "cell_type": "markdown",
      "metadata": {
        "id": "Adm0LngNNxq7"
      },
      "source": [
        "```python\n",
        "from transformers import AutoModelForCTC, Wav2Vec2Processor\n",
        "\n",
        "model = AutoModelForCTC.from_pretrained(\"patrickvonplaten/wav2vec2-base-timit-demo-google-colab\")\n",
        "processor = Wav2Vec2Processor.from_pretrained(\"patrickvonplaten/wav2vec2-base-timit-demo-google-colab\")\n",
        "```"
      ]
    },
    {
      "cell_type": "markdown",
      "metadata": {
        "id": "nD4XP5IHncsY"
      },
      "source": [
        "### Evaluate\n",
        "\n",
        "In the final part, we run our model on some of the validation data to get a feeling for how well it works.\n",
        "\n",
        "Let's load the `processor` and `model`."
      ]
    },
    {
      "cell_type": "code",
      "metadata": {
        "id": "-rg0USDCnbo6",
        "colab": {
          "base_uri": "https://localhost:8080/",
          "height": 718,
          "referenced_widgets": [
            "524b5795780746f5966c06b878cc0fbc",
            "8eb41fee8e1c452a9d69a07a266d871a",
            "f22febfc3bbe48058be84b2a20e906f5",
            "ab51fefefa1b464a9a780b80c6f0c020",
            "88fd1cb973f8485b97caa19b7801c3d3",
            "3234edc4a75e4658acd19feef174e88f",
            "6bfe6219ad934146a4d680e38ed19879",
            "63e9fc689ea54fbfa7226cc9918977cb",
            "dc034b4bf9e34963ab79f391c55d44ac",
            "6b3288ffeef34c2a925d2554c7c4f521",
            "116e45bbe2d640d18d6a47309692dc20",
            "66d5a397b26e4d66a97bc3b3159e96bd",
            "041870fd5bac43b394956252364a16c4",
            "26f6574d99724fb29159071dda6039b5",
            "55d0bfd5c746402f89e6b86a7ca37b3a",
            "b69bad861f014c20b4cb470c73b1fe37",
            "940e030ce7ae40d68136ddf1a1a67736",
            "c80bdd3bae794c08b81c950a33ff9ba0",
            "7b0c8bc5bb66433384aeb47bf99001ae",
            "6b03d462bd0f4fbeab0df76bbb881621",
            "be78bdab8638431e80c087a0fe9a7a8f",
            "d44a1f0b3216469fb1ac597951f9471a",
            "a0e897961bb049438847879cf082adf3",
            "820ac3ce474346728b80a609d47848ee",
            "045273b88fa04afba97bf7ba6027f164",
            "4847949da7b64782895b4fca8b432ec8",
            "427b99cf8b964a59bbbf0b4d04504906",
            "f652ea3e007c42669e445a7247bb0430",
            "527bf8b3612b4da89479424c5b66681e",
            "708ff309676040119bccd6f21d1684f6",
            "6a8694b9181f4828ba3ef4ff828fd1c3",
            "90dbfe5bab604315b329a6a8fcf131b1",
            "b1a51bfb07774b7bac783d1c4d5a680c",
            "6ca0c9b3d250425b9597de9baa6bd77b",
            "b7d46c7f5da646eba0ed9e38fed6b4ee",
            "7291673613bb43848bec1abee7447078",
            "5c49d625a7f742f1a64820bc6f749f3a",
            "a6a5bcb980df41d1b3e7b581701eae16",
            "6412d390b2ce416fae910d689c3f6e70",
            "255c276a050446ed9df81f8eeb7c1178",
            "ddd975596c234b0eacc40ef18ef40778",
            "a5fd824b8eb64bb7b8d83354961927e6",
            "17e3d063396848548af91c55c8f8e282",
            "a3b48bc669674ff2a0bcce75a50e81eb"
          ]
        },
        "outputId": "ddfac637-7c6d-4df1-a07a-4f1278fff182"
      },
      "source": [
        "processor = Wav2Vec2Processor.from_pretrained(\"patrickvonplaten/wav2vec2-base-timit-demo-google-colab\")"
      ],
      "execution_count": null,
      "outputs": [
        {
          "output_type": "stream",
          "name": "stderr",
          "text": [
            "https://huggingface.co/patrickvonplaten/wav2vec2-base-timit-demo-google-colab/resolve/main/preprocessor_config.json not found in cache or force_download set to True, downloading to /root/.cache/huggingface/transformers/tmpjyd34ogd\n"
          ]
        },
        {
          "output_type": "display_data",
          "data": {
            "text/plain": [
              "Downloading:   0%|          | 0.00/215 [00:00<?, ?B/s]"
            ],
            "application/vnd.jupyter.widget-view+json": {
              "version_major": 2,
              "version_minor": 0,
              "model_id": "524b5795780746f5966c06b878cc0fbc"
            }
          },
          "metadata": {}
        },
        {
          "output_type": "stream",
          "name": "stderr",
          "text": [
            "storing https://huggingface.co/patrickvonplaten/wav2vec2-base-timit-demo-google-colab/resolve/main/preprocessor_config.json in cache at /root/.cache/huggingface/transformers/17fa07f6e2f88edf24c71037bed1b7cf0cf9acfef7d3353afb589689627542c1.0e3e6656f99a6f7b9eddd943463eb7f34363640fce9e87b047ebd50d4b112b50\n",
            "creating metadata file for /root/.cache/huggingface/transformers/17fa07f6e2f88edf24c71037bed1b7cf0cf9acfef7d3353afb589689627542c1.0e3e6656f99a6f7b9eddd943463eb7f34363640fce9e87b047ebd50d4b112b50\n",
            "loading feature extractor configuration file https://huggingface.co/patrickvonplaten/wav2vec2-base-timit-demo-google-colab/resolve/main/preprocessor_config.json from cache at /root/.cache/huggingface/transformers/17fa07f6e2f88edf24c71037bed1b7cf0cf9acfef7d3353afb589689627542c1.0e3e6656f99a6f7b9eddd943463eb7f34363640fce9e87b047ebd50d4b112b50\n",
            "Feature extractor Wav2Vec2FeatureExtractor {\n",
            "  \"do_normalize\": true,\n",
            "  \"feature_extractor_type\": \"Wav2Vec2FeatureExtractor\",\n",
            "  \"feature_size\": 1,\n",
            "  \"padding_side\": \"right\",\n",
            "  \"padding_value\": 0.0,\n",
            "  \"return_attention_mask\": false,\n",
            "  \"sampling_rate\": 16000\n",
            "}\n",
            "\n",
            "https://huggingface.co/patrickvonplaten/wav2vec2-base-timit-demo-google-colab/resolve/main/tokenizer_config.json not found in cache or force_download set to True, downloading to /root/.cache/huggingface/transformers/tmpcsym765z\n"
          ]
        },
        {
          "output_type": "display_data",
          "data": {
            "text/plain": [
              "Downloading:   0%|          | 0.00/217 [00:00<?, ?B/s]"
            ],
            "application/vnd.jupyter.widget-view+json": {
              "version_major": 2,
              "version_minor": 0,
              "model_id": "66d5a397b26e4d66a97bc3b3159e96bd"
            }
          },
          "metadata": {}
        },
        {
          "output_type": "stream",
          "name": "stderr",
          "text": [
            "storing https://huggingface.co/patrickvonplaten/wav2vec2-base-timit-demo-google-colab/resolve/main/tokenizer_config.json in cache at /root/.cache/huggingface/transformers/7bf2e07c1c7ed7e3d055d87aa6bd33c75e6883d98029ae3744fed6bea9e35095.59710b1a6a5501d31e746b6e464f5c44de3e55a58f80634196025936683a68a9\n",
            "creating metadata file for /root/.cache/huggingface/transformers/7bf2e07c1c7ed7e3d055d87aa6bd33c75e6883d98029ae3744fed6bea9e35095.59710b1a6a5501d31e746b6e464f5c44de3e55a58f80634196025936683a68a9\n",
            "https://huggingface.co/patrickvonplaten/wav2vec2-base-timit-demo-google-colab/resolve/main/vocab.json not found in cache or force_download set to True, downloading to /root/.cache/huggingface/transformers/tmpptj3is25\n"
          ]
        },
        {
          "output_type": "display_data",
          "data": {
            "text/plain": [
              "Downloading:   0%|          | 0.00/268 [00:00<?, ?B/s]"
            ],
            "application/vnd.jupyter.widget-view+json": {
              "version_major": 2,
              "version_minor": 0,
              "model_id": "a0e897961bb049438847879cf082adf3"
            }
          },
          "metadata": {}
        },
        {
          "output_type": "stream",
          "name": "stderr",
          "text": [
            "storing https://huggingface.co/patrickvonplaten/wav2vec2-base-timit-demo-google-colab/resolve/main/vocab.json in cache at /root/.cache/huggingface/transformers/f739813380b0880ba302557f0f990f0f64e8efe81fcc91a4fce08206a91ee215.c44a036121683e19f1a033a1765d4344364cb4633a6cbf5cf51b153f2388abb1\n",
            "creating metadata file for /root/.cache/huggingface/transformers/f739813380b0880ba302557f0f990f0f64e8efe81fcc91a4fce08206a91ee215.c44a036121683e19f1a033a1765d4344364cb4633a6cbf5cf51b153f2388abb1\n",
            "https://huggingface.co/patrickvonplaten/wav2vec2-base-timit-demo-google-colab/resolve/main/special_tokens_map.json not found in cache or force_download set to True, downloading to /root/.cache/huggingface/transformers/tmpckp9vkh1\n"
          ]
        },
        {
          "output_type": "display_data",
          "data": {
            "text/plain": [
              "Downloading:   0%|          | 0.00/85.0 [00:00<?, ?B/s]"
            ],
            "application/vnd.jupyter.widget-view+json": {
              "version_major": 2,
              "version_minor": 0,
              "model_id": "6ca0c9b3d250425b9597de9baa6bd77b"
            }
          },
          "metadata": {}
        },
        {
          "output_type": "stream",
          "name": "stderr",
          "text": [
            "storing https://huggingface.co/patrickvonplaten/wav2vec2-base-timit-demo-google-colab/resolve/main/special_tokens_map.json in cache at /root/.cache/huggingface/transformers/c239f3738252f8d8e83d9813ea82866aeec476c467a008db86229f4edc6490b0.a21d51735cf8667bcd610f057e88548d5d6a381401f6b4501a8bc6c1a9dc8498\n",
            "creating metadata file for /root/.cache/huggingface/transformers/c239f3738252f8d8e83d9813ea82866aeec476c467a008db86229f4edc6490b0.a21d51735cf8667bcd610f057e88548d5d6a381401f6b4501a8bc6c1a9dc8498\n",
            "loading file https://huggingface.co/patrickvonplaten/wav2vec2-base-timit-demo-google-colab/resolve/main/vocab.json from cache at /root/.cache/huggingface/transformers/f739813380b0880ba302557f0f990f0f64e8efe81fcc91a4fce08206a91ee215.c44a036121683e19f1a033a1765d4344364cb4633a6cbf5cf51b153f2388abb1\n",
            "loading file https://huggingface.co/patrickvonplaten/wav2vec2-base-timit-demo-google-colab/resolve/main/tokenizer_config.json from cache at /root/.cache/huggingface/transformers/7bf2e07c1c7ed7e3d055d87aa6bd33c75e6883d98029ae3744fed6bea9e35095.59710b1a6a5501d31e746b6e464f5c44de3e55a58f80634196025936683a68a9\n",
            "loading file https://huggingface.co/patrickvonplaten/wav2vec2-base-timit-demo-google-colab/resolve/main/added_tokens.json from cache at None\n",
            "loading file https://huggingface.co/patrickvonplaten/wav2vec2-base-timit-demo-google-colab/resolve/main/special_tokens_map.json from cache at /root/.cache/huggingface/transformers/c239f3738252f8d8e83d9813ea82866aeec476c467a008db86229f4edc6490b0.a21d51735cf8667bcd610f057e88548d5d6a381401f6b4501a8bc6c1a9dc8498\n",
            "Adding <s> to the vocabulary\n",
            "Adding </s> to the vocabulary\n",
            "Special tokens have been added in the vocabulary, make sure the associated word embeddings are fine-tuned or trained.\n"
          ]
        }
      ]
    },
    {
      "cell_type": "code",
      "metadata": {
        "id": "sSpFW3pDn23P",
        "colab": {
          "base_uri": "https://localhost:8080/"
        },
        "outputId": "dd9ac831-3620-4b87-98b6-c85a57150a15"
      },
      "source": [
        "model = Wav2Vec2ForCTC.from_pretrained(\"patrickvonplaten/wav2vec2-base-timit-demo-google-colab\").cuda()"
      ],
      "execution_count": null,
      "outputs": [
        {
          "output_type": "stream",
          "name": "stderr",
          "text": [
            "loading configuration file https://huggingface.co/patrickvonplaten/wav2vec2-base-timit-demo-google-colab/resolve/main/config.json from cache at /root/.cache/huggingface/transformers/7606a293c66b1cba6bb9a342dcffe3831dc19a120cfeeb9e57cdf6ffb9630f3f.3202909be16e9c482257d0c4d35b4f4c2558cea585027c729eed803ba4bf0d8e\n",
            "Model config Wav2Vec2Config {\n",
            "  \"_name_or_path\": \"facebook/wav2vec2-base\",\n",
            "  \"activation_dropout\": 0.0,\n",
            "  \"adapter_kernel_size\": 3,\n",
            "  \"adapter_stride\": 2,\n",
            "  \"add_adapter\": false,\n",
            "  \"apply_spec_augment\": true,\n",
            "  \"architectures\": [\n",
            "    \"Wav2Vec2ForCTC\"\n",
            "  ],\n",
            "  \"attention_dropout\": 0.1,\n",
            "  \"bos_token_id\": 1,\n",
            "  \"classifier_proj_size\": 256,\n",
            "  \"codevector_dim\": 256,\n",
            "  \"contrastive_logits_temperature\": 0.1,\n",
            "  \"conv_bias\": false,\n",
            "  \"conv_dim\": [\n",
            "    512,\n",
            "    512,\n",
            "    512,\n",
            "    512,\n",
            "    512,\n",
            "    512,\n",
            "    512\n",
            "  ],\n",
            "  \"conv_kernel\": [\n",
            "    10,\n",
            "    3,\n",
            "    3,\n",
            "    3,\n",
            "    3,\n",
            "    2,\n",
            "    2\n",
            "  ],\n",
            "  \"conv_stride\": [\n",
            "    5,\n",
            "    2,\n",
            "    2,\n",
            "    2,\n",
            "    2,\n",
            "    2,\n",
            "    2\n",
            "  ],\n",
            "  \"ctc_loss_reduction\": \"mean\",\n",
            "  \"ctc_zero_infinity\": false,\n",
            "  \"diversity_loss_weight\": 0.1,\n",
            "  \"do_stable_layer_norm\": false,\n",
            "  \"eos_token_id\": 2,\n",
            "  \"feat_extract_activation\": \"gelu\",\n",
            "  \"feat_extract_norm\": \"group\",\n",
            "  \"feat_proj_dropout\": 0.1,\n",
            "  \"feat_quantizer_dropout\": 0.0,\n",
            "  \"final_dropout\": 0.0,\n",
            "  \"freeze_feat_extract_train\": true,\n",
            "  \"hidden_act\": \"gelu\",\n",
            "  \"hidden_dropout\": 0.1,\n",
            "  \"hidden_size\": 768,\n",
            "  \"initializer_range\": 0.02,\n",
            "  \"intermediate_size\": 3072,\n",
            "  \"layer_norm_eps\": 1e-05,\n",
            "  \"layerdrop\": 0.0,\n",
            "  \"mask_channel_length\": 10,\n",
            "  \"mask_channel_min_space\": 1,\n",
            "  \"mask_channel_other\": 0.0,\n",
            "  \"mask_channel_prob\": 0.0,\n",
            "  \"mask_channel_selection\": \"static\",\n",
            "  \"mask_feature_length\": 10,\n",
            "  \"mask_feature_min_masks\": 0,\n",
            "  \"mask_feature_prob\": 0.0,\n",
            "  \"mask_time_length\": 10,\n",
            "  \"mask_time_min_masks\": 2,\n",
            "  \"mask_time_min_space\": 1,\n",
            "  \"mask_time_other\": 0.0,\n",
            "  \"mask_time_prob\": 0.05,\n",
            "  \"mask_time_selection\": \"static\",\n",
            "  \"model_type\": \"wav2vec2\",\n",
            "  \"no_mask_channel_overlap\": false,\n",
            "  \"no_mask_time_overlap\": false,\n",
            "  \"num_adapter_layers\": 3,\n",
            "  \"num_attention_heads\": 12,\n",
            "  \"num_codevector_groups\": 2,\n",
            "  \"num_codevectors_per_group\": 320,\n",
            "  \"num_conv_pos_embedding_groups\": 16,\n",
            "  \"num_conv_pos_embeddings\": 128,\n",
            "  \"num_feat_extract_layers\": 7,\n",
            "  \"num_hidden_layers\": 12,\n",
            "  \"num_negatives\": 100,\n",
            "  \"output_hidden_size\": 768,\n",
            "  \"pad_token_id\": 29,\n",
            "  \"proj_codevector_dim\": 256,\n",
            "  \"tdnn_dilation\": [\n",
            "    1,\n",
            "    2,\n",
            "    3,\n",
            "    1,\n",
            "    1\n",
            "  ],\n",
            "  \"tdnn_dim\": [\n",
            "    512,\n",
            "    512,\n",
            "    512,\n",
            "    512,\n",
            "    1500\n",
            "  ],\n",
            "  \"tdnn_kernel\": [\n",
            "    5,\n",
            "    3,\n",
            "    3,\n",
            "    1,\n",
            "    1\n",
            "  ],\n",
            "  \"torch_dtype\": \"float32\",\n",
            "  \"transformers_version\": \"4.17.0\",\n",
            "  \"use_weighted_layer_sum\": false,\n",
            "  \"vocab_size\": 32,\n",
            "  \"xvector_output_dim\": 512\n",
            "}\n",
            "\n",
            "loading weights file https://huggingface.co/patrickvonplaten/wav2vec2-base-timit-demo-google-colab/resolve/main/pytorch_model.bin from cache at /root/.cache/huggingface/transformers/666767bce47a87d50dfd1ceac759d5dc9db6eac8d185ae8f9a7dd388687c28c5.20bdf845b9896c1d0a213f03187b544f2a12b23d751b88c7b49a95d00bd946e1\n",
            "All model checkpoint weights were used when initializing Wav2Vec2ForCTC.\n",
            "\n",
            "All the weights of Wav2Vec2ForCTC were initialized from the model checkpoint at patrickvonplaten/wav2vec2-base-timit-demo-google-colab.\n",
            "If your task is similar to the task the model of the checkpoint was trained on, you can already use Wav2Vec2ForCTC for predictions without further training.\n"
          ]
        }
      ]
    },
    {
      "cell_type": "markdown",
      "metadata": {
        "id": "TUuZpB0v5jn_"
      },
      "source": [
        "Now, we will make use of the `map(...)` function to predict the transcription of every test sample and to save the prediction in the dataset itself. We will call the resulting dictionary `\"results\"`.\n",
        "\n",
        "**Note**: we evaluate the test data set with `batch_size=1` on purpose due to this [issue](https://github.com/pytorch/fairseq/issues/3227). Since padded inputs don't yield the exact same output as non-padded inputs, a better WER can be achieved by not padding the input at all."
      ]
    },
    {
      "cell_type": "code",
      "metadata": {
        "id": "40naJl53n7jT"
      },
      "source": [
        "def map_to_result(batch):\n",
        "  with torch.no_grad():\n",
        "    input_values = torch.tensor(batch[\"input_values\"], device=\"cuda\").unsqueeze(0)\n",
        "    logits = model(input_values).logits\n",
        "\n",
        "  pred_ids = torch.argmax(logits, dim=-1)\n",
        "  batch[\"pred_str\"] = processor.batch_decode(pred_ids)[0]\n",
        "  batch[\"text\"] = processor.decode(batch[\"labels\"], group_tokens=False)\n",
        "\n",
        "  return batch"
      ],
      "execution_count": null,
      "outputs": []
    },
    {
      "cell_type": "code",
      "metadata": {
        "id": "uPqH7gZqrGPi",
        "colab": {
          "base_uri": "https://localhost:8080/",
          "height": 48,
          "referenced_widgets": [
            "8fbdb230253a4152be95bf6229049f09",
            "857f0c099d8549e98991a93c791db4c1",
            "16561789e2b9417a80ddcb6ef9d8676a",
            "050c9d6bfd1e4b6ebe67401183a8d397",
            "5874591082f944ff9b32202a1edbfd60",
            "8c968b160d3d4fbb998840734f9f07e4",
            "d2fd7c9e56b1419f9d23a10c260a7c7d",
            "4a03fb6d945f4102bc4f7192195d810d",
            "8ab2466b187047fbbe4d8b72455b1108",
            "89472d79793e4db9afa6845fb016c8ad",
            "f5e79b8c3a634eae8a555f18b9dc9bd6"
          ]
        },
        "outputId": "1eb633f5-c487-4cd1-8be6-aac4af385a2e"
      },
      "source": [
        "results = timit[\"test\"].map(map_to_result, remove_columns=timit[\"test\"].column_names)"
      ],
      "execution_count": null,
      "outputs": [
        {
          "output_type": "display_data",
          "data": {
            "text/plain": [
              "0ex [00:00, ?ex/s]"
            ],
            "application/vnd.jupyter.widget-view+json": {
              "version_major": 2,
              "version_minor": 0,
              "model_id": "8fbdb230253a4152be95bf6229049f09"
            }
          },
          "metadata": {}
        }
      ]
    },
    {
      "cell_type": "markdown",
      "metadata": {
        "id": "-mqpdB8R6rty"
      },
      "source": [
        "Let's compute the overall WER now."
      ]
    },
    {
      "cell_type": "code",
      "metadata": {
        "id": "PmqAb4Isx8OK",
        "colab": {
          "base_uri": "https://localhost:8080/"
        },
        "outputId": "d70180e0-77e4-458b-daff-61df307f500c"
      },
      "source": [
        "print(\"Test WER: {:.3f}\".format(wer_metric.compute(predictions=results[\"pred_str\"], references=results[\"text\"])))"
      ],
      "execution_count": null,
      "outputs": [
        {
          "output_type": "stream",
          "name": "stdout",
          "text": [
            "Test WER: 0.218\n"
          ]
        }
      ]
    },
    {
      "cell_type": "markdown",
      "metadata": {
        "id": "6Va94d8Y7Q98"
      },
      "source": [
        "21.8% WER - not bad! Our demo model would have probably made it on the official [leaderboard](https://paperswithcode.com/sota/speech-recognition-on-timit).\n",
        "\n",
        "Let's take a look at some predictions to see what errors are made by the model."
      ]
    },
    {
      "cell_type": "code",
      "metadata": {
        "id": "odNDiFVRy53w",
        "colab": {
          "base_uri": "https://localhost:8080/",
          "height": 363
        },
        "outputId": "cb787bc7-5346-449e-e314-202df442185a"
      },
      "source": [
        "show_random_elements(results)"
      ],
      "execution_count": null,
      "outputs": [
        {
          "output_type": "display_data",
          "data": {
            "text/plain": [
              "<IPython.core.display.HTML object>"
            ],
            "text/html": [
              "<table border=\"1\" class=\"dataframe\">\n",
              "  <thead>\n",
              "    <tr style=\"text-align: right;\">\n",
              "      <th></th>\n",
              "      <th>pred_str</th>\n",
              "      <th>text</th>\n",
              "    </tr>\n",
              "  </thead>\n",
              "  <tbody>\n",
              "    <tr>\n",
              "      <th>0</th>\n",
              "      <td>aim to balenge your employ you benefits package</td>\n",
              "      <td>aim to balance your employee benefit package</td>\n",
              "    </tr>\n",
              "    <tr>\n",
              "      <th>1</th>\n",
              "      <td>the fog prevented them from ariving on tom</td>\n",
              "      <td>the fog prevented them from arriving on time</td>\n",
              "    </tr>\n",
              "    <tr>\n",
              "      <th>2</th>\n",
              "      <td>young children should avoid exposure to contageous diseases</td>\n",
              "      <td>young children should avoid exposure to contagious diseases</td>\n",
              "    </tr>\n",
              "    <tr>\n",
              "      <th>3</th>\n",
              "      <td>art official intelligence is for real</td>\n",
              "      <td>artificial intelligence is for real</td>\n",
              "    </tr>\n",
              "    <tr>\n",
              "      <th>4</th>\n",
              "      <td>theire propes were two step latters a chair and a pame fen</td>\n",
              "      <td>their props were two stepladders a chair and a palm fan</td>\n",
              "    </tr>\n",
              "    <tr>\n",
              "      <th>5</th>\n",
              "      <td>if people were more generous there would be no need for wealfar</td>\n",
              "      <td>if people were more generous there would be no need for welfare</td>\n",
              "    </tr>\n",
              "    <tr>\n",
              "      <th>6</th>\n",
              "      <td>the fish began to leep frantically on the surface of the smalleaku</td>\n",
              "      <td>the fish began to leap frantically on the surface of the small lake</td>\n",
              "    </tr>\n",
              "    <tr>\n",
              "      <th>7</th>\n",
              "      <td>her rite hand aques whenever the baramatric presuer changes</td>\n",
              "      <td>her right hand aches whenever the barometric pressure changes</td>\n",
              "    </tr>\n",
              "    <tr>\n",
              "      <th>8</th>\n",
              "      <td>only lawyers loved milunears</td>\n",
              "      <td>only lawyers love millionaires</td>\n",
              "    </tr>\n",
              "    <tr>\n",
              "      <th>9</th>\n",
              "      <td>the nearest synnegu may not be within walk in distance</td>\n",
              "      <td>the nearest synagogue may not be within walking distance</td>\n",
              "    </tr>\n",
              "  </tbody>\n",
              "</table>"
            ]
          },
          "metadata": {}
        }
      ]
    },
    {
      "cell_type": "markdown",
      "metadata": {
        "id": "5HFCujhd9n4N"
      },
      "source": [
        "It becomes clear that the predicted transcriptions are acoustically very similar to the target transcriptions, but often contain spelling or grammatical errors. This shouldn't be very surprising though given that we purely rely on Wav2Vec2 without making use of a language model."
      ]
    },
    {
      "cell_type": "markdown",
      "metadata": {
        "id": "a3ydKvUl9FTK"
      },
      "source": [
        "Finally, to better understand how CTC works, it is worth taking a deeper look at the exact output of the model. Let's run the first test sample through the model, take the predicted ids and convert them to their corresponding tokens."
      ]
    },
    {
      "cell_type": "code",
      "metadata": {
        "id": "AqaM45t87uM4",
        "colab": {
          "base_uri": "https://localhost:8080/",
          "height": 73
        },
        "outputId": "2d181121-2184-48dc-a337-bb33194fd68b"
      },
      "source": [
        "model.to(\"cuda\")\n",
        "\n",
        "with torch.no_grad():\n",
        "  logits = model(torch.tensor(timit[\"test\"][:1][\"input_values\"], device=\"cuda\")).logits\n",
        "\n",
        "pred_ids = torch.argmax(logits, dim=-1)\n",
        "\n",
        "# convert ids to tokens\n",
        "\" \".join(processor.tokenizer.convert_ids_to_tokens(pred_ids[0].tolist()))"
      ],
      "execution_count": null,
      "outputs": [
        {
          "output_type": "execute_result",
          "data": {
            "text/plain": [
              "'[PAD] [PAD] [PAD] [PAD] [PAD] t t h h e | | | b [PAD] [PAD] [PAD] u u n n g g [PAD] [PAD] l l l l [PAD] o o o | | w w a a s s | | [PAD] [PAD] [PAD] p l l [PAD] e s s s s [PAD] n n t t [PAD] l l l y y | | [PAD] s s s i i t t t [PAD] u u u u u [PAD] [PAD] [PAD] [PAD] a a t t [PAD] e e d d | | [PAD] n n e e a a r | | t t h e e | | s s h h [PAD] [PAD] [PAD] [PAD] o o r r r r | [PAD] [PAD] [PAD] [PAD] [PAD] [PAD] [PAD] [PAD] [PAD]'"
            ],
            "application/vnd.google.colaboratory.intrinsic+json": {
              "type": "string"
            }
          },
          "metadata": {},
          "execution_count": 98
        }
      ]
    },
    {
      "cell_type": "markdown",
      "metadata": {
        "id": "tdO8E28g-n5C"
      },
      "source": [
        "The output should make it a bit clearer how CTC works in practice. The model is to some extent invariant to speaking rate since it has learned to either just repeat the same token in case the speech chunk to be classified still corresponds to the same token. This makes CTC a very powerful algorithm for speech recognition since the speech file's transcription is often very much independent of its length.\n",
        "\n",
        "I again advise the reader to take a look at [this](https://distill.pub/2017/ctc) very nice blog post to better understand CTC."
      ]
    },
    {
      "cell_type": "code",
      "metadata": {
        "colab": {
          "base_uri": "https://localhost:8080/"
        },
        "id": "8c666ea3",
        "outputId": "5a7180b7-76f4-4d98-e236-63597477af66"
      },
      "source": [
        "!pip install --upgrade huggingface_hub"
      ],
      "execution_count": 26,
      "outputs": [
        {
          "output_type": "stream",
          "name": "stdout",
          "text": [
            "Requirement already satisfied: huggingface_hub in /usr/local/lib/python3.11/dist-packages (0.34.1)\n",
            "Collecting huggingface_hub\n",
            "  Downloading huggingface_hub-0.34.3-py3-none-any.whl.metadata (14 kB)\n",
            "Requirement already satisfied: filelock in /usr/local/lib/python3.11/dist-packages (from huggingface_hub) (3.18.0)\n",
            "Requirement already satisfied: fsspec>=2023.5.0 in /usr/local/lib/python3.11/dist-packages (from huggingface_hub) (2025.3.0)\n",
            "Requirement already satisfied: packaging>=20.9 in /usr/local/lib/python3.11/dist-packages (from huggingface_hub) (25.0)\n",
            "Requirement already satisfied: pyyaml>=5.1 in /usr/local/lib/python3.11/dist-packages (from huggingface_hub) (6.0.2)\n",
            "Requirement already satisfied: requests in /usr/local/lib/python3.11/dist-packages (from huggingface_hub) (2.32.3)\n",
            "Requirement already satisfied: tqdm>=4.42.1 in /usr/local/lib/python3.11/dist-packages (from huggingface_hub) (4.67.1)\n",
            "Requirement already satisfied: typing-extensions>=3.7.4.3 in /usr/local/lib/python3.11/dist-packages (from huggingface_hub) (4.14.1)\n",
            "Requirement already satisfied: hf-xet<2.0.0,>=1.1.3 in /usr/local/lib/python3.11/dist-packages (from huggingface_hub) (1.1.5)\n",
            "Requirement already satisfied: charset-normalizer<4,>=2 in /usr/local/lib/python3.11/dist-packages (from requests->huggingface_hub) (3.4.2)\n",
            "Requirement already satisfied: idna<4,>=2.5 in /usr/local/lib/python3.11/dist-packages (from requests->huggingface_hub) (3.10)\n",
            "Requirement already satisfied: urllib3<3,>=1.21.1 in /usr/local/lib/python3.11/dist-packages (from requests->huggingface_hub) (2.5.0)\n",
            "Requirement already satisfied: certifi>=2017.4.17 in /usr/local/lib/python3.11/dist-packages (from requests->huggingface_hub) (2025.7.14)\n",
            "Downloading huggingface_hub-0.34.3-py3-none-any.whl (558 kB)\n",
            "\u001b[2K   \u001b[90m━━━━━━━━━━━━━━━━━━━━━━━━━━━━━━━━━━━━━━━━\u001b[0m \u001b[32m558.8/558.8 kB\u001b[0m \u001b[31m15.0 MB/s\u001b[0m eta \u001b[36m0:00:00\u001b[0m\n",
            "\u001b[?25hInstalling collected packages: huggingface_hub\n",
            "  Attempting uninstall: huggingface_hub\n",
            "    Found existing installation: huggingface-hub 0.34.1\n",
            "    Uninstalling huggingface-hub-0.34.1:\n",
            "      Successfully uninstalled huggingface-hub-0.34.1\n",
            "\u001b[31mERROR: pip's dependency resolver does not currently take into account all the packages that are installed. This behaviour is the source of the following dependency conflicts.\n",
            "sentence-transformers 4.1.0 requires transformers<5.0.0,>=4.41.0, but you have transformers 4.17.0 which is incompatible.\u001b[0m\u001b[31m\n",
            "\u001b[0mSuccessfully installed huggingface_hub-0.34.3\n"
          ]
        }
      ]
    },
    {
      "cell_type": "code",
      "metadata": {
        "colab": {
          "base_uri": "https://localhost:8080/"
        },
        "id": "a490bca4",
        "outputId": "4eb3673a-746c-4390-c76f-f57e0bf3dcfc"
      },
      "source": [
        "from huggingface_hub import HfApi\n",
        "import os\n",
        "\n",
        "api = HfApi()\n",
        "# Get the username of the logged-in user\n",
        "username = api.whoami()['name']\n",
        "repo_id = f\"{username}/{repo_name}\"\n",
        "\n",
        "# Create the repository if it doesn't exist\n",
        "try:\n",
        "    api.create_repo(repo_id, exist_ok=True)\n",
        "    print(f\"Repository {repo_id} created or already exists.\")\n",
        "except Exception as e:\n",
        "    print(f\"Error creating repository: {e}\")\n",
        "\n",
        "# Save the tokenizer locally\n",
        "tokenizer.save_pretrained(repo_name)\n",
        "\n",
        "# Upload the saved tokenizer files to the repository\n",
        "try:\n",
        "    api.upload_folder(\n",
        "        folder_path=repo_name,\n",
        "        repo_id=repo_id,\n",
        "        commit_message=f\"Add {repo_name} tokenizer files\"\n",
        "    )\n",
        "    print(f\"Tokenizer files uploaded to {repo_id}\")\n",
        "except Exception as e:\n",
        "    print(f\"Error uploading tokenizer files: {e}\")"
      ],
      "execution_count": 28,
      "outputs": [
        {
          "output_type": "stream",
          "name": "stdout",
          "text": [
            "Repository VinaySrigadi/wav2vec2-base-timit-demo-google-colab created or already exists.\n",
            "Tokenizer files uploaded to VinaySrigadi/wav2vec2-base-timit-demo-google-colab\n"
          ]
        }
      ]
    },
    {
      "cell_type": "code",
      "metadata": {
        "colab": {
          "base_uri": "https://localhost:8080/",
          "height": 895
        },
        "id": "13958673",
        "outputId": "d2eefb0b-2382-4947-9910-2ab6c07c9b4f"
      },
      "source": [
        "!pip install --upgrade datasets"
      ],
      "execution_count": 38,
      "outputs": [
        {
          "output_type": "stream",
          "name": "stdout",
          "text": [
            "Requirement already satisfied: datasets in /usr/local/lib/python3.11/dist-packages (1.18.3)\n",
            "Collecting datasets\n",
            "  Downloading datasets-4.0.0-py3-none-any.whl.metadata (19 kB)\n",
            "Requirement already satisfied: filelock in /usr/local/lib/python3.11/dist-packages (from datasets) (3.18.0)\n",
            "Requirement already satisfied: numpy>=1.17 in /usr/local/lib/python3.11/dist-packages (from datasets) (2.0.2)\n",
            "Requirement already satisfied: pyarrow>=15.0.0 in /usr/local/lib/python3.11/dist-packages (from datasets) (18.1.0)\n",
            "Requirement already satisfied: dill<0.3.9,>=0.3.0 in /usr/local/lib/python3.11/dist-packages (from datasets) (0.3.8)\n",
            "Requirement already satisfied: pandas in /usr/local/lib/python3.11/dist-packages (from datasets) (2.2.2)\n",
            "Requirement already satisfied: requests>=2.32.2 in /usr/local/lib/python3.11/dist-packages (from datasets) (2.32.3)\n",
            "Requirement already satisfied: tqdm>=4.66.3 in /usr/local/lib/python3.11/dist-packages (from datasets) (4.67.1)\n",
            "Requirement already satisfied: xxhash in /usr/local/lib/python3.11/dist-packages (from datasets) (3.5.0)\n",
            "Requirement already satisfied: multiprocess<0.70.17 in /usr/local/lib/python3.11/dist-packages (from datasets) (0.70.16)\n",
            "Requirement already satisfied: fsspec<=2025.3.0,>=2023.1.0 in /usr/local/lib/python3.11/dist-packages (from fsspec[http]<=2025.3.0,>=2023.1.0->datasets) (2025.3.0)\n",
            "Requirement already satisfied: huggingface-hub>=0.24.0 in /usr/local/lib/python3.11/dist-packages (from datasets) (0.34.3)\n",
            "Requirement already satisfied: packaging in /usr/local/lib/python3.11/dist-packages (from datasets) (25.0)\n",
            "Requirement already satisfied: pyyaml>=5.1 in /usr/local/lib/python3.11/dist-packages (from datasets) (6.0.2)\n",
            "Requirement already satisfied: aiohttp!=4.0.0a0,!=4.0.0a1 in /usr/local/lib/python3.11/dist-packages (from fsspec[http]<=2025.3.0,>=2023.1.0->datasets) (3.12.14)\n",
            "Requirement already satisfied: typing-extensions>=3.7.4.3 in /usr/local/lib/python3.11/dist-packages (from huggingface-hub>=0.24.0->datasets) (4.14.1)\n",
            "Requirement already satisfied: hf-xet<2.0.0,>=1.1.3 in /usr/local/lib/python3.11/dist-packages (from huggingface-hub>=0.24.0->datasets) (1.1.5)\n",
            "Requirement already satisfied: charset-normalizer<4,>=2 in /usr/local/lib/python3.11/dist-packages (from requests>=2.32.2->datasets) (3.4.2)\n",
            "Requirement already satisfied: idna<4,>=2.5 in /usr/local/lib/python3.11/dist-packages (from requests>=2.32.2->datasets) (3.10)\n",
            "Requirement already satisfied: urllib3<3,>=1.21.1 in /usr/local/lib/python3.11/dist-packages (from requests>=2.32.2->datasets) (2.5.0)\n",
            "Requirement already satisfied: certifi>=2017.4.17 in /usr/local/lib/python3.11/dist-packages (from requests>=2.32.2->datasets) (2025.7.14)\n",
            "Requirement already satisfied: python-dateutil>=2.8.2 in /usr/local/lib/python3.11/dist-packages (from pandas->datasets) (2.9.0.post0)\n",
            "Requirement already satisfied: pytz>=2020.1 in /usr/local/lib/python3.11/dist-packages (from pandas->datasets) (2025.2)\n",
            "Requirement already satisfied: tzdata>=2022.7 in /usr/local/lib/python3.11/dist-packages (from pandas->datasets) (2025.2)\n",
            "Requirement already satisfied: aiohappyeyeballs>=2.5.0 in /usr/local/lib/python3.11/dist-packages (from aiohttp!=4.0.0a0,!=4.0.0a1->fsspec[http]<=2025.3.0,>=2023.1.0->datasets) (2.6.1)\n",
            "Requirement already satisfied: aiosignal>=1.4.0 in /usr/local/lib/python3.11/dist-packages (from aiohttp!=4.0.0a0,!=4.0.0a1->fsspec[http]<=2025.3.0,>=2023.1.0->datasets) (1.4.0)\n",
            "Requirement already satisfied: attrs>=17.3.0 in /usr/local/lib/python3.11/dist-packages (from aiohttp!=4.0.0a0,!=4.0.0a1->fsspec[http]<=2025.3.0,>=2023.1.0->datasets) (25.3.0)\n",
            "Requirement already satisfied: frozenlist>=1.1.1 in /usr/local/lib/python3.11/dist-packages (from aiohttp!=4.0.0a0,!=4.0.0a1->fsspec[http]<=2025.3.0,>=2023.1.0->datasets) (1.7.0)\n",
            "Requirement already satisfied: multidict<7.0,>=4.5 in /usr/local/lib/python3.11/dist-packages (from aiohttp!=4.0.0a0,!=4.0.0a1->fsspec[http]<=2025.3.0,>=2023.1.0->datasets) (6.6.3)\n",
            "Requirement already satisfied: propcache>=0.2.0 in /usr/local/lib/python3.11/dist-packages (from aiohttp!=4.0.0a0,!=4.0.0a1->fsspec[http]<=2025.3.0,>=2023.1.0->datasets) (0.3.2)\n",
            "Requirement already satisfied: yarl<2.0,>=1.17.0 in /usr/local/lib/python3.11/dist-packages (from aiohttp!=4.0.0a0,!=4.0.0a1->fsspec[http]<=2025.3.0,>=2023.1.0->datasets) (1.20.1)\n",
            "Requirement already satisfied: six>=1.5 in /usr/local/lib/python3.11/dist-packages (from python-dateutil>=2.8.2->pandas->datasets) (1.17.0)\n",
            "Downloading datasets-4.0.0-py3-none-any.whl (494 kB)\n",
            "\u001b[2K   \u001b[90m━━━━━━━━━━━━━━━━━━━━━━━━━━━━━━━━━━━━━━━━\u001b[0m \u001b[32m494.8/494.8 kB\u001b[0m \u001b[31m15.0 MB/s\u001b[0m eta \u001b[36m0:00:00\u001b[0m\n",
            "\u001b[?25hInstalling collected packages: datasets\n",
            "  Attempting uninstall: datasets\n",
            "    Found existing installation: datasets 1.18.3\n",
            "    Uninstalling datasets-1.18.3:\n",
            "      Successfully uninstalled datasets-1.18.3\n",
            "Successfully installed datasets-4.0.0\n"
          ]
        },
        {
          "output_type": "display_data",
          "data": {
            "application/vnd.colab-display-data+json": {
              "pip_warning": {
                "packages": [
                  "datasets"
                ]
              },
              "id": "22c2c0dc1e644759ac63024665e9cf6e"
            }
          },
          "metadata": {}
        }
      ]
    }
  ]
}